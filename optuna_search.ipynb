{
 "cells": [
  {
   "cell_type": "markdown",
   "metadata": {},
   "source": [
    "***SIMULACIONES***"
   ]
  },
  {
   "cell_type": "markdown",
   "metadata": {},
   "source": [
    "Simulación Baja Resolución"
   ]
  },
  {
   "cell_type": "code",
   "execution_count": 25,
   "metadata": {},
   "outputs": [],
   "source": [
    "import pandas as pd\n",
    "import matplotlib.pyplot as plt\n",
    "from gurobipy import Model, GRB, quicksum\n",
    "import networkx as nx\n",
    "import warnings \n",
    "warnings.filterwarnings('ignore')\n",
    "import numpy as np\n",
    "import random\n",
    "import gurobipy as gp"
   ]
  },
  {
   "cell_type": "code",
   "execution_count": 61,
   "metadata": {},
   "outputs": [],
   "source": [
    "# LOAD DATA\n",
    "#Compatibility\n",
    "compatibility = pd.read_csv('/Users/valentina/Library/CloudStorage/OneDrive - UAI/TESIS/CODIGO/Datas_simulaciones/compatibilidad_total.csv', index_col=0)\n",
    "compatibility.index = range(len(compatibility))\n",
    "compatibility.columns = range(len(compatibility.columns))\n",
    "#Pairs, recipients and donors\n",
    "pairs = pd.read_csv('/Users/valentina/Library/CloudStorage/OneDrive - UAI/TESIS/CODIGO/Datas_simulaciones/parejas.csv',index_col=0)\n",
    "recipients = pd.read_csv('/Users/valentina/Library/CloudStorage/OneDrive - UAI/TESIS/CODIGO/Datas_simulaciones/receptores.csv',index_col=0)\n",
    "donors = pd.read_csv('/Users/valentina/Library/CloudStorage/OneDrive - UAI/TESIS/CODIGO/Datas_simulaciones/donantes.csv',index_col=0)\n",
    "#Weights\n",
    "hla_hr = pd.read_csv(\"/Users/valentina/Library/CloudStorage/OneDrive - UAI/TESIS/CODIGO/Datas_simulaciones/peso_ar.csv\",index_col=0)\n",
    "hla_lr = pd.read_csv(\"/Users/valentina/Library/CloudStorage/OneDrive - UAI/TESIS/CODIGO/Datas_simulaciones/peso_BR.csv\",index_col=0)\n",
    "hla_eplet = pd.read_csv(\"/Users/valentina/Library/CloudStorage/OneDrive - UAI/TESIS/CODIGO/Datas_simulaciones/peso_eplet.csv\",index_col=0)\n",
    "hla_hr.columns = hla_hr.columns.astype(int)\n",
    "hla_lr.columns = hla_lr.columns.astype(int)\n",
    "hla_eplet.columns = hla_eplet.columns.astype(int)"
   ]
  },
  {
   "cell_type": "code",
   "execution_count": 62,
   "metadata": {},
   "outputs": [],
   "source": [
    "# Data of each locus \n",
    "base = '/Users/valentina/Library/CloudStorage/OneDrive - UAI/TESIS/CODIGO/Datas_simulaciones/locis_por_separado/BR/'\n",
    "mats = {\n",
    "    'A': 'mismatch_BR_A.csv',\n",
    "    'B': 'mismatch_BR_B.csv',\n",
    "    'C': 'mismatch_BR_C.csv',\n",
    "    'DQ': 'mismatch_BR_DQ.csv',\n",
    "    'DR': 'mismatch_BR_DR.csv'\n",
    "}\n",
    "\n",
    "matrix_mismatch = {}\n",
    "for locus, archive in mats.items():\n",
    "    matrix_mismatch[locus] = pd.read_csv(base + archive, index_col=0)\n",
    "\n",
    "mismatch_ClassI = (\n",
    "    matrix_mismatch['A'] +\n",
    "    matrix_mismatch['B'] +\n",
    "    matrix_mismatch['C']\n",
    ")\n",
    "\n",
    "mismatch_DQ = matrix_mismatch['DQ']\n",
    "mismatch_DR = matrix_mismatch['DR']"
   ]
  },
  {
   "cell_type": "code",
   "execution_count": 63,
   "metadata": {},
   "outputs": [],
   "source": [
    "# Mismatch to HLA score\n",
    "HLA_DR = 2 - mismatch_DR\n",
    "HLA_DQ = 2- mismatch_DQ\n",
    "HLA_C1 = 6 - mismatch_ClassI"
   ]
  },
  {
   "cell_type": "code",
   "execution_count": 64,
   "metadata": {},
   "outputs": [],
   "source": [
    "# Creation of initial graph with graph resolution and a minimum of quality (k)\n",
    "def create_graph(pairs, compatibility, hla1, k):\n",
    "    G = nx.DiGraph()\n",
    "    added_edges = 0\n",
    "    for i in pairs.index:\n",
    "        for j in pairs.index:\n",
    "            if compatibility.at[i, j] == 1 and hla1.at[i, j] >= k:\n",
    "                G.add_edge(j, i, weight=hla1.at[i, j])\n",
    "                added_edges += 1\n",
    "    return G"
   ]
  },
  {
   "cell_type": "code",
   "execution_count": 65,
   "metadata": {},
   "outputs": [],
   "source": [
    "# Changing initial weights to optimization weights on the initial graph arcs\n",
    "def changing_resolution_weights(G, hla2):\n",
    "    for u, v, data in G.edges(data=True):\n",
    "        try:\n",
    "            data['weight'] = hla2.iloc[int(v), int(u)]\n",
    "        except KeyError:\n",
    "            print(f\"No se encontró peso para el arco ({u}, {v})\")\n",
    "        except Exception as e:\n",
    "            print(f\"Error al actualizar peso para el arco ({u}, {v}): {str(e)}\")\n"
   ]
  },
  {
   "cell_type": "code",
   "execution_count": 66,
   "metadata": {},
   "outputs": [],
   "source": [
    "# FOR OPTUNA\n",
    "\n",
    "def optimization(G, multipliers_ethnicity, l=3, k=3):\n",
    "    total_cycles = list(nx.simple_cycles(G, length_bound=3))\n",
    "    valid_cycles = [cycle for cycle in total_cycles if len(cycle) <= l and all(G[u][v]['weight'] >= k for u, v in zip(cycle, cycle[1:] + cycle[:1]))]\n",
    "    \n",
    "    P = len(G.nodes())  \n",
    "    Z = 10\n",
    "\n",
    "\n",
    "\n",
    "    # # ---- imprimir desglose ----\n",
    "    # for cycle in valid_cycles[:5]:  \n",
    "    #     print(f\"\\nCiclo {cycle}:\")\n",
    "    #     term = 0\n",
    "    #     for u, v in zip(cycle, cycle[1:] + cycle[:1]):\n",
    "    #         eth = recipients.loc[v, 'ETHCAT']\n",
    "    #         mult = multipliers_ethnicity.get(eth, 1.0)\n",
    "    #         w = G[u][v]['weight']\n",
    "\n",
    "    #         part1 = mult * 1\n",
    "    #         part2 = mult * (w / (P * Z))\n",
    "\n",
    "    #         term = term + part1 + part2\n",
    "\n",
    "\n",
    "    #         print(f\"  {u}->{v} | ETHCAT={eth} | multiplier={mult}\")\n",
    "    #         print(f\"    multiplier * 1 = {part1:.6f}\")\n",
    "    #         print(f\"    + multiplier * (w/(P*Z)) = {part2:.6f}  (w={w}, P={P}, Z={Z})\")\n",
    "\n",
    "    #     print(\"Term:\", term )\n",
    "    #     print(\"-\" * 50)\n",
    "\n",
    "\n",
    "    m = Model(\"optimization\")\n",
    "    m.setParam('OutputFlag', 0)\n",
    "\n",
    "    x = {\n",
    "        tuple(cycle): m.addVar(vtype=GRB.BINARY, \n",
    "                               name=f\"x_{'_'.join(map(str, cycle))}\") \n",
    "        for cycle in valid_cycles\n",
    "    }\n",
    "\n",
    "    m.setObjective(\n",
    "        quicksum(\n",
    "            x[tuple(cycle)] * \n",
    "            #(\n",
    "                sum(\n",
    "                multipliers_ethnicity.get(recipients.loc[v, 'ETHCAT'], 1.0) *\n",
    "                (1 + (G[u][v]['weight'] / (P * Z)))\n",
    "                for u, v in zip(cycle, cycle[1:] + cycle[:1])\n",
    "            )\n",
    "            #)/P\n",
    "            \n",
    "            for cycle in valid_cycles\n",
    "        ),\n",
    "        GRB.MAXIMIZE\n",
    "    )\n",
    "\n",
    "    for i in G.nodes():\n",
    "        m.addConstr(quicksum(x[tuple(cycle)] for cycle in valid_cycles if i in cycle) <= 1, \n",
    "                    name=f\"node_usage_{i}\")\n",
    "\n",
    "    try:\n",
    "        m.optimize()\n",
    "    except gp.GurobiError as e:\n",
    "        print(f\"⚠️ Error of Gurobi: {e}\")\n",
    "      \n",
    "        return None, [], True  \n",
    "\n",
    "    G_optimal = nx.DiGraph()\n",
    "    selected_cycles = []\n",
    "\n",
    "    if m.status == GRB.OPTIMAL:\n",
    "        for cycle in valid_cycles:\n",
    "            if x[tuple(cycle)].X > 0.5:\n",
    "                selected_cycles.append(cycle)\n",
    "                for i in range(len(cycle)):\n",
    "                    u, v = cycle[i], cycle[(i + 1) % len(cycle)]\n",
    "                    G_optimal.add_edge(u, v, weight=G[u][v]['weight'])\n",
    "\n",
    "\n",
    "    return G_optimal, selected_cycles, False\n"
   ]
  },
  {
   "cell_type": "code",
   "execution_count": null,
   "metadata": {},
   "outputs": [],
   "source": [
    "# Complete definition of the simulation\n",
    "\n",
    "def update_matrices(indexes, df):\n",
    "    return df.iloc[indexes, indexes]\n",
    "frequiency_waiting_nodes = {}\n",
    "\n",
    "def run_simulation(total_time, arrival_rate, departure_rate, match_run, pairs, compatibility, hla_lr, hla_hr, hla_eplet, multipliers_ethnicity):\n",
    "    # Evaluation at different resolutions\n",
    "    #np.random.seed(40)\n",
    "    lr_quality_ethcat1 = []\n",
    "    lr_quality_ethcat2 = []\n",
    "    lr_quality_ethcat4 = []\n",
    "    lr_quality_ethcat5 = []\n",
    "    lr_quality_ethcat6 = []\n",
    "    lr_quality_ethcat7 = []\n",
    "    \n",
    "    hr_quality_ethcat1 = []\n",
    "    hr_quality_ethcat2 = []\n",
    "    hr_quality_ethcat4 = []\n",
    "    hr_quality_ethcat5 = []\n",
    "    hr_quality_ethcat6 = []\n",
    "    hr_quality_ethcat7 = []\n",
    "\n",
    "    e_quality_ethcat1 = []\n",
    "    e_quality_ethcat2 = []\n",
    "    e_quality_ethcat4 = []\n",
    "    e_quality_ethcat5 = []\n",
    "    e_quality_ethcat6 = []\n",
    "    e_quality_ethcat7 = []\n",
    "\n",
    "    waiting_list = []\n",
    "    waiting_times = {}  \n",
    "    arrivals_by_ethcat = {}\n",
    "    historial_cycles = []\n",
    "    historial_departures = []\n",
    "    cont=0\n",
    "    available_indexes = set(pairs.index)\n",
    "\n",
    "    \n",
    "    departures_by_ethcat = {1: [], 2: [], 4: [], 5: [], 6: [], 7: []}\n",
    "    HLA_classI_ethcat = {1: [], 2: [], 4: [], 5: [], 6: [], 7: []}\n",
    "    HLA_DR_ethcat = {1: [], 2: [], 4: [], 5: [], 6: [], 7: []}\n",
    "    HLA_DQ_ethcat = {1: [], 2: [], 4: [], 5: [], 6: [], 7: []}\n",
    "\n",
    "    # Simulation per month\n",
    "    for month in range(total_time):\n",
    "     \n",
    "        selected_cycles = []\n",
    "       \n",
    "        new_entries = np.random.poisson(arrival_rate)\n",
    "        new_entries = min(new_entries, len(available_indexes))\n",
    "        new_index = np.random.choice(list(available_indexes), size=new_entries, replace=False)\n",
    "        cont+= len(new_index)\n",
    "        waiting_list.extend(new_index)\n",
    "        available_indexes.difference_update(new_index)\n",
    "\n",
    "        for idx in new_index:\n",
    "            waiting_times[idx] = {'arrival': month}\n",
    "            ethnicity = recipients.loc[recipients['Nodo'] == idx, 'ETHCAT'].iloc[0]\n",
    "            if ethnicity in arrivals_by_ethcat:\n",
    "                arrivals_by_ethcat[ethnicity] += 1\n",
    "            else:\n",
    "                arrivals_by_ethcat[ethnicity] = 1\n",
    "        \n",
    " \n",
    "        departure = np.random.poisson(departure_rate)\n",
    "        departure_indexes = [] \n",
    "        if departure:\n",
    "            departure = min(departure, len(waiting_list))\n",
    "            departure_indexes = np.random.choice(waiting_list, size=departure, replace=False)\n",
    "            waiting_list = [idx for idx in waiting_list if idx not in departure_indexes]\n",
    "            historial_departures.extend(departure_indexes)\n",
    "\n",
    "        for idx in departure_indexes:\n",
    "            ethnicity = recipients.loc[idx, 'ETHCAT']\n",
    "            departures_by_ethcat[ethnicity].append(idx)\n",
    "\n",
    "        if (month + 1) % match_run == 0:\n",
    "            waiting_list_index = waiting_list.copy()\n",
    "            df_waiting_list = pairs.loc[waiting_list_index]\n",
    "            \n",
    "            filtered_compatibility = update_matrices(waiting_list_index, compatibility)\n",
    "            filtered_weight = update_matrices(waiting_list_index, hla_lr) # Insert the resolution data that you want for create the graph\n",
    "            \n",
    "    \n",
    "            G = create_graph(df_waiting_list, filtered_compatibility, filtered_weight, k= 3) # Insert the minimum weight for create the graph \n",
    "            changing_resolution_weights(G, hla_lr) # Insert the resolution data that you want for the optimization\n",
    "\n",
    "            \n",
    "            \n",
    "            G_optimal, selected_cycles,  error_gurobi = optimization(G, multipliers_ethnicity, l=3, k=3 ) # Insert the minimum quality that you want for the cycles \n",
    "\n",
    "            if error_gurobi:\n",
    "                # Error real de Gurobi → penalizamos\n",
    "                return float(\"inf\"), None\n",
    "\n",
    "            for u, v, data in G_optimal.edges(data=True):\n",
    "                node_ethcat = recipients.loc[v, 'ETHCAT'] \n",
    "                \n",
    "                # HLA for differents loci (optimization resolution)\n",
    "                value_HLA_classI = HLA_C1.iloc[v, u]\n",
    "                value_HLA_DR = HLA_DR.iloc[v, u]\n",
    "                value_HLA_DQ = HLA_DQ.iloc[v, u]\n",
    "\n",
    "                HLA_classI_ethcat[node_ethcat].append(value_HLA_classI)\n",
    "                HLA_DR_ethcat[node_ethcat].append(value_HLA_DR)\n",
    "                HLA_DQ_ethcat[node_ethcat].append(value_HLA_DQ)\n",
    "\n",
    "\n",
    "                if node_ethcat == 1:\n",
    "                    lr_quality_ethcat1.append(hla_lr.iloc[v, u])\n",
    "                    hr_quality_ethcat1.append(hla_hr.iloc[v, u])\n",
    "                    e_quality_ethcat1.append(hla_eplet.iloc[v, u])\n",
    "                elif node_ethcat == 2:\n",
    "                    lr_quality_ethcat2.append(hla_lr.iloc[v, u])\n",
    "                    hr_quality_ethcat2.append(hla_hr.iloc[v, u])\n",
    "                    e_quality_ethcat2.append(hla_eplet.iloc[v, u])\n",
    "                elif node_ethcat == 4:\n",
    "                    lr_quality_ethcat4.append(hla_lr.iloc[v, u])\n",
    "                    hr_quality_ethcat4.append(hla_hr.iloc[v, u])\n",
    "                    e_quality_ethcat4.append(hla_eplet.iloc[v, u])\n",
    "                elif node_ethcat == 5:\n",
    "                    lr_quality_ethcat5.append(hla_lr.iloc[v, u])\n",
    "                    hr_quality_ethcat5.append(hla_hr.iloc[v, u])\n",
    "                    e_quality_ethcat5.append(hla_eplet.iloc[v, u])\n",
    "                elif node_ethcat == 6:\n",
    "                    lr_quality_ethcat6.append(hla_lr.iloc[v, u])\n",
    "                    hr_quality_ethcat6.append(hla_hr.iloc[v, u])\n",
    "                    e_quality_ethcat6.append(hla_eplet.iloc[v, u])\n",
    "                elif node_ethcat == 7:\n",
    "                    lr_quality_ethcat7.append(hla_lr.iloc[v, u])\n",
    "                    hr_quality_ethcat7.append(hla_hr.iloc[v, u])\n",
    "                    e_quality_ethcat7.append(hla_eplet.iloc[v, u])\n",
    "            historial_cycles.extend(selected_cycles)\n",
    "\n",
    "            nodes_in_cycles = [node for cycle in selected_cycles for node in cycle]\n",
    "            waiting_list = [idx for idx in waiting_list if idx not in nodes_in_cycles]\n",
    "            for idx in nodes_in_cycles:\n",
    "                waiting_times[idx]['departure'] = month\n",
    "\n",
    "    nodes_in_historial = [node for cycle in historial_cycles for node in cycle]\n",
    "\n",
    "    data = []\n",
    "\n",
    "    for idx in nodes_in_historial:\n",
    "        if idx in waiting_times:\n",
    "            waiting_time = waiting_times[idx]['departure'] - waiting_times[idx]['arrival']\n",
    "            ethnicity = recipients.loc[idx, 'ETHCAT'] \n",
    "            data.append({'node': idx, 'waiting time (months)': waiting_time, 'ethnicity': ethnicity})\n",
    "\n",
    "    \n",
    "\n",
    "    df_ethnicity = pd.DataFrame(data)\n",
    "    df_ethnicity['ethnicity'] = df_ethnicity['ethnicity'].astype(int)\n",
    "    df_ethnicity1 = df_ethnicity[df_ethnicity['ethnicity'] == 1]\n",
    "    df_ethnicity2 = df_ethnicity[df_ethnicity['ethnicity'] == 2]\n",
    "    df_ethnicity4 = df_ethnicity[df_ethnicity['ethnicity'] == 4]\n",
    "    df_ethnicity5 = df_ethnicity[df_ethnicity['ethnicity'] == 5]\n",
    "    df_ethnicity6 = df_ethnicity[df_ethnicity['ethnicity'] == 6]\n",
    "    df_ethnicity7 = df_ethnicity[df_ethnicity['ethnicity'] == 7]\n",
    "    waiting_time_mean_1 = df_ethnicity1['waiting time (months)'].mean()\n",
    "    waiting_time_mean_2 = df_ethnicity2['waiting time (months)'].mean()\n",
    "    waiting_time_mean_4 = df_ethnicity4['waiting time (months)'].mean()\n",
    "    waiting_time_mean_5 = df_ethnicity5['waiting time (months)'].mean()\n",
    "    waiting_time_mean_6 = df_ethnicity6['waiting time (months)'].mean()\n",
    "    waiting_time_mean_7 = df_ethnicity7['waiting time (months)'].mean()\n",
    "\n",
    "    \n",
    "    outgoing_per_ethcat = {e: len(departures_by_ethcat[e]) for e in [1,2,4,5,6,7]}\n",
    "    L_per_ethcat  = {e: outgoing_per_ethcat [e] / arrivals_by_ethcat.get(e, 1) for e in outgoing_per_ethcat } \n",
    "    F_per_ethcat  = {e: len([c for c in historial_cycles for n in c if recipients.loc[n,'ETHCAT']==e]) / arrivals_by_ethcat.get(e, 1)\n",
    "                   for e in [1,2,4,5,6,7]}  \n",
    "    \n",
    "     \n",
    "    total_trasplants = sum(len(cycle) for cycle in historial_cycles)\n",
    "    total_entries = sum(arrivals_by_ethcat.values())\n",
    "    F_total = total_trasplants / total_entries if total_entries > 0 else 0\n",
    "\n",
    "\n",
    "     \n",
    "\n",
    "    return {\n",
    "        'historial_cycles': historial_cycles,\n",
    "        'historial_departures': historial_departures,\n",
    "        'entries_nodes': cont,\n",
    "        'arrivals_by_ethcat': arrivals_by_ethcat,\n",
    "        'waiting_time_mean1':   waiting_time_mean_1 ,\n",
    "        'waiting_time_mean2':   waiting_time_mean_2,\n",
    "        'waiting_time_mean4':   waiting_time_mean_4,\n",
    "        'waiting_time_mean5':   waiting_time_mean_5,\n",
    "        'waiting_time_mean6':   waiting_time_mean_6,\n",
    "        'waiting_time_mean7':   waiting_time_mean_7,\n",
    "        'lr_quality_ethcat1': np.mean(lr_quality_ethcat1),\n",
    "        'lr_quality_ethcat2': np.mean(lr_quality_ethcat2),\n",
    "        'lr_quality_ethcat4': np.mean(lr_quality_ethcat4),\n",
    "        'lr_quality_ethcat5': np.mean(lr_quality_ethcat5),\n",
    "        'lr_quality_ethcat6': np.mean(lr_quality_ethcat6),\n",
    "        'lr_quality_ethcat7': np.mean(lr_quality_ethcat7),\n",
    "\n",
    "        'hr_quality_ethcat1': np.mean(hr_quality_ethcat1),\n",
    "        'hr_quality_ethcat2': np.mean(hr_quality_ethcat2),\n",
    "        'hr_quality_ethcat4': np.mean(hr_quality_ethcat4),\n",
    "        'hr_quality_ethcat5': np.mean(hr_quality_ethcat5),\n",
    "        'hr_quality_ethcat6': np.mean(hr_quality_ethcat6),\n",
    "        'hr_quality_ethcat7': np.mean(hr_quality_ethcat7),\n",
    "\n",
    "        'e_quality_ethcat1': np.mean(e_quality_ethcat1),\n",
    "        'e_quality_ethcat2': np.mean(e_quality_ethcat2),\n",
    "        'e_quality_ethcat4': np.mean(e_quality_ethcat4),\n",
    "        'e_quality_ethcat5': np.mean(e_quality_ethcat5),\n",
    "        'e_quality_ethcat6': np.mean(e_quality_ethcat6),\n",
    "        'e_quality_ethcat7': np.mean(e_quality_ethcat7),\n",
    "        'avg_ClassI_HLA_ethcat1': np.mean(HLA_classI_ethcat[1]), \n",
    "        'avg_ClassI_HLA_ethcat2': np.mean(HLA_classI_ethcat[2]),\n",
    "        'avg_ClassI_HLA_ethcat4': np.mean(HLA_classI_ethcat[4]),\n",
    "        'avg_ClassI_HLA_ethcat5': np.mean(HLA_classI_ethcat[5]),\n",
    "        'avg_ClassI_HLA_ethcat6': np.mean(HLA_classI_ethcat[6]),\n",
    "        'avg_ClassI_HLA_ethcat7': np.mean(HLA_classI_ethcat[7]), \n",
    "        'HLA_ClassI_total': np.mean(\n",
    "                                    HLA_classI_ethcat[1] + \n",
    "                                    HLA_classI_ethcat[2] + \n",
    "                                    HLA_classI_ethcat[4] + \n",
    "                                    HLA_classI_ethcat[5] + \n",
    "                                    HLA_classI_ethcat[6] + \n",
    "                                    HLA_classI_ethcat[7]\n",
    "                                ),\n",
    "\n",
    "        'avg_DR_HLA_ethcat1': np.mean(HLA_DR_ethcat[1]), \n",
    "        'avg_DR_HLA_ethcat2': np.mean(HLA_DR_ethcat[2]),\n",
    "        'avg_DR_HLA_ethcat4': np.mean(HLA_DR_ethcat[4]),\n",
    "        'avg_DR_HLA_ethcat5': np.mean(HLA_DR_ethcat[5]),\n",
    "        'avg_DR_HLA_ethcat6': np.mean(HLA_DR_ethcat[6]),\n",
    "        'avg_DR_HLA_ethcat7': np.mean(HLA_DR_ethcat[7]), \n",
    "        'HLA_DR_total': np.mean(\n",
    "                                    HLA_DR_ethcat[1] + \n",
    "                                    HLA_DR_ethcat[2] + \n",
    "                                    HLA_DR_ethcat[4] + \n",
    "                                    HLA_DR_ethcat[5] + \n",
    "                                    HLA_DR_ethcat[6] + \n",
    "                                    HLA_DR_ethcat[7]\n",
    "                                ),\n",
    "\n",
    "        'avg_DQ_HLA_ethcat1': np.mean(HLA_DQ_ethcat[1]), \n",
    "        'avg_DQ_HLA_ethcat2': np.mean(HLA_DQ_ethcat[2]),\n",
    "        'avg_DQ_HLA_ethcat4': np.mean(HLA_DQ_ethcat[4]),\n",
    "        'avg_DQ_HLA_ethcat5': np.mean(HLA_DQ_ethcat[5]),\n",
    "        'avg_DQ_HLA_ethcat6': np.mean(HLA_DQ_ethcat[6]),\n",
    "        'avg_DQ_HLA_ethcat7': np.mean(HLA_DQ_ethcat[7]), \n",
    "        'HLA_DQ_total': np.mean(\n",
    "                                    HLA_DQ_ethcat[1] + \n",
    "                                    HLA_DQ_ethcat[2] + \n",
    "                                    HLA_DQ_ethcat[4] + \n",
    "                                    HLA_DQ_ethcat[5] + \n",
    "                                    HLA_DQ_ethcat[6] + \n",
    "                                    HLA_DQ_ethcat[7]\n",
    "                                ),\n",
    "\n",
    "        'F_per_ethcat': F_per_ethcat,        \n",
    "        'L_per_ethcat' : L_per_ethcat,          \n",
    "        'F_total': F_total,\n",
    "        'lr_quality_total': np.mean(\n",
    "                                    lr_quality_ethcat1 + \n",
    "                                    lr_quality_ethcat2 + \n",
    "                                    lr_quality_ethcat4 + \n",
    "                                    lr_quality_ethcat5 + \n",
    "                                    lr_quality_ethcat6 + \n",
    "                                    lr_quality_ethcat7\n",
    "                                ),\n",
    "        'hr_quality_total': np.mean(\n",
    "                                    hr_quality_ethcat1 + \n",
    "                                    hr_quality_ethcat2 + \n",
    "                                    hr_quality_ethcat4 + \n",
    "                                    hr_quality_ethcat5 + \n",
    "                                    hr_quality_ethcat6 + \n",
    "                                    hr_quality_ethcat7\n",
    "                                ),\n",
    "        'e_quality_total': np.mean(\n",
    "                                    e_quality_ethcat1 + \n",
    "                                    e_quality_ethcat2 + \n",
    "                                    e_quality_ethcat4 + \n",
    "                                    e_quality_ethcat5 + \n",
    "                                    e_quality_ethcat6 + \n",
    "                                    e_quality_ethcat7\n",
    "                                ),\n",
    "        'Waiting_time_mean': pd.concat([\n",
    "                                    df_ethnicity1['waiting time (months)'],\n",
    "                                    df_ethnicity2['waiting time (months)'],\n",
    "                                    df_ethnicity4['waiting time (months)'],\n",
    "                                    df_ethnicity5['waiting time (months)'],\n",
    "                                    df_ethnicity6['waiting time (months)'],\n",
    "                                    df_ethnicity7['waiting time (months)']\n",
    "                                    ]).mean()\n",
    "\n",
    "\n",
    "        }"
   ]
  },
  {
   "cell_type": "code",
   "execution_count": 45,
   "metadata": {},
   "outputs": [],
   "source": [
    "def objective_function(m1, m2, m4, m5):\n",
    "    \n",
    "    multipliers_ethnicity = {\n",
    "    1: m1,\n",
    "    2: m2,\n",
    "    4: m4,\n",
    "    5: m5,\n",
    "    6: 1.0,\n",
    "    7: 1.0\n",
    "}\n",
    "\n",
    "\n",
    "\n",
    "    simulations_results = []\n",
    "    for i in range(100):\n",
    "        #print(f\"Runing simulation {i + 1} of 100\")\n",
    "        results = run_simulation(\n",
    "            total_time=10*12, \n",
    "            arrival_rate=(990/(10*12)), \n",
    "            departure_rate=((990/(10*12))*0.29), \n",
    "            match_run=3,\n",
    "            pairs=pairs, \n",
    "            compatibility=compatibility, \n",
    "            hla_lr = hla_lr,\n",
    "            hla_hr=hla_hr,\n",
    "            hla_eplet= hla_eplet,\n",
    "            multipliers_ethnicity= multipliers_ethnicity\n",
    "        )\n",
    "    \n",
    "        simulations_results.append({\n",
    "            'simulation': i + 1,\n",
    "            'cycles': results['historial_cycles'],\n",
    "            'total_cycles': len(results['historial_cycles']),\n",
    "            'total_departures': len(results['historial_departures']),\n",
    "            'total_entries': results['entries_nodes'],\n",
    "            'arrivals_by_ethcat': results['arrivals_by_ethcat'],\n",
    "            'waiting_time_mean1':   results['waiting_time_mean1'] ,\n",
    "            'waiting_time_mean2':   results['waiting_time_mean2'],\n",
    "            'waiting_time_mean4':   results['waiting_time_mean4'],\n",
    "            'waiting_time_mean5':   results['waiting_time_mean5'],\n",
    "            'waiting_time_mean6':   results['waiting_time_mean6'],\n",
    "            'waiting_time_mean7':   results['waiting_time_mean7'],\n",
    "            'lr_quality_ethcat1': results['lr_quality_ethcat1'],\n",
    "            'lr_quality_ethcat2': results['lr_quality_ethcat2'],\n",
    "            'lr_quality_ethcat4': results['lr_quality_ethcat4'],\n",
    "            'lr_quality_ethcat5': results['lr_quality_ethcat5'],\n",
    "            'lr_quality_ethcat6': results['lr_quality_ethcat6'],\n",
    "            'lr_quality_ethcat7': results['lr_quality_ethcat7'],\n",
    "            'hr_quality_ethcat1': results['hr_quality_ethcat1'],\n",
    "            'hr_quality_ethcat2': results['hr_quality_ethcat2'],\n",
    "            'hr_quality_ethcat4': results['hr_quality_ethcat4'],\n",
    "            'hr_quality_ethcat5': results['hr_quality_ethcat5'],\n",
    "            'hr_quality_ethcat6': results['hr_quality_ethcat6'],\n",
    "            'hr_quality_ethcat7': results['hr_quality_ethcat7'],\n",
    "            'e_quality_ethcat1': results['e_quality_ethcat1'],\n",
    "            'e_quality_ethcat2': results['e_quality_ethcat2'],\n",
    "            'e_quality_ethcat4': results['e_quality_ethcat4'],\n",
    "            'e_quality_ethcat5': results['e_quality_ethcat5'],\n",
    "            'e_quality_ethcat6': results['e_quality_ethcat6'],\n",
    "            'e_quality_ethcat7': results['e_quality_ethcat7'],\n",
    "            'avg_ClassI_HLA_ethcat1': results['avg_ClassI_HLA_ethcat1'],\n",
    "            'avg_ClassI_HLA_ethcat2': results['avg_ClassI_HLA_ethcat2'],\n",
    "            'avg_ClassI_HLA_ethcat4': results['avg_ClassI_HLA_ethcat4'],\n",
    "            'avg_ClassI_HLA_ethcat5': results['avg_ClassI_HLA_ethcat5'],\n",
    "            'avg_ClassI_HLA_ethcat6': results['avg_ClassI_HLA_ethcat6'],\n",
    "            'avg_ClassI_HLA_ethcat7': results['avg_ClassI_HLA_ethcat7'],\n",
    "            'HLA_ClassI_total': results['HLA_ClassI_total'],\n",
    "\n",
    "            'avg_DR_HLA_ethcat1': results['avg_DR_HLA_ethcat1'],\n",
    "            'avg_DR_HLA_ethcat2': results['avg_DR_HLA_ethcat2'],\n",
    "            'avg_DR_HLA_ethcat4': results['avg_DR_HLA_ethcat4'],\n",
    "            'avg_DR_HLA_ethcat5': results['avg_DR_HLA_ethcat5'],\n",
    "            'avg_DR_HLA_ethcat6': results['avg_DR_HLA_ethcat6'],\n",
    "            'avg_DR_HLA_ethcat7': results['avg_DR_HLA_ethcat7'],\n",
    "            'HLA_DR_total': results['HLA_DR_total'],\n",
    "            \n",
    "\n",
    "            'avg_DQ_HLA_ethcat1': results['avg_DQ_HLA_ethcat1'],\n",
    "            'avg_DQ_HLA_ethcat2': results['avg_DQ_HLA_ethcat2'],\n",
    "            'avg_DQ_HLA_ethcat4': results['avg_DQ_HLA_ethcat4'],\n",
    "            'avg_DQ_HLA_ethcat5': results['avg_DQ_HLA_ethcat5'],\n",
    "            'avg_DQ_HLA_ethcat6': results['avg_DQ_HLA_ethcat6'],\n",
    "            'avg_DQ_HLA_ethcat7': results['avg_DQ_HLA_ethcat7'],\n",
    "            'HLA_DQ_total': results['HLA_DQ_total'],\n",
    "\n",
    "            'F_per_ethcat':   results['F_per_ethcat'],   \n",
    "            'L_per_ethcat':   results['L_per_ethcat'],   \n",
    "            'F_total': results['F_total'],\n",
    "            'lr_quality_total': results['lr_quality_total'],\n",
    "            'hr_quality_total': results['hr_quality_total'],\n",
    "            'e_quality_total': results['e_quality_total'],\n",
    "            'Waiting_time_mean': results['Waiting_time_mean']\n",
    "        })\n",
    "        \n",
    "        \n",
    "    df_results = pd.DataFrame(simulations_results)\n",
    "    F_P = np.mean(df_results['F_total'])\n",
    "    HLA_P = np.mean(df_results['e_quality_total'])\n",
    "    results_ethnicity = []\n",
    "\n",
    "    for index, row in df_results.iterrows():\n",
    "        nodes = set(nodo for ciclo in row['cycles'] for nodo in ciclo)\n",
    "        df_nodes = recipients[recipients['Nodo'].isin(nodes)]\n",
    "        count_ethnicity = df_nodes['ETHCAT'].value_counts().to_dict()\n",
    "        results_ethnicity .append({'simulation': row['simulation'], **count_ethnicity})\n",
    "\n",
    "    df_results_ethnicity  = pd.DataFrame(results_ethnicity ).fillna(0)\n",
    "    arrivals_by_ethcat = pd.DataFrame(df_results['arrivals_by_ethcat'].tolist())\n",
    "    arrivals_by_ethcat_mean = arrivals_by_ethcat.mean()\n",
    "    target_ethnicity = [1, 2, 4, 5]\n",
    "    m = sum(arrivals_by_ethcat_mean[e] for e in target_ethnicity)\n",
    "    transplant_by_ethcat_mean = df_results_ethnicity.mean()\n",
    "    percentage_by_ethnicity = (transplant_by_ethcat_mean) / arrivals_by_ethcat_mean\n",
    "    quality = df_results[\n",
    "        ['e_quality_ethcat1', 'e_quality_ethcat2', 'e_quality_ethcat4', 'e_quality_ethcat5']\n",
    "    ].mean()\n",
    "\n",
    "    kpi_total = 0\n",
    "\n",
    "    for e in target_ethnicity:\n",
    "        s = arrivals_by_ethcat_mean[e]\n",
    "        F_s = percentage_by_ethnicity[e]\n",
    "        HLA_s = quality[f'e_quality_ethcat{e}']\n",
    "        term = (s / m) * (abs(F_s - F_P) + (1/m)*abs(HLA_s - HLA_P))\n",
    "        kpi_total += term\n",
    "        print(f\"For ethcat {e} : s = {s}, m = {m}, F_s = {F_s}, F_P = {F_P}, HLA_s = {HLA_s}, HLA_P = {HLA_P} \")\n",
    "\n",
    "    \n",
    "\n",
    "    return kpi_total\n",
    "\n"
   ]
  },
  {
   "cell_type": "code",
   "execution_count": 46,
   "metadata": {},
   "outputs": [
    {
     "name": "stderr",
     "output_type": "stream",
     "text": [
      "[I 2025-08-11 18:33:27,482] A new study created in memory with name: no-name-bcb2d159-c23c-4cd0-a9ca-3b19be980c44\n",
      "[I 2025-08-11 18:34:44,501] Trial 0 finished with value: 0.03941295348732311 and parameters: {'m1': 1.0, 'm2': 1.0, 'm4': 1.0, 'm5': 1.0}. Best is trial 0 with value: 0.03941295348732311.\n"
     ]
    },
    {
     "name": "stdout",
     "output_type": "stream",
     "text": [
      "For ethcat 1 : s = 592.13, m = 965.35, F_s = 0.6802053603093915, F_P = 0.6487062641464899, HLA_s = 96.66020353818035, HLA_P = 95.67059174904007 \n",
      "For ethcat 2 : s = 170.39, m = 965.35, F_s = 0.6341334585362991, F_P = 0.6487062641464899, HLA_s = 93.93100266789394, HLA_P = 95.67059174904007 \n",
      "For ethcat 4 : s = 147.33, m = 965.35, F_s = 0.5841308626892011, F_P = 0.6487062641464899, HLA_s = 94.60764689332804, HLA_P = 95.67059174904007 \n",
      "For ethcat 5 : s = 55.5, m = 965.35, F_s = 0.5381981981981983, F_P = 0.6487062641464899, HLA_s = 92.37798982427198, HLA_P = 95.67059174904007 \n"
     ]
    },
    {
     "name": "stderr",
     "output_type": "stream",
     "text": [
      "[I 2025-08-11 18:36:03,591] Trial 1 finished with value: 0.05016772669114298 and parameters: {'m1': 0.97, 'm2': 1.1600000000000001, 'm4': 0.93, 'm5': 1.78}. Best is trial 0 with value: 0.03941295348732311.\n"
     ]
    },
    {
     "name": "stdout",
     "output_type": "stream",
     "text": [
      "For ethcat 1 : s = 590.39, m = 962.5600000000001, F_s = 0.6606480462067448, F_P = 0.6491523711547414, HLA_s = 94.752669281331, HLA_P = 93.78182988640789 \n",
      "For ethcat 2 : s = 169.76, m = 962.5600000000001, F_s = 0.7323279924599434, F_P = 0.6491523711547414, HLA_s = 92.39675769653351, HLA_P = 93.78182988640789 \n",
      "For ethcat 4 : s = 147.08, m = 962.5600000000001, F_s = 0.4881017133532771, F_P = 0.6491523711547414, HLA_s = 92.48221897559952, HLA_P = 93.78182988640789 \n",
      "For ethcat 5 : s = 55.33, m = 962.5600000000001, F_s = 0.694559913247786, F_P = 0.6491523711547414, HLA_s = 91.26684862039967, HLA_P = 93.78182988640789 \n"
     ]
    },
    {
     "name": "stderr",
     "output_type": "stream",
     "text": [
      "[I 2025-08-11 18:37:24,810] Trial 2 finished with value: 0.0427322083791261 and parameters: {'m1': 0.61, 'm2': 0.97, 'm4': 1.59, 'm5': 1.12}. Best is trial 0 with value: 0.03941295348732311.\n"
     ]
    },
    {
     "name": "stdout",
     "output_type": "stream",
     "text": [
      "For ethcat 1 : s = 591.0, m = 962.78, F_s = 0.6168020304568528, F_P = 0.6511706113367295, HLA_s = 94.28975904921589, HLA_P = 93.48549826231717 \n",
      "For ethcat 2 : s = 169.62, m = 962.78, F_s = 0.6957316354203514, F_P = 0.6511706113367295, HLA_s = 92.23473642778357, HLA_P = 93.48549826231717 \n",
      "For ethcat 4 : s = 147.01, m = 962.78, F_s = 0.7351880824433712, F_P = 0.6511706113367295, HLA_s = 93.06535332170616, HLA_P = 93.48549826231717 \n",
      "For ethcat 5 : s = 55.15, m = 962.78, F_s = 0.6511332728921124, F_P = 0.6511706113367295, HLA_s = 91.0454107999816, HLA_P = 93.48549826231717 \n"
     ]
    },
    {
     "name": "stderr",
     "output_type": "stream",
     "text": [
      "[I 2025-08-11 18:38:49,001] Trial 3 finished with value: 0.03474652516209947 and parameters: {'m1': 0.56, 'm2': 0.9500000000000001, 'm4': 0.97, 'm5': 1.25}. Best is trial 3 with value: 0.03474652516209947.\n"
     ]
    },
    {
     "name": "stdout",
     "output_type": "stream",
     "text": [
      "For ethcat 1 : s = 589.99, m = 961.31, F_s = 0.626180104747538, F_P = 0.6545421108328782, HLA_s = 94.28390055200809, HLA_P = 93.49194526177362 \n",
      "For ethcat 2 : s = 169.39, m = 961.31, F_s = 0.6952594604167897, F_P = 0.6545421108328782, HLA_s = 92.21387033954528, HLA_P = 93.49194526177362 \n",
      "For ethcat 4 : s = 146.67, m = 961.31, F_s = 0.7017113247426195, F_P = 0.6545421108328782, HLA_s = 93.09844184862061, HLA_P = 93.49194526177362 \n",
      "For ethcat 5 : s = 55.26, m = 961.31, F_s = 0.6898298950416214, F_P = 0.6545421108328782, HLA_s = 91.19281476581342, HLA_P = 93.49194526177362 \n"
     ]
    },
    {
     "name": "stderr",
     "output_type": "stream",
     "text": [
      "[I 2025-08-11 18:40:10,135] Trial 4 finished with value: 0.045459454819142965 and parameters: {'m1': 0.77, 'm2': 1.35, 'm4': 1.63, 'm5': 1.2}. Best is trial 3 with value: 0.03474652516209947.\n"
     ]
    },
    {
     "name": "stdout",
     "output_type": "stream",
     "text": [
      "For ethcat 1 : s = 589.74, m = 960.91, F_s = 0.6179672398005901, F_P = 0.6493615186582105, HLA_s = 94.29325553301618, HLA_P = 93.51986203001748 \n",
      "For ethcat 2 : s = 169.3, m = 960.91, F_s = 0.7141169521559362, F_P = 0.6493615186582105, HLA_s = 92.33605734451181, HLA_P = 93.51986203001748 \n",
      "For ethcat 4 : s = 146.58, m = 960.91, F_s = 0.7205621503615772, F_P = 0.6493615186582105, HLA_s = 93.13166671340008, HLA_P = 93.51986203001748 \n",
      "For ethcat 5 : s = 55.29, m = 960.91, F_s = 0.5972146862000363, F_P = 0.6493615186582105, HLA_s = 91.04054598881595, HLA_P = 93.51986203001748 \n"
     ]
    },
    {
     "name": "stderr",
     "output_type": "stream",
     "text": [
      "[I 2025-08-11 18:41:31,826] Trial 5 finished with value: 0.03452982203852039 and parameters: {'m1': 0.99, 'm2': 1.2, 'm4': 1.34, 'm5': 1.67}. Best is trial 5 with value: 0.03452982203852039.\n"
     ]
    },
    {
     "name": "stdout",
     "output_type": "stream",
     "text": [
      "For ethcat 1 : s = 592.0, m = 964.2199999999999, F_s = 0.6244594594594595, F_P = 0.6516210921157867, HLA_s = 94.37895394413927, HLA_P = 93.47410268828051 \n",
      "For ethcat 2 : s = 169.92, m = 964.2199999999999, F_s = 0.6941501883239172, F_P = 0.6516210921157867, HLA_s = 92.07309643895657, HLA_P = 93.47410268828051 \n",
      "For ethcat 4 : s = 147.0, m = 964.2199999999999, F_s = 0.6978231292517006, F_P = 0.6516210921157867, HLA_s = 92.8237646210534, HLA_P = 93.47410268828051 \n",
      "For ethcat 5 : s = 55.3, m = 964.2199999999999, F_s = 0.6907775768535263, F_P = 0.6516210921157867, HLA_s = 91.21660931875937, HLA_P = 93.47410268828051 \n"
     ]
    },
    {
     "name": "stderr",
     "output_type": "stream",
     "text": [
      "[I 2025-08-11 18:42:52,991] Trial 6 finished with value: 0.0379879486742837 and parameters: {'m1': 0.62, 'm2': 1.1300000000000001, 'm4': 1.1300000000000001, 'm5': 1.72}. Best is trial 5 with value: 0.03452982203852039.\n"
     ]
    },
    {
     "name": "stdout",
     "output_type": "stream",
     "text": [
      "For ethcat 1 : s = 590.08, m = 961.76, F_s = 0.6207632863340564, F_P = 0.6508425538296991, HLA_s = 94.40078293151595, HLA_P = 93.65988666377618 \n",
      "For ethcat 2 : s = 169.43, m = 961.76, F_s = 0.7169922681933542, F_P = 0.6508425538296991, HLA_s = 92.49710204427818, HLA_P = 93.65988666377618 \n",
      "For ethcat 4 : s = 147.08, m = 961.76, F_s = 0.679358172423171, F_P = 0.6508425538296991, HLA_s = 93.34492065672343, HLA_P = 93.65988666377618 \n",
      "For ethcat 5 : s = 55.17, m = 961.76, F_s = 0.6971179989124524, F_P = 0.6508425538296991, HLA_s = 91.50357150296826, HLA_P = 93.65988666377618 \n"
     ]
    },
    {
     "name": "stderr",
     "output_type": "stream",
     "text": [
      "[I 2025-08-11 18:44:13,536] Trial 7 finished with value: 0.04186908903857025 and parameters: {'m1': 0.6799999999999999, 'm2': 1.55, 'm4': 1.24, 'm5': 1.85}. Best is trial 5 with value: 0.03452982203852039.\n"
     ]
    },
    {
     "name": "stdout",
     "output_type": "stream",
     "text": [
      "For ethcat 1 : s = 591.72, m = 964.1199999999999, F_s = 0.6154093152166564, F_P = 0.6484466414124275, HLA_s = 94.30867911883206, HLA_P = 93.491037535055 \n",
      "For ethcat 2 : s = 170.07, m = 964.1199999999999, F_s = 0.7396366202152056, F_P = 0.6484466414124275, HLA_s = 92.47399791266128, HLA_P = 93.491037535055 \n",
      "For ethcat 4 : s = 146.92, m = 964.1199999999999, F_s = 0.6602913150013614, F_P = 0.6484466414124275, HLA_s = 92.84905450067266, HLA_P = 93.491037535055 \n",
      "For ethcat 5 : s = 55.41, m = 964.1199999999999, F_s = 0.6964446850748963, F_P = 0.6484466414124275, HLA_s = 91.22118367941299, HLA_P = 93.491037535055 \n"
     ]
    },
    {
     "name": "stderr",
     "output_type": "stream",
     "text": [
      "[I 2025-08-11 18:45:36,831] Trial 8 finished with value: 0.04323771714576876 and parameters: {'m1': 0.67, 'm2': 1.1400000000000001, 'm4': 1.71, 'm5': 1.7000000000000002}. Best is trial 5 with value: 0.03452982203852039.\n"
     ]
    },
    {
     "name": "stdout",
     "output_type": "stream",
     "text": [
      "For ethcat 1 : s = 593.3, m = 966.5699999999999, F_s = 0.6169391538850497, F_P = 0.651170941415772, HLA_s = 94.2110118342552, HLA_P = 93.4188503618312 \n",
      "For ethcat 2 : s = 170.39, m = 966.5699999999999, F_s = 0.7006866600152591, F_P = 0.651170941415772, HLA_s = 92.20654439777387, HLA_P = 93.4188503618312 \n",
      "For ethcat 4 : s = 147.35, m = 966.5699999999999, F_s = 0.7277231082456737, F_P = 0.651170941415772, HLA_s = 93.06145381844036, HLA_P = 93.4188503618312 \n",
      "For ethcat 5 : s = 55.53, m = 966.5699999999999, F_s = 0.6668467495047722, F_P = 0.651170941415772, HLA_s = 90.96977846684439, HLA_P = 93.4188503618312 \n"
     ]
    },
    {
     "name": "stderr",
     "output_type": "stream",
     "text": [
      "[I 2025-08-11 18:47:02,249] Trial 9 finished with value: 0.05069943452646463 and parameters: {'m1': 0.53, 'm2': 1.52, 'm4': 1.27, 'm5': 1.15}. Best is trial 5 with value: 0.03452982203852039.\n"
     ]
    },
    {
     "name": "stdout",
     "output_type": "stream",
     "text": [
      "For ethcat 1 : s = 593.3, m = 966.2199999999999, F_s = 0.6129108376875105, F_P = 0.651744544285181, HLA_s = 94.19982050569091, HLA_P = 93.429549411602 \n",
      "For ethcat 2 : s = 170.12, m = 966.2199999999999, F_s = 0.755525511403715, F_P = 0.651744544285181, HLA_s = 92.30956898305456, HLA_P = 93.429549411602 \n",
      "For ethcat 4 : s = 147.45, m = 966.2199999999999, F_s = 0.6958290946083419, F_P = 0.651744544285181, HLA_s = 93.05975839703765, HLA_P = 93.429549411602 \n",
      "For ethcat 5 : s = 55.35, m = 966.2199999999999, F_s = 0.6348690153568203, F_P = 0.651744544285181, HLA_s = 91.1493635589238, HLA_P = 93.429549411602 \n"
     ]
    },
    {
     "name": "stderr",
     "output_type": "stream",
     "text": [
      "[I 2025-08-11 18:48:24,110] Trial 10 finished with value: 0.04097833649228535 and parameters: {'m1': 0.86, 'm2': 1.75, 'm4': 1.46, 'm5': 1.48}. Best is trial 5 with value: 0.03452982203852039.\n"
     ]
    },
    {
     "name": "stdout",
     "output_type": "stream",
     "text": [
      "For ethcat 1 : s = 590.86, m = 962.95, F_s = 0.616017330670548, F_P = 0.6483536882522237, HLA_s = 94.38469850666091, HLA_P = 93.44318287059801 \n",
      "For ethcat 2 : s = 169.78, m = 962.95, F_s = 0.7532100365178466, F_P = 0.6483536882522237, HLA_s = 92.1280568640391, HLA_P = 93.44318287059801 \n",
      "For ethcat 4 : s = 147.07, m = 962.95, F_s = 0.6575780240701706, F_P = 0.6483536882522237, HLA_s = 92.7295842840852, HLA_P = 93.44318287059801 \n",
      "For ethcat 5 : s = 55.24, m = 962.95, F_s = 0.6507965242577842, F_P = 0.6483536882522237, HLA_s = 90.98203260230747, HLA_P = 93.44318287059801 \n"
     ]
    },
    {
     "name": "stderr",
     "output_type": "stream",
     "text": [
      "[I 2025-08-11 18:49:45,043] Trial 11 finished with value: 0.03558845617362863 and parameters: {'m1': 0.8500000000000001, 'm2': 0.9400000000000001, 'm4': 1.4100000000000001, 'm5': 1.45}. Best is trial 5 with value: 0.03452982203852039.\n"
     ]
    },
    {
     "name": "stdout",
     "output_type": "stream",
     "text": [
      "For ethcat 1 : s = 592.87, m = 965.7300000000001, F_s = 0.6233069644272775, F_P = 0.651760506613375, HLA_s = 94.45103215281286, HLA_P = 93.56091368493898 \n",
      "For ethcat 2 : s = 170.05, m = 965.7300000000001, F_s = 0.6935019112025874, F_P = 0.651760506613375, HLA_s = 92.09902260447379, HLA_P = 93.56091368493898 \n",
      "For ethcat 4 : s = 147.49, m = 965.7300000000001, F_s = 0.7026917079124008, F_P = 0.651760506613375, HLA_s = 93.03808018574004, HLA_P = 93.56091368493898 \n",
      "For ethcat 5 : s = 55.32, m = 965.7300000000001, F_s = 0.685647143890094, F_P = 0.651760506613375, HLA_s = 91.26889495612126, HLA_P = 93.56091368493898 \n"
     ]
    },
    {
     "name": "stderr",
     "output_type": "stream",
     "text": [
      "[I 2025-08-11 18:51:09,724] Trial 12 finished with value: 0.05115962827184663 and parameters: {'m1': 0.52, 'm2': 1.3, 'm4': 1.1, 'm5': 1.34}. Best is trial 5 with value: 0.03452982203852039.\n"
     ]
    },
    {
     "name": "stdout",
     "output_type": "stream",
     "text": [
      "For ethcat 1 : s = 591.53, m = 963.77, F_s = 0.6087941439994591, F_P = 0.6498443774640005, HLA_s = 94.080989609354, HLA_P = 93.35559372109736 \n",
      "For ethcat 2 : s = 169.81, m = 963.77, F_s = 0.7493669395206407, F_P = 0.6498443774640005, HLA_s = 92.42098833901835, HLA_P = 93.35559372109736 \n",
      "For ethcat 4 : s = 147.12, m = 963.77, F_s = 0.6808047852093528, F_P = 0.6498443774640005, HLA_s = 92.85944139652739, HLA_P = 93.35559372109736 \n",
      "For ethcat 5 : s = 55.31, m = 963.77, F_s = 0.699873440607485, F_P = 0.6498443774640005, HLA_s = 91.33242223936635, HLA_P = 93.35559372109736 \n"
     ]
    },
    {
     "name": "stderr",
     "output_type": "stream",
     "text": [
      "[I 2025-08-11 18:52:32,832] Trial 13 finished with value: 0.03909285639083959 and parameters: {'m1': 0.89, 'm2': 1.22, 'm4': 1.1, 'm5': 1.98}. Best is trial 5 with value: 0.03452982203852039.\n"
     ]
    },
    {
     "name": "stdout",
     "output_type": "stream",
     "text": [
      "For ethcat 1 : s = 590.8, m = 962.85, F_s = 0.6209038591740014, F_P = 0.6515641813948195, HLA_s = 94.48726166725315, HLA_P = 93.5252075490962 \n",
      "For ethcat 2 : s = 169.71, m = 962.85, F_s = 0.7364916622473631, F_P = 0.6515641813948195, HLA_s = 92.20973732852671, HLA_P = 93.5252075490962 \n",
      "For ethcat 4 : s = 147.13, m = 962.85, F_s = 0.6558825528444233, F_P = 0.6515641813948195, HLA_s = 92.58331367506034, HLA_P = 93.5252075490962 \n",
      "For ethcat 5 : s = 55.21, m = 962.85, F_s = 0.7130954537221518, F_P = 0.6515641813948195, HLA_s = 91.52328607441422, HLA_P = 93.5252075490962 \n"
     ]
    },
    {
     "name": "stderr",
     "output_type": "stream",
     "text": [
      "[I 2025-08-11 18:53:53,677] Trial 14 finished with value: 0.03845829055860278 and parameters: {'m1': 0.76, 'm2': 1.05, 'm4': 1.49, 'm5': 1.58}. Best is trial 5 with value: 0.03452982203852039.\n"
     ]
    },
    {
     "name": "stdout",
     "output_type": "stream",
     "text": [
      "For ethcat 1 : s = 590.51, m = 962.1600000000001, F_s = 0.6213273272256185, F_P = 0.6517113132747222, HLA_s = 94.3571857179005, HLA_P = 93.52072009752835 \n",
      "For ethcat 2 : s = 169.47, m = 962.1600000000001, F_s = 0.6959933911606774, F_P = 0.6517113132747222, HLA_s = 92.2389813742654, HLA_P = 93.52072009752835 \n",
      "For ethcat 4 : s = 146.83, m = 962.1600000000001, F_s = 0.7061227269631547, F_P = 0.6517113132747222, HLA_s = 93.08861809528517, HLA_P = 93.52072009752835 \n",
      "For ethcat 5 : s = 55.35, m = 962.1600000000001, F_s = 0.6991869918699187, F_P = 0.6517113132747222, HLA_s = 91.18400147055746, HLA_P = 93.52072009752835 \n"
     ]
    },
    {
     "name": "stderr",
     "output_type": "stream",
     "text": [
      "[I 2025-08-11 18:55:14,567] Trial 15 finished with value: 0.03847684122938711 and parameters: {'m1': 0.81, 'm2': 1.4300000000000002, 'm4': 1.25, 'm5': 1.32}. Best is trial 5 with value: 0.03452982203852039.\n"
     ]
    },
    {
     "name": "stdout",
     "output_type": "stream",
     "text": [
      "For ethcat 1 : s = 591.97, m = 964.23, F_s = 0.6209436289001131, F_P = 0.6513153586077028, HLA_s = 94.39374305601893, HLA_P = 93.49715906161971 \n",
      "For ethcat 2 : s = 169.81, m = 964.23, F_s = 0.7488958247453036, F_P = 0.6513153586077028, HLA_s = 92.44541854971813, HLA_P = 93.49715906161971 \n",
      "For ethcat 4 : s = 147.01, m = 964.23, F_s = 0.6596830147609006, F_P = 0.6513153586077028, HLA_s = 92.68026522508796, HLA_P = 93.49715906161971 \n",
      "For ethcat 5 : s = 55.44, m = 964.23, F_s = 0.656926406926407, F_P = 0.6513153586077028, HLA_s = 90.89145811781178, HLA_P = 93.49715906161971 \n"
     ]
    },
    {
     "name": "stderr",
     "output_type": "stream",
     "text": [
      "[I 2025-08-11 18:56:33,055] Trial 16 finished with value: 0.03723736359846269 and parameters: {'m1': 0.94, 'm2': 0.92, 'm4': 1.78, 'm5': 1.6099999999999999}. Best is trial 5 with value: 0.03452982203852039.\n"
     ]
    },
    {
     "name": "stdout",
     "output_type": "stream",
     "text": [
      "For ethcat 1 : s = 591.91, m = 964.4, F_s = 0.6618911658867057, F_P = 0.6483724167381937, HLA_s = 94.56016989918727, HLA_P = 93.71023827729945 \n",
      "For ethcat 2 : s = 169.97, m = 964.4, F_s = 0.5480378890392422, F_P = 0.6483724167381937, HLA_s = 91.99354667645143, HLA_P = 93.71023827729945 \n",
      "For ethcat 4 : s = 147.27, m = 964.4, F_s = 0.7118897263529571, F_P = 0.6483724167381937, HLA_s = 93.05780913179555, HLA_P = 93.71023827729945 \n",
      "For ethcat 5 : s = 55.25, m = 964.4, F_s = 0.6403619909502263, F_P = 0.6483724167381937, HLA_s = 91.34750748892834, HLA_P = 93.71023827729945 \n"
     ]
    },
    {
     "name": "stderr",
     "output_type": "stream",
     "text": [
      "[I 2025-08-11 18:57:53,413] Trial 17 finished with value: 0.035525097805791314 and parameters: {'m1': 0.69, 'm2': 1.28, 'm4': 0.9, 'm5': 1.37}. Best is trial 5 with value: 0.03452982203852039.\n"
     ]
    },
    {
     "name": "stdout",
     "output_type": "stream",
     "text": [
      "For ethcat 1 : s = 591.1, m = 963.6700000000001, F_s = 0.6200135340889866, F_P = 0.6467824062393703, HLA_s = 94.38453736172087, HLA_P = 93.4960053438749 \n",
      "For ethcat 2 : s = 170.0, m = 963.6700000000001, F_s = 0.7314705882352941, F_P = 0.6467824062393703, HLA_s = 92.27423717934475, HLA_P = 93.4960053438749 \n",
      "For ethcat 4 : s = 147.24, m = 963.6700000000001, F_s = 0.6394322195055692, F_P = 0.6467824062393703, HLA_s = 92.72671642344481, HLA_P = 93.4960053438749 \n",
      "For ethcat 5 : s = 55.33, m = 963.6700000000001, F_s = 0.6815470811494668, F_P = 0.6467824062393703, HLA_s = 91.22231422165169, HLA_P = 93.4960053438749 \n"
     ]
    },
    {
     "name": "stderr",
     "output_type": "stream",
     "text": [
      "[I 2025-08-11 18:59:14,562] Trial 18 finished with value: 0.04337412303756319 and parameters: {'m1': 0.58, 'm2': 1.06, 'm4': 1.35, 'm5': 1.24}. Best is trial 5 with value: 0.03452982203852039.\n"
     ]
    },
    {
     "name": "stdout",
     "output_type": "stream",
     "text": [
      "For ethcat 1 : s = 591.52, m = 963.9100000000001, F_s = 0.6173079523938328, F_P = 0.6518941222562524, HLA_s = 94.15150968620635, HLA_P = 93.38828562208244 \n",
      "For ethcat 2 : s = 169.94, m = 963.9100000000001, F_s = 0.7040720254207368, F_P = 0.6518941222562524, HLA_s = 92.17753258823296, HLA_P = 93.38828562208244 \n",
      "For ethcat 4 : s = 147.14, m = 963.9100000000001, F_s = 0.7246160119613974, F_P = 0.6518941222562524, HLA_s = 93.10928919262456, HLA_P = 93.38828562208244 \n",
      "For ethcat 5 : s = 55.31, m = 963.9100000000001, F_s = 0.6685951907430844, F_P = 0.6518941222562524, HLA_s = 91.03944297406932, HLA_P = 93.38828562208244 \n"
     ]
    },
    {
     "name": "stderr",
     "output_type": "stream",
     "text": [
      "[I 2025-08-11 19:00:35,982] Trial 19 finished with value: 0.03602168137916633 and parameters: {'m1': 0.9199999999999999, 'm2': 1.6600000000000001, 'm4': 1.0, 'm5': 1.5899999999999999}. Best is trial 5 with value: 0.03452982203852039.\n"
     ]
    },
    {
     "name": "stdout",
     "output_type": "stream",
     "text": [
      "For ethcat 1 : s = 592.73, m = 965.3100000000001, F_s = 0.625546201474533, F_P = 0.653013173220734, HLA_s = 94.48805462586829, HLA_P = 93.54953310970464 \n",
      "For ethcat 2 : s = 169.83, m = 965.3100000000001, F_s = 0.7491020432196902, F_P = 0.653013173220734, HLA_s = 92.36506265337637, HLA_P = 93.54953310970464 \n",
      "For ethcat 4 : s = 147.28, m = 965.3100000000001, F_s = 0.6565046170559479, F_P = 0.653013173220734, HLA_s = 92.61676205065216, HLA_P = 93.54953310970464 \n",
      "For ethcat 5 : s = 55.47, m = 965.3100000000001, F_s = 0.6423291869478999, F_P = 0.653013173220734, HLA_s = 91.13106079405658, HLA_P = 93.54953310970464 \n"
     ]
    },
    {
     "name": "stderr",
     "output_type": "stream",
     "text": [
      "[I 2025-08-11 19:01:58,810] Trial 20 finished with value: 0.05150377614995566 and parameters: {'m1': 0.5, 'm2': 1.4500000000000002, 'm4': 1.2, 'm5': 1.02}. Best is trial 5 with value: 0.03452982203852039.\n"
     ]
    },
    {
     "name": "stdout",
     "output_type": "stream",
     "text": [
      "For ethcat 1 : s = 590.28, m = 961.99, F_s = 0.6107101714440605, F_P = 0.6491716893968221, HLA_s = 94.19883216383766, HLA_P = 93.46462042659932 \n",
      "For ethcat 2 : s = 169.55, m = 961.99, F_s = 0.7561191388970804, F_P = 0.6491716893968221, HLA_s = 92.49350487987377, HLA_P = 93.46462042659932 \n",
      "For ethcat 4 : s = 146.83, m = 961.99, F_s = 0.6922291084928147, F_P = 0.6491716893968221, HLA_s = 93.11933555787058, HLA_P = 93.46462042659932 \n",
      "For ethcat 5 : s = 55.33, m = 961.99, F_s = 0.6208205313573107, F_P = 0.6491716893968221, HLA_s = 90.94449473386977, HLA_P = 93.46462042659932 \n"
     ]
    },
    {
     "name": "stderr",
     "output_type": "stream",
     "text": [
      "[I 2025-08-11 19:03:20,993] Trial 21 finished with value: 0.0382776078683925 and parameters: {'m1': 0.67, 'm2': 1.25, 'm4': 0.93, 'm5': 1.38}. Best is trial 5 with value: 0.03452982203852039.\n"
     ]
    },
    {
     "name": "stdout",
     "output_type": "stream",
     "text": [
      "For ethcat 1 : s = 591.32, m = 963.6899999999999, F_s = 0.6202225529324223, F_P = 0.6511653183604876, HLA_s = 94.41083081984567, HLA_P = 93.57416786607234 \n",
      "For ethcat 2 : s = 169.91, m = 963.6899999999999, F_s = 0.7364487081396033, F_P = 0.6511653183604876, HLA_s = 92.443452990684, HLA_P = 93.57416786607234 \n",
      "For ethcat 4 : s = 147.3, m = 963.6899999999999, F_s = 0.6547182620502375, F_P = 0.6511653183604876, HLA_s = 92.95742027141912, HLA_P = 93.57416786607234 \n",
      "For ethcat 5 : s = 55.16, m = 963.6899999999999, F_s = 0.6990572878897753, F_P = 0.6511653183604876, HLA_s = 91.33621075527762, HLA_P = 93.57416786607234 \n"
     ]
    },
    {
     "name": "stderr",
     "output_type": "stream",
     "text": [
      "[I 2025-08-11 19:04:40,994] Trial 22 finished with value: 0.03514751349195942 and parameters: {'m1': 0.72, 'm2': 1.25, 'm4': 0.9, 'm5': 1.27}. Best is trial 5 with value: 0.03452982203852039.\n"
     ]
    },
    {
     "name": "stdout",
     "output_type": "stream",
     "text": [
      "For ethcat 1 : s = 589.62, m = 961.1899999999999, F_s = 0.6229266307113056, F_P = 0.6496170464591738, HLA_s = 94.48930221955236, HLA_P = 93.51892579107479 \n",
      "For ethcat 2 : s = 169.5, m = 961.1899999999999, F_s = 0.7372861356932153, F_P = 0.6496170464591738, HLA_s = 92.24105945562361, HLA_P = 93.51892579107479 \n",
      "For ethcat 4 : s = 146.92, m = 961.1899999999999, F_s = 0.644364279880207, F_P = 0.6496170464591738, HLA_s = 92.58951354028937, HLA_P = 93.51892579107479 \n",
      "For ethcat 5 : s = 55.15, m = 961.1899999999999, F_s = 0.6734360834088848, F_P = 0.6496170464591738, HLA_s = 91.10842625880827, HLA_P = 93.51892579107479 \n"
     ]
    },
    {
     "name": "stderr",
     "output_type": "stream",
     "text": [
      "[I 2025-08-11 19:06:02,955] Trial 23 finished with value: 0.03682126973632215 and parameters: {'m1': 0.72, 'm2': 1.07, 'm4': 1.0, 'm5': 1.26}. Best is trial 5 with value: 0.03452982203852039.\n"
     ]
    },
    {
     "name": "stdout",
     "output_type": "stream",
     "text": [
      "For ethcat 1 : s = 594.07, m = 967.6999999999999, F_s = 0.6212399212214048, F_P = 0.6505550771756821, HLA_s = 94.45460226178467, HLA_P = 93.52898539958363 \n",
      "For ethcat 2 : s = 170.45, m = 967.6999999999999, F_s = 0.7327075388677032, F_P = 0.6505550771756821, HLA_s = 92.1905028699533, HLA_P = 93.52898539958363 \n",
      "For ethcat 4 : s = 147.67, m = 967.6999999999999, F_s = 0.655718832531997, F_P = 0.6505550771756821, HLA_s = 92.8338315275157, HLA_P = 93.52898539958363 \n",
      "For ethcat 5 : s = 55.51, m = 967.6999999999999, F_s = 0.6939290217978743, F_P = 0.6505550771756821, HLA_s = 91.20156872462026, HLA_P = 93.52898539958363 \n"
     ]
    },
    {
     "name": "stderr",
     "output_type": "stream",
     "text": [
      "[I 2025-08-11 19:07:24,931] Trial 24 finished with value: 0.03656119544605373 and parameters: {'m1': 0.8, 'm2': 1.19, 'm4': 1.04, 'm5': 1.1}. Best is trial 5 with value: 0.03452982203852039.\n"
     ]
    },
    {
     "name": "stdout",
     "output_type": "stream",
     "text": [
      "For ethcat 1 : s = 590.87, m = 962.9, F_s = 0.6212026334049792, F_P = 0.6498285710200843, HLA_s = 94.42655631254671, HLA_P = 93.51190826292039 \n",
      "For ethcat 2 : s = 169.85, m = 962.9, F_s = 0.7486017073888726, F_P = 0.6498285710200843, HLA_s = 92.2472421934795, HLA_P = 93.51190826292039 \n",
      "For ethcat 4 : s = 147.06, m = 962.9, F_s = 0.6524547803617571, F_P = 0.6498285710200843, HLA_s = 92.70727954414404, HLA_P = 93.51190826292039 \n",
      "For ethcat 5 : s = 55.12, m = 962.9, F_s = 0.64822206095791, F_P = 0.6498285710200843, HLA_s = 91.20667042650004, HLA_P = 93.51190826292039 \n"
     ]
    },
    {
     "name": "stderr",
     "output_type": "stream",
     "text": [
      "[I 2025-08-11 19:08:48,995] Trial 25 finished with value: 0.04929764368344749 and parameters: {'m1': 0.62, 'm2': 1.37, 'm4': 1.35, 'm5': 1.43}. Best is trial 5 with value: 0.03452982203852039.\n"
     ]
    },
    {
     "name": "stdout",
     "output_type": "stream",
     "text": [
      "For ethcat 1 : s = 591.31, m = 963.2399999999998, F_s = 0.6104074005174951, F_P = 0.6497081389393307, HLA_s = 94.143263692524, HLA_P = 93.33487700472075 \n",
      "For ethcat 2 : s = 169.57, m = 963.2399999999998, F_s = 0.7493660435218493, F_P = 0.6497081389393307, HLA_s = 92.2438511516538, HLA_P = 93.33487700472075 \n",
      "For ethcat 4 : s = 147.07, m = 963.2399999999998, F_s = 0.6753246753246753, F_P = 0.6497081389393307, HLA_s = 92.81693988681967, HLA_P = 93.33487700472075 \n",
      "For ethcat 5 : s = 55.29, m = 963.2399999999998, F_s = 0.6981370953156086, F_P = 0.6497081389393307, HLA_s = 90.98129006639671, HLA_P = 93.33487700472075 \n"
     ]
    },
    {
     "name": "stderr",
     "output_type": "stream",
     "text": [
      "[I 2025-08-11 19:10:10,756] Trial 26 finished with value: 0.04800245565711741 and parameters: {'m1': 0.55, 'm2': 1.11, 'm4': 1.17, 'm5': 1.52}. Best is trial 5 with value: 0.03452982203852039.\n"
     ]
    },
    {
     "name": "stdout",
     "output_type": "stream",
     "text": [
      "For ethcat 1 : s = 592.33, m = 965.21, F_s = 0.6126314723211723, F_P = 0.6509826457551183, HLA_s = 94.23045131659886, HLA_P = 93.45354078216832 \n",
      "For ethcat 2 : s = 170.17, m = 965.21, F_s = 0.7150496562261269, F_P = 0.6509826457551183, HLA_s = 92.29219907000024, HLA_P = 93.45354078216832 \n",
      "For ethcat 4 : s = 147.39, m = 965.21, F_s = 0.7128706153741774, F_P = 0.6509826457551183, HLA_s = 93.06971376645159, HLA_P = 93.45354078216832 \n",
      "For ethcat 5 : s = 55.32, m = 965.21, F_s = 0.7002892263195951, F_P = 0.6509826457551183, HLA_s = 91.28698045489983, HLA_P = 93.45354078216832 \n"
     ]
    },
    {
     "name": "stderr",
     "output_type": "stream",
     "text": [
      "[I 2025-08-11 19:11:30,540] Trial 27 finished with value: 0.03784886115500304 and parameters: {'m1': 0.74, 'm2': 1.02, 'm4': 1.06, 'm5': 1.29}. Best is trial 5 with value: 0.03452982203852039.\n"
     ]
    },
    {
     "name": "stdout",
     "output_type": "stream",
     "text": [
      "For ethcat 1 : s = 589.48, m = 960.31, F_s = 0.6201567483205537, F_P = 0.6499877318155863, HLA_s = 94.38155966098486, HLA_P = 93.4944434842571 \n",
      "For ethcat 2 : s = 169.3, m = 960.31, F_s = 0.7014176018901358, F_P = 0.6499877318155863, HLA_s = 92.22979097425761, HLA_P = 93.4944434842571 \n",
      "For ethcat 4 : s = 146.59, m = 960.31, F_s = 0.7018214066443822, F_P = 0.6499877318155863, HLA_s = 92.83741732681105, HLA_P = 93.4944434842571 \n",
      "For ethcat 5 : s = 54.94, m = 960.31, F_s = 0.6763742264288314, F_P = 0.6499877318155863, HLA_s = 91.06442638919847, HLA_P = 93.4944434842571 \n"
     ]
    },
    {
     "name": "stderr",
     "output_type": "stream",
     "text": [
      "[I 2025-08-11 19:12:51,656] Trial 28 finished with value: 0.03921267313738795 and parameters: {'m1': 0.58, 'm2': 1.36, 'm4': 0.96, 'm5': 1.67}. Best is trial 5 with value: 0.03452982203852039.\n"
     ]
    },
    {
     "name": "stdout",
     "output_type": "stream",
     "text": [
      "For ethcat 1 : s = 591.29, m = 963.31, F_s = 0.6202709330446989, F_P = 0.6513485014384525, HLA_s = 94.29486120919573, HLA_P = 93.48265833671297 \n",
      "For ethcat 2 : s = 169.95, m = 963.31, F_s = 0.7415710503089145, F_P = 0.6513485014384525, HLA_s = 92.35727307104219, HLA_P = 93.48265833671297 \n",
      "For ethcat 4 : s = 146.8, m = 963.31, F_s = 0.6497956403269755, F_P = 0.6513485014384525, HLA_s = 92.90961327849763, HLA_P = 93.48265833671297 \n",
      "For ethcat 5 : s = 55.27, m = 963.31, F_s = 0.7041794825402569, F_P = 0.6513485014384525, HLA_s = 91.17426013292003, HLA_P = 93.48265833671297 \n"
     ]
    },
    {
     "name": "stderr",
     "output_type": "stream",
     "text": [
      "[I 2025-08-11 19:14:11,511] Trial 29 finished with value: 0.035759775164331244 and parameters: {'m1': 0.98, 'm2': 0.99, 'm4': 1.56, 'm5': 1.03}. Best is trial 5 with value: 0.03452982203852039.\n"
     ]
    },
    {
     "name": "stdout",
     "output_type": "stream",
     "text": [
      "For ethcat 1 : s = 590.25, m = 961.7900000000001, F_s = 0.6222786954680221, F_P = 0.649450508809302, HLA_s = 94.42295527783506, HLA_P = 93.5665535958168 \n",
      "For ethcat 2 : s = 169.72, m = 961.7900000000001, F_s = 0.6888404430827245, F_P = 0.649450508809302, HLA_s = 92.2312351862598, HLA_P = 93.5665535958168 \n",
      "For ethcat 4 : s = 146.5, m = 961.7900000000001, F_s = 0.716382252559727, F_P = 0.649450508809302, HLA_s = 93.17374338137252, HLA_P = 93.5665535958168 \n",
      "For ethcat 5 : s = 55.32, m = 961.7900000000001, F_s = 0.6334056399132321, F_P = 0.649450508809302, HLA_s = 90.85731856772274, HLA_P = 93.5665535958168 \n"
     ]
    },
    {
     "name": "stderr",
     "output_type": "stream",
     "text": [
      "[I 2025-08-11 19:15:32,465] Trial 30 finished with value: 0.03672860702269569 and parameters: {'m1': 0.8400000000000001, 'm2': 1.22, 'm4': 1.03, 'm5': 1.88}. Best is trial 5 with value: 0.03452982203852039.\n"
     ]
    },
    {
     "name": "stdout",
     "output_type": "stream",
     "text": [
      "For ethcat 1 : s = 591.79, m = 964.49, F_s = 0.6218929011980601, F_P = 0.6506262751850431, HLA_s = 94.41199706213973, HLA_P = 93.49900542821335 \n",
      "For ethcat 2 : s = 170.12, m = 964.49, F_s = 0.7341876322595815, F_P = 0.6506262751850431, HLA_s = 92.14827596420032, HLA_P = 93.49900542821335 \n",
      "For ethcat 4 : s = 147.22, m = 964.49, F_s = 0.6514060589593805, F_P = 0.6506262751850431, HLA_s = 92.79061685455653, HLA_P = 93.49900542821335 \n",
      "For ethcat 5 : s = 55.36, m = 964.49, F_s = 0.7059248554913294, F_P = 0.6506262751850431, HLA_s = 91.37181372218733, HLA_P = 93.49900542821335 \n"
     ]
    },
    {
     "name": "stderr",
     "output_type": "stream",
     "text": [
      "[I 2025-08-11 19:16:53,887] Trial 31 finished with value: 0.03483230917820372 and parameters: {'m1': 0.71, 'm2': 1.27, 'm4': 0.91, 'm5': 1.4}. Best is trial 5 with value: 0.03452982203852039.\n"
     ]
    },
    {
     "name": "stdout",
     "output_type": "stream",
     "text": [
      "For ethcat 1 : s = 590.53, m = 962.01, F_s = 0.6248793456725314, F_P = 0.6516873622406955, HLA_s = 94.32108901881458, HLA_P = 93.43213959228065 \n",
      "For ethcat 2 : s = 169.51, m = 962.01, F_s = 0.7374196212612826, F_P = 0.6516873622406955, HLA_s = 92.2042584600735, HLA_P = 93.43213959228065 \n",
      "For ethcat 4 : s = 146.77, m = 962.01, F_s = 0.6480207126797028, F_P = 0.6516873622406955, HLA_s = 92.6407306745126, HLA_P = 93.43213959228065 \n",
      "For ethcat 5 : s = 55.2, m = 962.01, F_s = 0.6806159420289855, F_P = 0.6516873622406955, HLA_s = 91.20447029877985, HLA_P = 93.43213959228065 \n"
     ]
    },
    {
     "name": "stderr",
     "output_type": "stream",
     "text": [
      "[I 2025-08-11 19:18:15,611] Trial 32 finished with value: 0.037151477571840626 and parameters: {'m1': 0.72, 'm2': 1.42, 'm4': 0.9, 'm5': 1.2}. Best is trial 5 with value: 0.03452982203852039.\n"
     ]
    },
    {
     "name": "stdout",
     "output_type": "stream",
     "text": [
      "For ethcat 1 : s = 593.11, m = 965.9700000000001, F_s = 0.6217396435737047, F_P = 0.6507472857853925, HLA_s = 94.41394248071981, HLA_P = 93.48067822260262 \n",
      "For ethcat 2 : s = 170.1, m = 965.9700000000001, F_s = 0.751440329218107, F_P = 0.6507472857853925, HLA_s = 92.2679912028508, HLA_P = 93.48067822260262 \n",
      "For ethcat 4 : s = 147.43, m = 965.9700000000001, F_s = 0.6499355626398968, F_P = 0.6507472857853925, HLA_s = 92.61749620275312, HLA_P = 93.48067822260262 \n",
      "For ethcat 5 : s = 55.33, m = 965.9700000000001, F_s = 0.6439544550876559, F_P = 0.6507472857853925, HLA_s = 91.0231001948811, HLA_P = 93.48067822260262 \n"
     ]
    },
    {
     "name": "stderr",
     "output_type": "stream",
     "text": [
      "[I 2025-08-11 19:19:36,535] Trial 33 finished with value: 0.04203736318043822 and parameters: {'m1': 0.65, 'm2': 1.31, 'm4': 0.97, 'm5': 1.4}. Best is trial 5 with value: 0.03452982203852039.\n"
     ]
    },
    {
     "name": "stdout",
     "output_type": "stream",
     "text": [
      "For ethcat 1 : s = 590.56, m = 962.2099999999999, F_s = 0.6169567867786508, F_P = 0.650801083162248, HLA_s = 94.34601730366988, HLA_P = 93.44925507874204 \n",
      "For ethcat 2 : s = 169.4, m = 962.2099999999999, F_s = 0.7474025974025974, F_P = 0.650801083162248, HLA_s = 92.29692893044971, HLA_P = 93.44925507874204 \n",
      "For ethcat 4 : s = 146.83, m = 962.2099999999999, F_s = 0.6534087039433357, F_P = 0.650801083162248, HLA_s = 92.70468541600022, HLA_P = 93.44925507874204 \n",
      "For ethcat 5 : s = 55.42, m = 962.2099999999999, F_s = 0.6997473836160231, F_P = 0.650801083162248, HLA_s = 91.10492151287937, HLA_P = 93.44925507874204 \n"
     ]
    },
    {
     "name": "stderr",
     "output_type": "stream",
     "text": [
      "[I 2025-08-11 19:20:55,947] Trial 34 finished with value: 0.0355296076001835 and parameters: {'m1': 0.8, 'm2': 1.19, 'm4': 0.96, 'm5': 1.52}. Best is trial 5 with value: 0.03452982203852039.\n"
     ]
    },
    {
     "name": "stdout",
     "output_type": "stream",
     "text": [
      "For ethcat 1 : s = 590.07, m = 961.32, F_s = 0.6211635907604182, F_P = 0.6480465895529184, HLA_s = 94.37573533899248, HLA_P = 93.4691727160335 \n",
      "For ethcat 2 : s = 169.43, m = 961.32, F_s = 0.7331641385823053, F_P = 0.6480465895529184, HLA_s = 92.2634475797187, HLA_P = 93.4691727160335 \n",
      "For ethcat 4 : s = 146.7, m = 961.32, F_s = 0.6417859577368781, F_P = 0.6480465895529184, HLA_s = 92.5683840561335, HLA_P = 93.4691727160335 \n",
      "For ethcat 5 : s = 55.12, m = 961.32, F_s = 0.6828737300435415, F_P = 0.6480465895529184, HLA_s = 91.26346410101822, HLA_P = 93.4691727160335 \n"
     ]
    },
    {
     "name": "stderr",
     "output_type": "stream",
     "text": [
      "[I 2025-08-11 19:22:17,584] Trial 35 finished with value: 0.03640296951074544 and parameters: {'m1': 1.0, 'm2': 1.51, 'm4': 1.07, 'm5': 1.19}. Best is trial 5 with value: 0.03452982203852039.\n"
     ]
    },
    {
     "name": "stdout",
     "output_type": "stream",
     "text": [
      "For ethcat 1 : s = 593.41, m = 966.1899999999999, F_s = 0.6247282654488466, F_P = 0.6516813259833976, HLA_s = 94.52958455466631, HLA_P = 93.5808422243449 \n",
      "For ethcat 2 : s = 170.11, m = 966.1899999999999, F_s = 0.753042149197578, F_P = 0.6516813259833976, HLA_s = 92.31940662734281, HLA_P = 93.5808422243449 \n",
      "For ethcat 4 : s = 147.41, m = 966.1899999999999, F_s = 0.655111593514687, F_P = 0.6516813259833976, HLA_s = 92.73354568363783, HLA_P = 93.5808422243449 \n",
      "For ethcat 5 : s = 55.26, m = 966.1899999999999, F_s = 0.6454940282301846, F_P = 0.6516813259833976, HLA_s = 90.89072892855293, HLA_P = 93.5808422243449 \n"
     ]
    },
    {
     "name": "stderr",
     "output_type": "stream",
     "text": [
      "[I 2025-08-11 19:23:39,059] Trial 36 finished with value: 0.04110096531356154 and parameters: {'m1': 0.72, 'm2': 1.1, 'm4': 1.17, 'm5': 1.1}. Best is trial 5 with value: 0.03452982203852039.\n"
     ]
    },
    {
     "name": "stdout",
     "output_type": "stream",
     "text": [
      "For ethcat 1 : s = 589.59, m = 960.6400000000001, F_s = 0.6225003816211265, F_P = 0.6522238241812377, HLA_s = 94.44033307974809, HLA_P = 93.60905668367195 \n",
      "For ethcat 2 : s = 169.37, m = 960.6400000000001, F_s = 0.711519159237173, F_P = 0.6522238241812377, HLA_s = 92.34765402337415, HLA_P = 93.60905668367195 \n",
      "For ethcat 4 : s = 146.46, m = 960.6400000000001, F_s = 0.7165096272019663, F_P = 0.6522238241812377, HLA_s = 93.05043502086546, HLA_P = 93.60905668367195 \n",
      "For ethcat 5 : s = 55.22, m = 960.6400000000001, F_s = 0.6242303513219848, F_P = 0.6522238241812377, HLA_s = 91.22782969151814, HLA_P = 93.60905668367195 \n"
     ]
    },
    {
     "name": "stderr",
     "output_type": "stream",
     "text": [
      "[I 2025-08-11 19:25:00,799] Trial 37 finished with value: 0.036689533525525446 and parameters: {'m1': 0.63, 'm2': 0.9, 'm4': 0.9, 'm5': 1.77}. Best is trial 5 with value: 0.03452982203852039.\n"
     ]
    },
    {
     "name": "stdout",
     "output_type": "stream",
     "text": [
      "For ethcat 1 : s = 592.14, m = 965.01, F_s = 0.6190090181376027, F_P = 0.6487221358646483, HLA_s = 94.55424587815915, HLA_P = 93.7000891189475 \n",
      "For ethcat 2 : s = 170.12, m = 965.01, F_s = 0.7104984716670586, F_P = 0.6487221358646483, HLA_s = 92.4673988629942, HLA_P = 93.7000891189475 \n",
      "For ethcat 4 : s = 147.35, m = 965.01, F_s = 0.6682728198167628, F_P = 0.6487221358646483, HLA_s = 93.15836765546092, HLA_P = 93.7000891189475 \n",
      "For ethcat 5 : s = 55.4, m = 965.01, F_s = 0.7111913357400722, F_P = 0.6487221358646483, HLA_s = 91.32555711345907, HLA_P = 93.7000891189475 \n"
     ]
    },
    {
     "name": "stderr",
     "output_type": "stream",
     "text": [
      "[I 2025-08-11 19:26:22,353] Trial 38 finished with value: 0.041845046861493686 and parameters: {'m1': 0.77, 'm2': 1.1600000000000001, 'm4': 1.6400000000000001, 'm5': 1.29}. Best is trial 5 with value: 0.03452982203852039.\n"
     ]
    },
    {
     "name": "stdout",
     "output_type": "stream",
     "text": [
      "For ethcat 1 : s = 589.87, m = 961.4499999999999, F_s = 0.6167291098038551, F_P = 0.6493418309933543, HLA_s = 94.19789694421257, HLA_P = 93.40770086271303 \n",
      "For ethcat 2 : s = 169.41, m = 961.4499999999999, F_s = 0.700548964051709, F_P = 0.6493418309933543, HLA_s = 92.20841755375085, HLA_P = 93.40770086271303 \n",
      "For ethcat 4 : s = 146.88, m = 961.4499999999999, F_s = 0.7252178649237473, F_P = 0.6493418309933543, HLA_s = 92.96869026437145, HLA_P = 93.40770086271303 \n",
      "For ethcat 5 : s = 55.29, m = 961.4499999999999, F_s = 0.6444203291734492, F_P = 0.6493418309933543, HLA_s = 90.97866862174949, HLA_P = 93.40770086271303 \n"
     ]
    },
    {
     "name": "stderr",
     "output_type": "stream",
     "text": [
      "[I 2025-08-11 19:27:42,327] Trial 39 finished with value: 0.04541893979907125 and parameters: {'m1': 0.7, 'm2': 1.6099999999999999, 'm4': 1.29, 'm5': 1.16}. Best is trial 5 with value: 0.03452982203852039.\n"
     ]
    },
    {
     "name": "stdout",
     "output_type": "stream",
     "text": [
      "For ethcat 1 : s = 590.01, m = 961.12, F_s = 0.6162098947475466, F_P = 0.6483112712285944, HLA_s = 94.22012132658818, HLA_P = 93.43259692131039 \n",
      "For ethcat 2 : s = 169.43, m = 961.12, F_s = 0.7476243876527179, F_P = 0.6483112712285944, HLA_s = 92.41482554699712, HLA_P = 93.43259692131039 \n",
      "For ethcat 4 : s = 146.65, m = 961.12, F_s = 0.6799181725196044, F_P = 0.6483112712285944, HLA_s = 92.84893562594841, HLA_P = 93.43259692131039 \n",
      "For ethcat 5 : s = 55.03, m = 961.12, F_s = 0.605487915682355, F_P = 0.6483112712285944, HLA_s = 90.94100454784258, HLA_P = 93.43259692131039 \n"
     ]
    },
    {
     "name": "stderr",
     "output_type": "stream",
     "text": [
      "[I 2025-08-11 19:29:04,131] Trial 40 finished with value: 0.04440356372435944 and parameters: {'m1': 0.59, 'm2': 1.28, 'm4': 1.0, 'm5': 1.65}. Best is trial 5 with value: 0.03452982203852039.\n"
     ]
    },
    {
     "name": "stdout",
     "output_type": "stream",
     "text": [
      "For ethcat 1 : s = 591.37, m = 963.55, F_s = 0.6121717368145154, F_P = 0.6477083009144593, HLA_s = 94.18135284268372, HLA_P = 93.41185644613027 \n",
      "For ethcat 2 : s = 169.79, m = 963.55, F_s = 0.7468637728959303, F_P = 0.6477083009144593, HLA_s = 92.35667459557048, HLA_P = 93.41185644613027 \n",
      "For ethcat 4 : s = 146.97, m = 963.55, F_s = 0.653262570592638, F_P = 0.6477083009144593, HLA_s = 92.98231015125934, HLA_P = 93.41185644613027 \n",
      "For ethcat 5 : s = 55.42, m = 963.55, F_s = 0.7066041140382533, F_P = 0.6477083009144593, HLA_s = 91.14911900304982, HLA_P = 93.41185644613027 \n"
     ]
    },
    {
     "name": "stderr",
     "output_type": "stream",
     "text": [
      "[I 2025-08-11 19:30:25,716] Trial 41 finished with value: 0.03647418860271423 and parameters: {'m1': 0.69, 'm2': 1.32, 'm4': 0.93, 'm5': 1.37}. Best is trial 5 with value: 0.03452982203852039.\n"
     ]
    },
    {
     "name": "stdout",
     "output_type": "stream",
     "text": [
      "For ethcat 1 : s = 591.23, m = 963.26, F_s = 0.6183718688158585, F_P = 0.6472646163153664, HLA_s = 94.37787051471072, HLA_P = 93.52672234800566 \n",
      "For ethcat 2 : s = 169.75, m = 963.26, F_s = 0.7355522827687776, F_P = 0.6472646163153664, HLA_s = 92.30568121099654, HLA_P = 93.52672234800566 \n",
      "For ethcat 4 : s = 147.05, m = 963.26, F_s = 0.6462427745664739, F_P = 0.6472646163153664, HLA_s = 92.89369012932754, HLA_P = 93.52672234800566 \n",
      "For ethcat 5 : s = 55.23, m = 963.26, F_s = 0.6826000362122036, F_P = 0.6472646163153664, HLA_s = 91.27743820955389, HLA_P = 93.52672234800566 \n"
     ]
    },
    {
     "name": "stderr",
     "output_type": "stream",
     "text": [
      "[I 2025-08-11 19:31:46,217] Trial 42 finished with value: 0.03770004374243375 and parameters: {'m1': 0.65, 'm2': 1.25, 'm4': 0.91, 'm5': 1.47}. Best is trial 5 with value: 0.03452982203852039.\n"
     ]
    },
    {
     "name": "stdout",
     "output_type": "stream",
     "text": [
      "For ethcat 1 : s = 591.52, m = 963.65, F_s = 0.6220753313497431, F_P = 0.6519091302938008, HLA_s = 94.30200794579527, HLA_P = 93.48369695516732 \n",
      "For ethcat 2 : s = 169.87, m = 963.65, F_s = 0.7384470477423912, F_P = 0.6519091302938008, HLA_s = 92.32249137572555, HLA_P = 93.48369695516732 \n",
      "For ethcat 4 : s = 147.0, m = 963.65, F_s = 0.65, F_P = 0.6519091302938008, HLA_s = 92.86165937544929, HLA_P = 93.48369695516732 \n",
      "For ethcat 5 : s = 55.26, m = 963.65, F_s = 0.7023163228374956, F_P = 0.6519091302938008, HLA_s = 91.49345743121629, HLA_P = 93.48369695516732 \n"
     ]
    },
    {
     "name": "stderr",
     "output_type": "stream",
     "text": [
      "[I 2025-08-11 19:33:08,810] Trial 43 finished with value: 0.042557109777292705 and parameters: {'m1': 0.55, 'm2': 1.3900000000000001, 'm4': 0.96, 'm5': 1.33}. Best is trial 5 with value: 0.03452982203852039.\n"
     ]
    },
    {
     "name": "stdout",
     "output_type": "stream",
     "text": [
      "For ethcat 1 : s = 591.49, m = 963.99, F_s = 0.6168827875365602, F_P = 0.6510287692853909, HLA_s = 94.24609182516164, HLA_P = 93.43647018211426 \n",
      "For ethcat 2 : s = 170.02, m = 963.99, F_s = 0.757616750970474, F_P = 0.6510287692853909, HLA_s = 92.40276010873905, HLA_P = 93.43647018211426 \n",
      "For ethcat 4 : s = 147.24, m = 963.99, F_s = 0.6591279543602281, F_P = 0.6510287692853909, HLA_s = 92.81607482919782, HLA_P = 93.43647018211426 \n",
      "For ethcat 5 : s = 55.24, m = 963.99, F_s = 0.6620202751629254, F_P = 0.6510287692853909, HLA_s = 91.13311508659173, HLA_P = 93.43647018211426 \n"
     ]
    },
    {
     "name": "stderr",
     "output_type": "stream",
     "text": [
      "[I 2025-08-11 19:34:29,283] Trial 44 finished with value: 0.03676025581598173 and parameters: {'m1': 0.73, 'm2': 1.27, 'm4': 1.1, 'm5': 1.23}. Best is trial 5 with value: 0.03452982203852039.\n"
     ]
    },
    {
     "name": "stdout",
     "output_type": "stream",
     "text": [
      "For ethcat 1 : s = 592.74, m = 966.2, F_s = 0.6215372676046834, F_P = 0.65006288479707, HLA_s = 94.40791617599172, HLA_P = 93.53468192146991 \n",
      "For ethcat 2 : s = 170.21, m = 966.2, F_s = 0.7474296457317431, F_P = 0.65006288479707, HLA_s = 92.37643466922965, HLA_P = 93.53468192146991 \n",
      "For ethcat 4 : s = 147.65, m = 966.2, F_s = 0.6550626481544192, F_P = 0.65006288479707, HLA_s = 92.92517643435181, HLA_P = 93.53468192146991 \n",
      "For ethcat 5 : s = 55.6, m = 966.2, F_s = 0.6444244604316546, F_P = 0.65006288479707, HLA_s = 90.89178341413952, HLA_P = 93.53468192146991 \n"
     ]
    },
    {
     "name": "stderr",
     "output_type": "stream",
     "text": [
      "[I 2025-08-11 19:35:49,886] Trial 45 finished with value: 0.036343419914314855 and parameters: {'m1': 0.76, 'm2': 1.33, 'm4': 1.02, 'm5': 1.42}. Best is trial 5 with value: 0.03452982203852039.\n"
     ]
    },
    {
     "name": "stdout",
     "output_type": "stream",
     "text": [
      "For ethcat 1 : s = 590.76, m = 962.48, F_s = 0.6216737761527524, F_P = 0.6501783861676854, HLA_s = 94.46700216736079, HLA_P = 93.53288258606791 \n",
      "For ethcat 2 : s = 169.47, m = 962.48, F_s = 0.7361184870478551, F_P = 0.6501783861676854, HLA_s = 92.42098420262835, HLA_P = 93.53288258606791 \n",
      "For ethcat 4 : s = 146.87, m = 962.48, F_s = 0.6534350105535507, F_P = 0.6501783861676854, HLA_s = 92.53285700089108, HLA_P = 93.53288258606791 \n",
      "For ethcat 5 : s = 55.38, m = 962.48, F_s = 0.6868905742145178, F_P = 0.6501783861676854, HLA_s = 91.04743031862259, HLA_P = 93.53288258606791 \n"
     ]
    },
    {
     "name": "stderr",
     "output_type": "stream",
     "text": [
      "[I 2025-08-11 19:37:09,337] Trial 46 finished with value: 0.03404485036101135 and parameters: {'m1': 0.78, 'm2': 0.96, 'm4': 0.9500000000000001, 'm5': 1.55}. Best is trial 46 with value: 0.03404485036101135.\n"
     ]
    },
    {
     "name": "stdout",
     "output_type": "stream",
     "text": [
      "For ethcat 1 : s = 591.78, m = 963.9499999999999, F_s = 0.6220216972523573, F_P = 0.6495605096285967, HLA_s = 94.42265678983223, HLA_P = 93.48674800863017 \n",
      "For ethcat 2 : s = 169.76, m = 963.9499999999999, F_s = 0.7251413760603205, F_P = 0.6495605096285967, HLA_s = 92.15291585630791, HLA_P = 93.48674800863017 \n",
      "For ethcat 4 : s = 147.07, m = 963.9499999999999, F_s = 0.6545862514448902, F_P = 0.6495605096285967, HLA_s = 92.7208978917916, HLA_P = 93.48674800863017 \n",
      "For ethcat 5 : s = 55.34, m = 963.9499999999999, F_s = 0.6837730393928443, F_P = 0.6495605096285967, HLA_s = 91.20072907900482, HLA_P = 93.48674800863017 \n"
     ]
    },
    {
     "name": "stderr",
     "output_type": "stream",
     "text": [
      "[I 2025-08-11 19:38:30,814] Trial 47 finished with value: 0.03498400192915947 and parameters: {'m1': 0.87, 'm2': 0.97, 'm4': 1.42, 'm5': 1.74}. Best is trial 46 with value: 0.03404485036101135.\n"
     ]
    },
    {
     "name": "stdout",
     "output_type": "stream",
     "text": [
      "For ethcat 1 : s = 594.71, m = 969.09, F_s = 0.6255654016243211, F_P = 0.6533767953301228, HLA_s = 94.31291167262141, HLA_P = 93.4793739262928 \n",
      "For ethcat 2 : s = 170.64, m = 969.09, F_s = 0.6940342240975154, F_P = 0.6533767953301228, HLA_s = 92.15305626483888, HLA_P = 93.4793739262928 \n",
      "For ethcat 4 : s = 148.04, m = 969.09, F_s = 0.7039989192110241, F_P = 0.6533767953301228, HLA_s = 93.02856250095431, HLA_P = 93.4793739262928 \n",
      "For ethcat 5 : s = 55.7, m = 969.09, F_s = 0.689048473967684, F_P = 0.6533767953301228, HLA_s = 91.2140304081778, HLA_P = 93.4793739262928 \n"
     ]
    },
    {
     "name": "stderr",
     "output_type": "stream",
     "text": [
      "[I 2025-08-11 19:39:50,723] Trial 48 finished with value: 0.03555094215700316 and parameters: {'m1': 0.89, 'm2': 0.96, 'm4': 1.46, 'm5': 1.75}. Best is trial 46 with value: 0.03404485036101135.\n"
     ]
    },
    {
     "name": "stdout",
     "output_type": "stream",
     "text": [
      "For ethcat 1 : s = 591.08, m = 962.87, F_s = 0.6208465859105367, F_P = 0.6492489201891866, HLA_s = 94.40874237256918, HLA_P = 93.53535718626603 \n",
      "For ethcat 2 : s = 169.58, m = 962.87, F_s = 0.6882297440735935, F_P = 0.6492489201891866, HLA_s = 92.09716502664409, HLA_P = 93.53535718626603 \n",
      "For ethcat 4 : s = 147.07, m = 962.87, F_s = 0.6998708098184538, F_P = 0.6492489201891866, HLA_s = 93.07445329974482, HLA_P = 93.53535718626603 \n",
      "For ethcat 5 : s = 55.14, m = 962.87, F_s = 0.6927820094305405, F_P = 0.6492489201891866, HLA_s = 91.31241227269949, HLA_P = 93.53535718626603 \n"
     ]
    },
    {
     "name": "stderr",
     "output_type": "stream",
     "text": [
      "[I 2025-08-11 19:41:09,738] Trial 49 finished with value: 0.03637288018634519 and parameters: {'m1': 0.95, 'm2': 1.02, 'm4': 1.53, 'm5': 1.82}. Best is trial 46 with value: 0.03404485036101135.\n"
     ]
    },
    {
     "name": "stdout",
     "output_type": "stream",
     "text": [
      "For ethcat 1 : s = 591.49, m = 964.1200000000001, F_s = 0.6186579654770157, F_P = 0.6470648911852066, HLA_s = 94.36857941384832, HLA_P = 93.44957594108871 \n",
      "For ethcat 2 : s = 170.09, m = 964.1200000000001, F_s = 0.6929272737962255, F_P = 0.6470648911852066, HLA_s = 92.06770973575644, HLA_P = 93.44957594108871 \n",
      "For ethcat 4 : s = 147.23, m = 964.1200000000001, F_s = 0.6963933980846295, F_P = 0.6470648911852066, HLA_s = 92.75564909682265, HLA_P = 93.44957594108871 \n",
      "For ethcat 5 : s = 55.31, m = 964.1200000000001, F_s = 0.6861327065630085, F_P = 0.6470648911852066, HLA_s = 91.22482276194411, HLA_P = 93.44957594108871 \n"
     ]
    },
    {
     "name": "stderr",
     "output_type": "stream",
     "text": [
      "[I 2025-08-11 19:42:31,131] Trial 50 finished with value: 0.03835056570181644 and parameters: {'m1': 0.89, 'm2': 0.9500000000000001, 'm4': 1.31, 'm5': 1.9}. Best is trial 46 with value: 0.03404485036101135.\n"
     ]
    },
    {
     "name": "stdout",
     "output_type": "stream",
     "text": [
      "For ethcat 1 : s = 592.36, m = 964.7, F_s = 0.6199101897494766, F_P = 0.6506110685815795, HLA_s = 94.41479112866837, HLA_P = 93.51834826497121 \n",
      "For ethcat 2 : s = 169.85, m = 964.7, F_s = 0.6884309685016191, F_P = 0.6506110685815795, HLA_s = 92.09396538843765, HLA_P = 93.51834826497121 \n",
      "For ethcat 4 : s = 147.23, m = 964.7, F_s = 0.7057664878081913, F_P = 0.6506110685815795, HLA_s = 93.04684048438378, HLA_P = 93.51834826497121 \n",
      "For ethcat 5 : s = 55.26, m = 964.7, F_s = 0.7095548317046689, F_P = 0.6506110685815795, HLA_s = 91.14149007588978, HLA_P = 93.51834826497121 \n"
     ]
    },
    {
     "name": "stderr",
     "output_type": "stream",
     "text": [
      "[I 2025-08-11 19:43:52,996] Trial 51 finished with value: 0.03397664624673418 and parameters: {'m1': 0.8400000000000001, 'm2': 0.99, 'm4': 1.42, 'm5': 1.54}. Best is trial 51 with value: 0.03397664624673418.\n"
     ]
    },
    {
     "name": "stdout",
     "output_type": "stream",
     "text": [
      "For ethcat 1 : s = 592.25, m = 964.96, F_s = 0.6241452089489236, F_P = 0.6512715514453683, HLA_s = 94.36224196915715, HLA_P = 93.49499399509142 \n",
      "For ethcat 2 : s = 169.99, m = 964.96, F_s = 0.6892758397552797, F_P = 0.6512715514453683, HLA_s = 92.20104562770501, HLA_P = 93.49499399509142 \n",
      "For ethcat 4 : s = 147.43, m = 964.96, F_s = 0.7041307739266092, F_P = 0.6512715514453683, HLA_s = 92.87497183401125, HLA_P = 93.49499399509142 \n",
      "For ethcat 5 : s = 55.29, m = 964.96, F_s = 0.6780611322119733, F_P = 0.6512715514453683, HLA_s = 91.20878000236223, HLA_P = 93.49499399509142 \n"
     ]
    },
    {
     "name": "stderr",
     "output_type": "stream",
     "text": [
      "[I 2025-08-11 19:45:15,756] Trial 52 finished with value: 0.038169649126798995 and parameters: {'m1': 0.8200000000000001, 'm2': 0.99, 'm4': 1.4, 'm5': 1.55}. Best is trial 51 with value: 0.03397664624673418.\n"
     ]
    },
    {
     "name": "stdout",
     "output_type": "stream",
     "text": [
      "For ethcat 1 : s = 593.3, m = 966.36, F_s = 0.6255351424237318, F_P = 0.6558934151696806, HLA_s = 94.40653094446765, HLA_P = 93.46010774214429 \n",
      "For ethcat 2 : s = 170.19, m = 966.36, F_s = 0.7002174040777954, F_P = 0.6558934151696806, HLA_s = 92.04533063864567, HLA_P = 93.46010774214429 \n",
      "For ethcat 4 : s = 147.42, m = 966.36, F_s = 0.7095373762040429, F_P = 0.6558934151696806, HLA_s = 92.79230956365063, HLA_P = 93.46010774214429 \n",
      "For ethcat 5 : s = 55.45, m = 966.36, F_s = 0.6982867448151487, F_P = 0.6558934151696806, HLA_s = 91.02791217583021, HLA_P = 93.46010774214429 \n"
     ]
    },
    {
     "name": "stderr",
     "output_type": "stream",
     "text": [
      "[I 2025-08-11 19:46:36,316] Trial 53 finished with value: 0.034222471509144634 and parameters: {'m1': 0.87, 'm2': 0.9400000000000001, 'm4': 1.44, 'm5': 1.63}. Best is trial 51 with value: 0.03397664624673418.\n"
     ]
    },
    {
     "name": "stdout",
     "output_type": "stream",
     "text": [
      "For ethcat 1 : s = 591.76, m = 963.9599999999999, F_s = 0.623935379207787, F_P = 0.6512199698148557, HLA_s = 94.41450597273115, HLA_P = 93.53764429909299 \n",
      "For ethcat 2 : s = 169.87, m = 963.9599999999999, F_s = 0.6847589333019367, F_P = 0.6512199698148557, HLA_s = 92.17135694365732, HLA_P = 93.53764429909299 \n",
      "For ethcat 4 : s = 147.2, m = 963.9599999999999, F_s = 0.7029891304347827, F_P = 0.6512199698148557, HLA_s = 93.02245207615404, HLA_P = 93.53764429909299 \n",
      "For ethcat 5 : s = 55.13, m = 963.9599999999999, F_s = 0.697079629965536, F_P = 0.6512199698148557, HLA_s = 91.09836536995066, HLA_P = 93.53764429909299 \n"
     ]
    },
    {
     "name": "stderr",
     "output_type": "stream",
     "text": [
      "[I 2025-08-11 19:47:56,805] Trial 54 finished with value: 0.04244766496634532 and parameters: {'m1': 0.78, 'm2': 0.92, 'm4': 1.65, 'm5': 1.6099999999999999}. Best is trial 51 with value: 0.03397664624673418.\n"
     ]
    },
    {
     "name": "stdout",
     "output_type": "stream",
     "text": [
      "For ethcat 1 : s = 591.4, m = 963.4100000000001, F_s = 0.6157930334798782, F_P = 0.6498773686763911, HLA_s = 94.29862484088346, HLA_P = 93.44311358924261 \n",
      "For ethcat 2 : s = 169.83, m = 963.4100000000001, F_s = 0.6945180474592239, F_P = 0.6498773686763911, HLA_s = 92.13542556053113, HLA_P = 93.44311358924261 \n",
      "For ethcat 4 : s = 146.95, m = 963.4100000000001, F_s = 0.7278666212997619, F_P = 0.6498773686763911, HLA_s = 92.99324462226657, HLA_P = 93.44311358924261 \n",
      "For ethcat 5 : s = 55.23, m = 963.4100000000001, F_s = 0.6630454463154083, F_P = 0.6498773686763911, HLA_s = 90.93811731027206, HLA_P = 93.44311358924261 \n"
     ]
    },
    {
     "name": "stderr",
     "output_type": "stream",
     "text": [
      "[I 2025-08-11 19:49:18,343] Trial 55 finished with value: 0.0397789180324989 and parameters: {'m1': 0.8200000000000001, 'm2': 1.02, 'm4': 1.4700000000000002, 'm5': 1.6800000000000002}. Best is trial 51 with value: 0.03397664624673418.\n"
     ]
    },
    {
     "name": "stdout",
     "output_type": "stream",
     "text": [
      "For ethcat 1 : s = 592.13, m = 964.72, F_s = 0.6192390184587844, F_P = 0.6505852809062733, HLA_s = 94.39742095690171, HLA_P = 93.46043053099186 \n",
      "For ethcat 2 : s = 169.89, m = 964.72, F_s = 0.6917417152275002, F_P = 0.6505852809062733, HLA_s = 92.0842939317605, HLA_P = 93.46043053099186 \n",
      "For ethcat 4 : s = 147.24, m = 964.72, F_s = 0.7102689486552567, F_P = 0.6505852809062733, HLA_s = 92.74694105434804, HLA_P = 93.46043053099186 \n",
      "For ethcat 5 : s = 55.46, m = 964.72, F_s = 0.7042913811756221, F_P = 0.6505852809062733, HLA_s = 91.20470594372435, HLA_P = 93.46043053099186 \n"
     ]
    },
    {
     "name": "stderr",
     "output_type": "stream",
     "text": [
      "[I 2025-08-11 19:50:39,613] Trial 56 finished with value: 0.03694285664196978 and parameters: {'m1': 0.9199999999999999, 'm2': 1.04, 'm4': 1.37, 'm5': 1.6400000000000001}. Best is trial 51 with value: 0.03397664624673418.\n"
     ]
    },
    {
     "name": "stdout",
     "output_type": "stream",
     "text": [
      "For ethcat 1 : s = 591.04, m = 963.0899999999999, F_s = 0.6223098267460747, F_P = 0.6514576365177905, HLA_s = 94.32353371937981, HLA_P = 93.47108792146382 \n",
      "For ethcat 2 : s = 169.73, m = 963.0899999999999, F_s = 0.6985211806987569, F_P = 0.6514576365177905, HLA_s = 92.14282422297208, HLA_P = 93.47108792146382 \n",
      "For ethcat 4 : s = 147.13, m = 963.0899999999999, F_s = 0.7011486440562767, F_P = 0.6514576365177905, HLA_s = 92.9874999567925, HLA_P = 93.47108792146382 \n",
      "For ethcat 5 : s = 55.19, m = 963.0899999999999, F_s = 0.6892552998731655, F_P = 0.6514576365177905, HLA_s = 91.10679800172726, HLA_P = 93.47108792146382 \n"
     ]
    },
    {
     "name": "stderr",
     "output_type": "stream",
     "text": [
      "[I 2025-08-11 19:51:59,289] Trial 57 finished with value: 0.03658885243551066 and parameters: {'m1': 0.8400000000000001, 'm2': 1.08, 'm4': 1.6, 'm5': 1.56}. Best is trial 51 with value: 0.03397664624673418.\n"
     ]
    },
    {
     "name": "stdout",
     "output_type": "stream",
     "text": [
      "For ethcat 1 : s = 590.7, m = 962.0300000000001, F_s = 0.6238191975622143, F_P = 0.6523248318259828, HLA_s = 94.34573674435484, HLA_P = 93.50892122645233 \n",
      "For ethcat 2 : s = 169.43, m = 962.0300000000001, F_s = 0.6978693265655432, F_P = 0.6523248318259828, HLA_s = 92.08364310772821, HLA_P = 93.50892122645233 \n",
      "For ethcat 4 : s = 146.79, m = 962.0300000000001, F_s = 0.7172831936780435, F_P = 0.6523248318259828, HLA_s = 93.15012255854235, HLA_P = 93.50892122645233 \n",
      "For ethcat 5 : s = 55.11, m = 962.0300000000001, F_s = 0.6496098711667574, F_P = 0.6523248318259828, HLA_s = 91.06058704516097, HLA_P = 93.50892122645233 \n"
     ]
    },
    {
     "name": "stderr",
     "output_type": "stream",
     "text": [
      "[I 2025-08-11 19:53:20,375] Trial 58 finished with value: 0.03756768408806137 and parameters: {'m1': 0.91, 'm2': 0.9, 'm4': 1.51, 'm5': 1.5}. Best is trial 51 with value: 0.03397664624673418.\n"
     ]
    },
    {
     "name": "stdout",
     "output_type": "stream",
     "text": [
      "For ethcat 1 : s = 591.33, m = 963.73, F_s = 0.6647218980941267, F_P = 0.652924788069678, HLA_s = 94.65839827328935, HLA_P = 93.81038920993156 \n",
      "For ethcat 2 : s = 169.87, m = 963.73, F_s = 0.5480661682463059, F_P = 0.652924788069678, HLA_s = 92.25107755248325, HLA_P = 93.81038920993156 \n",
      "For ethcat 4 : s = 147.31, m = 963.73, F_s = 0.718009639535673, F_P = 0.652924788069678, HLA_s = 93.12980298993652, HLA_P = 93.81038920993156 \n",
      "For ethcat 5 : s = 55.22, m = 963.73, F_s = 0.6671495834842449, F_P = 0.652924788069678, HLA_s = 91.28957887801177, HLA_P = 93.81038920993156 \n"
     ]
    },
    {
     "name": "stderr",
     "output_type": "stream",
     "text": [
      "[I 2025-08-11 19:54:42,182] Trial 59 finished with value: 0.0391026039065866 and parameters: {'m1': 0.87, 'm2': 1.1300000000000001, 'm4': 1.75, 'm5': 1.45}. Best is trial 51 with value: 0.03397664624673418.\n"
     ]
    },
    {
     "name": "stdout",
     "output_type": "stream",
     "text": [
      "For ethcat 1 : s = 591.45, m = 964.0400000000001, F_s = 0.6169245075661509, F_P = 0.6476626233406768, HLA_s = 94.23183602852787, HLA_P = 93.44845302528722 \n",
      "For ethcat 2 : s = 170.11, m = 964.0400000000001, F_s = 0.6926694491799423, F_P = 0.6476626233406768, HLA_s = 92.22120148326496, HLA_P = 93.44845302528722 \n",
      "For ethcat 4 : s = 147.1, m = 964.0400000000001, F_s = 0.7213460231135282, F_P = 0.6476626233406768, HLA_s = 93.10347442017083, HLA_P = 93.44845302528722 \n",
      "For ethcat 5 : s = 55.38, m = 964.0400000000001, F_s = 0.6451787648970747, F_P = 0.6476626233406768, HLA_s = 91.11388100741397, HLA_P = 93.44845302528722 \n"
     ]
    },
    {
     "name": "stderr",
     "output_type": "stream",
     "text": [
      "[I 2025-08-11 19:56:02,600] Trial 60 finished with value: 0.03556047577421702 and parameters: {'m1': 0.79, 'm2': 0.98, 'm4': 1.23, 'm5': 1.72}. Best is trial 51 with value: 0.03397664624673418.\n"
     ]
    },
    {
     "name": "stdout",
     "output_type": "stream",
     "text": [
      "For ethcat 1 : s = 592.32, m = 965.19, F_s = 0.6218091572123177, F_P = 0.6502233495192289, HLA_s = 94.37458075529648, HLA_P = 93.53644133915007 \n",
      "For ethcat 2 : s = 170.11, m = 965.19, F_s = 0.6902004585268355, F_P = 0.6502233495192289, HLA_s = 92.26774291700411, HLA_P = 93.53644133915007 \n",
      "For ethcat 4 : s = 147.48, m = 965.19, F_s = 0.6956875508543532, F_P = 0.6502233495192289, HLA_s = 93.03228226613899, HLA_P = 93.53644133915007 \n",
      "For ethcat 5 : s = 55.28, m = 965.19, F_s = 0.7051374819102749, F_P = 0.6502233495192289, HLA_s = 91.15989814904114, HLA_P = 93.53644133915007 \n"
     ]
    },
    {
     "name": "stderr",
     "output_type": "stream",
     "text": [
      "[I 2025-08-11 19:57:24,454] Trial 61 finished with value: 0.037193764297980506 and parameters: {'m1': 0.86, 'm2': 0.9400000000000001, 'm4': 1.4100000000000001, 'm5': 1.62}. Best is trial 51 with value: 0.03397664624673418.\n"
     ]
    },
    {
     "name": "stdout",
     "output_type": "stream",
     "text": [
      "For ethcat 1 : s = 590.81, m = 962.65, F_s = 0.6217396455713343, F_P = 0.6516540828283331, HLA_s = 94.43100499450131, HLA_P = 93.52986005477734 \n",
      "For ethcat 2 : s = 169.65, m = 962.65, F_s = 0.6924255820807544, F_P = 0.6516540828283331, HLA_s = 92.03662937465991, HLA_P = 93.52986005477734 \n",
      "For ethcat 4 : s = 146.98, m = 962.65, F_s = 0.7076472989522384, F_P = 0.6516540828283331, HLA_s = 93.03266543018404, HLA_P = 93.52986005477734 \n",
      "For ethcat 5 : s = 55.21, m = 962.65, F_s = 0.687194348849846, F_P = 0.6516540828283331, HLA_s = 91.26748596275283, HLA_P = 93.52986005477734 \n"
     ]
    },
    {
     "name": "stderr",
     "output_type": "stream",
     "text": [
      "[I 2025-08-11 19:58:47,163] Trial 62 finished with value: 0.03529085067310678 and parameters: {'m1': 0.94, 'm2': 0.97, 'm4': 1.4300000000000002, 'm5': 1.71}. Best is trial 51 with value: 0.03397664624673418.\n"
     ]
    },
    {
     "name": "stdout",
     "output_type": "stream",
     "text": [
      "For ethcat 1 : s = 592.05, m = 964.36, F_s = 0.6239506798412298, F_P = 0.6521723461589342, HLA_s = 94.4211945586316, HLA_P = 93.52707971401964 \n",
      "For ethcat 2 : s = 169.84, m = 964.36, F_s = 0.692946302402261, F_P = 0.6521723461589342, HLA_s = 92.04677895898328, HLA_P = 93.52707971401964 \n",
      "For ethcat 4 : s = 147.14, m = 964.36, F_s = 0.7025961669158625, F_P = 0.6521723461589342, HLA_s = 93.07647184310964, HLA_P = 93.52707971401964 \n",
      "For ethcat 5 : s = 55.33, m = 964.36, F_s = 0.6876920296403397, F_P = 0.6521723461589342, HLA_s = 91.15059507093804, HLA_P = 93.52707971401964 \n"
     ]
    },
    {
     "name": "stderr",
     "output_type": "stream",
     "text": [
      "[I 2025-08-11 20:00:07,847] Trial 63 finished with value: 0.036557315169543914 and parameters: {'m1': 0.87, 'm2': 0.93, 'm4': 1.34, 'm5': 1.8}. Best is trial 51 with value: 0.03397664624673418.\n"
     ]
    },
    {
     "name": "stdout",
     "output_type": "stream",
     "text": [
      "For ethcat 1 : s = 591.25, m = 963.78, F_s = 0.6223763213530655, F_P = 0.6517805103458392, HLA_s = 94.40454228070467, HLA_P = 93.46125198886575 \n",
      "For ethcat 2 : s = 170.04, m = 963.78, F_s = 0.6887791107974595, F_P = 0.6517805103458392, HLA_s = 91.92100802427005, HLA_P = 93.46125198886575 \n",
      "For ethcat 4 : s = 147.27, m = 963.78, F_s = 0.70503157465879, F_P = 0.6517805103458392, HLA_s = 92.90808538623983, HLA_P = 93.46125198886575 \n",
      "For ethcat 5 : s = 55.22, m = 963.78, F_s = 0.6997464686707715, F_P = 0.6517805103458392, HLA_s = 91.17792582987857, HLA_P = 93.46125198886575 \n"
     ]
    },
    {
     "name": "stderr",
     "output_type": "stream",
     "text": [
      "[I 2025-08-11 20:01:27,992] Trial 64 finished with value: 0.03501064823214629 and parameters: {'m1': 0.97, 'm2': 1.01, 'm4': 1.44, 'm5': 1.57}. Best is trial 51 with value: 0.03397664624673418.\n"
     ]
    },
    {
     "name": "stdout",
     "output_type": "stream",
     "text": [
      "For ethcat 1 : s = 591.92, m = 964.3199999999999, F_s = 0.6228544397891608, F_P = 0.6502379276053435, HLA_s = 94.41059816422016, HLA_P = 93.48734563578746 \n",
      "For ethcat 2 : s = 169.9, m = 964.3199999999999, F_s = 0.6896998234255445, F_P = 0.6502379276053435, HLA_s = 91.98040488925784, HLA_P = 93.48734563578746 \n",
      "For ethcat 4 : s = 147.16, m = 964.3199999999999, F_s = 0.7022288665398206, F_P = 0.6502379276053435, HLA_s = 92.8997842441403, HLA_P = 93.48734563578746 \n",
      "For ethcat 5 : s = 55.34, m = 964.3199999999999, F_s = 0.6890133718829057, F_P = 0.6502379276053435, HLA_s = 91.23321039786134, HLA_P = 93.48734563578746 \n"
     ]
    },
    {
     "name": "stderr",
     "output_type": "stream",
     "text": [
      "[I 2025-08-11 20:02:47,669] Trial 65 finished with value: 0.03770454298281809 and parameters: {'m1': 0.8300000000000001, 'm2': 1.08, 'm4': 1.38, 'm5': 1.75}. Best is trial 51 with value: 0.03397664624673418.\n"
     ]
    },
    {
     "name": "stdout",
     "output_type": "stream",
     "text": [
      "For ethcat 1 : s = 591.87, m = 964.38, F_s = 0.6198489533174515, F_P = 0.6496006179452988, HLA_s = 94.40385961812619, HLA_P = 93.4901181979652 \n",
      "For ethcat 2 : s = 170.01, m = 964.38, F_s = 0.6958414210928769, F_P = 0.6496006179452988, HLA_s = 92.30486891719882, HLA_P = 93.4901181979652 \n",
      "For ethcat 4 : s = 147.18, m = 964.38, F_s = 0.7014540019024323, F_P = 0.6496006179452988, HLA_s = 92.65024576547144, HLA_P = 93.4901181979652 \n",
      "For ethcat 5 : s = 55.32, m = 964.38, F_s = 0.6898047722342733, F_P = 0.6496006179452988, HLA_s = 91.09836111014356, HLA_P = 93.4901181979652 \n"
     ]
    },
    {
     "name": "stderr",
     "output_type": "stream",
     "text": [
      "[I 2025-08-11 20:04:06,924] Trial 66 finished with value: 0.038165365792319994 and parameters: {'m1': 0.89, 'm2': 1.04, 'm4': 1.54, 'm5': 1.67}. Best is trial 51 with value: 0.03397664624673418.\n"
     ]
    },
    {
     "name": "stdout",
     "output_type": "stream",
     "text": [
      "For ethcat 1 : s = 590.55, m = 962.4599999999999, F_s = 0.6171873677080688, F_P = 0.6472403531422058, HLA_s = 94.40869527028113, HLA_P = 93.55226693952994 \n",
      "For ethcat 2 : s = 170.04, m = 962.4599999999999, F_s = 0.694954128440367, F_P = 0.6472403531422058, HLA_s = 92.25060656345632, HLA_P = 93.55226693952994 \n",
      "For ethcat 4 : s = 146.76, m = 962.4599999999999, F_s = 0.7003952030526029, F_P = 0.6472403531422058, HLA_s = 93.03634628426133, HLA_P = 93.55226693952994 \n",
      "For ethcat 5 : s = 55.11, m = 962.4599999999999, F_s = 0.6853565596080566, F_P = 0.6472403531422058, HLA_s = 91.17922239890831, HLA_P = 93.55226693952994 \n"
     ]
    },
    {
     "name": "stderr",
     "output_type": "stream",
     "text": [
      "[I 2025-08-11 20:05:27,397] Trial 67 finished with value: 0.036687663075530716 and parameters: {'m1': 0.75, 'm2': 0.96, 'm4': 1.48, 'm5': 1.52}. Best is trial 51 with value: 0.03397664624673418.\n"
     ]
    },
    {
     "name": "stdout",
     "output_type": "stream",
     "text": [
      "For ethcat 1 : s = 592.04, m = 964.8299999999999, F_s = 0.6187081953922033, F_P = 0.6483191658013706, HLA_s = 94.33817409697869, HLA_P = 93.49576996176333 \n",
      "For ethcat 2 : s = 170.24, m = 964.8299999999999, F_s = 0.6886160714285714, F_P = 0.6483191658013706, HLA_s = 92.14064596939733, HLA_P = 93.49576996176333 \n",
      "For ethcat 4 : s = 147.28, m = 964.8299999999999, F_s = 0.6981260184682238, F_P = 0.6483191658013706, HLA_s = 93.05853758824337, HLA_P = 93.49576996176333 \n",
      "For ethcat 5 : s = 55.27, m = 964.8299999999999, F_s = 0.6974850732766419, F_P = 0.6483191658013706, HLA_s = 91.21566101279767, HLA_P = 93.49576996176333 \n"
     ]
    },
    {
     "name": "stderr",
     "output_type": "stream",
     "text": [
      "[I 2025-08-11 20:06:47,804] Trial 68 finished with value: 0.036409887552998434 and parameters: {'m1': 0.8500000000000001, 'm2': 0.9, 'm4': 1.3, 'm5': 1.5899999999999999}. Best is trial 51 with value: 0.03397664624673418.\n"
     ]
    },
    {
     "name": "stdout",
     "output_type": "stream",
     "text": [
      "For ethcat 1 : s = 592.48, m = 965.1700000000001, F_s = 0.622721442073994, F_P = 0.6517778292798819, HLA_s = 94.48492777179416, HLA_P = 93.5592180663999 \n",
      "For ethcat 2 : s = 169.98, m = 965.1700000000001, F_s = 0.6899046946699612, F_P = 0.6517778292798819, HLA_s = 92.15686535902218, HLA_P = 93.5592180663999 \n",
      "For ethcat 4 : s = 147.39, m = 965.1700000000001, F_s = 0.7060858945654387, F_P = 0.6517778292798819, HLA_s = 92.94857370001156, HLA_P = 93.5592180663999 \n",
      "For ethcat 5 : s = 55.32, m = 965.1700000000001, F_s = 0.6950469992769343, F_P = 0.6517778292798819, HLA_s = 91.13407347281931, HLA_P = 93.5592180663999 \n"
     ]
    },
    {
     "name": "stderr",
     "output_type": "stream",
     "text": [
      "[I 2025-08-11 20:08:11,486] Trial 69 finished with value: 0.051101686579034515 and parameters: {'m1': 0.5, 'm2': 1.17, 'm4': 1.33, 'm5': 1.6400000000000001}. Best is trial 51 with value: 0.03397664624673418.\n"
     ]
    },
    {
     "name": "stdout",
     "output_type": "stream",
     "text": [
      "For ethcat 1 : s = 592.35, m = 965.39, F_s = 0.6081708449396471, F_P = 0.6490680821038918, HLA_s = 94.16685847034529, HLA_P = 93.39132798882693 \n",
      "For ethcat 2 : s = 170.02, m = 965.39, F_s = 0.7201505705211151, F_P = 0.6490680821038918, HLA_s = 92.25473551691101, HLA_P = 93.39132798882693 \n",
      "For ethcat 4 : s = 147.48, m = 965.39, F_s = 0.7148087876322213, F_P = 0.6490680821038918, HLA_s = 92.91386940514721, HLA_P = 93.39132798882693 \n",
      "For ethcat 5 : s = 55.54, m = 965.39, F_s = 0.6933741447605329, F_P = 0.6490680821038918, HLA_s = 91.3581708681684, HLA_P = 93.39132798882693 \n"
     ]
    },
    {
     "name": "stderr",
     "output_type": "stream",
     "text": [
      "[I 2025-08-11 20:09:33,368] Trial 70 finished with value: 0.0355196177363956 and parameters: {'m1': 0.79, 'm2': 1.11, 'm4': 1.1300000000000001, 'm5': 1.48}. Best is trial 51 with value: 0.03397664624673418.\n"
     ]
    },
    {
     "name": "stdout",
     "output_type": "stream",
     "text": [
      "For ethcat 1 : s = 593.87, m = 967.54, F_s = 0.6225436543351238, F_P = 0.650500613752061, HLA_s = 94.38076610022357, HLA_P = 93.54394495651435 \n",
      "For ethcat 2 : s = 170.37, m = 967.54, F_s = 0.6946645536185948, F_P = 0.650500613752061, HLA_s = 92.44573528762757, HLA_P = 93.54394495651435 \n",
      "For ethcat 4 : s = 147.75, m = 967.54, F_s = 0.6978680203045685, F_P = 0.650500613752061, HLA_s = 92.89594715881393, HLA_P = 93.54394495651435 \n",
      "For ethcat 5 : s = 55.55, m = 967.54, F_s = 0.6918091809180918, F_P = 0.650500613752061, HLA_s = 91.09770713109747, HLA_P = 93.54394495651435 \n"
     ]
    },
    {
     "name": "stderr",
     "output_type": "stream",
     "text": [
      "[I 2025-08-11 20:10:55,966] Trial 71 finished with value: 0.03718159956412203 and parameters: {'m1': 0.98, 'm2': 1.01, 'm4': 1.4300000000000002, 'm5': 1.56}. Best is trial 51 with value: 0.03397664624673418.\n"
     ]
    },
    {
     "name": "stdout",
     "output_type": "stream",
     "text": [
      "For ethcat 1 : s = 592.75, m = 965.99, F_s = 0.6220497680303669, F_P = 0.651554797436802, HLA_s = 94.38091716159153, HLA_P = 93.47520459375738 \n",
      "For ethcat 2 : s = 170.28, m = 965.99, F_s = 0.697322057787174, F_P = 0.651554797436802, HLA_s = 92.11911379216313, HLA_P = 93.47520459375738 \n",
      "For ethcat 4 : s = 147.5, m = 965.99, F_s = 0.7025762711864406, F_P = 0.651554797436802, HLA_s = 92.91402486268557, HLA_P = 93.47520459375738 \n",
      "For ethcat 5 : s = 55.46, m = 965.99, F_s = 0.6891453299675442, F_P = 0.651554797436802, HLA_s = 90.97115796653726, HLA_P = 93.47520459375738 \n"
     ]
    },
    {
     "name": "stderr",
     "output_type": "stream",
     "text": [
      "[I 2025-08-11 20:12:16,262] Trial 72 finished with value: 0.03512747860356684 and parameters: {'m1': 0.97, 'm2': 0.98, 'm4': 1.4500000000000002, 'm5': 1.69}. Best is trial 51 with value: 0.03397664624673418.\n"
     ]
    },
    {
     "name": "stdout",
     "output_type": "stream",
     "text": [
      "For ethcat 1 : s = 590.9, m = 962.86, F_s = 0.6222880352005415, F_P = 0.6502585882088457, HLA_s = 94.49561192819772, HLA_P = 93.54069517465368 \n",
      "For ethcat 2 : s = 169.77, m = 962.86, F_s = 0.6854567944866584, F_P = 0.6502585882088457, HLA_s = 92.04655751344276, HLA_P = 93.54069517465368 \n",
      "For ethcat 4 : s = 146.99, m = 962.86, F_s = 0.703721341587863, F_P = 0.6502585882088457, HLA_s = 92.89282377458936, HLA_P = 93.54069517465368 \n",
      "For ethcat 5 : s = 55.2, m = 962.86, F_s = 0.6932971014492754, F_P = 0.6502585882088457, HLA_s = 91.1535090757623, HLA_P = 93.54069517465368 \n"
     ]
    },
    {
     "name": "stderr",
     "output_type": "stream",
     "text": [
      "[I 2025-08-11 20:13:36,889] Trial 73 finished with value: 0.03692076677814486 and parameters: {'m1': 0.96, 'm2': 0.92, 'm4': 1.51, 'm5': 1.54}. Best is trial 51 with value: 0.03397664624673418.\n"
     ]
    },
    {
     "name": "stdout",
     "output_type": "stream",
     "text": [
      "For ethcat 1 : s = 591.5, m = 964.0, F_s = 0.6633136094674557, F_P = 0.6514548663399968, HLA_s = 94.58790181300523, HLA_P = 93.75687537919217 \n",
      "For ethcat 2 : s = 169.88, m = 964.0, F_s = 0.5485048269366612, F_P = 0.6514548663399968, HLA_s = 92.25337812905998, HLA_P = 93.75687537919217 \n",
      "For ethcat 4 : s = 147.33, m = 964.0, F_s = 0.706780696395846, F_P = 0.6514548663399968, HLA_s = 93.01264172418979, HLA_P = 93.75687537919217 \n",
      "For ethcat 5 : s = 55.29, m = 964.0, F_s = 0.6860191716404413, F_P = 0.6514548663399968, HLA_s = 91.36472910335053, HLA_P = 93.75687537919217 \n"
     ]
    },
    {
     "name": "stderr",
     "output_type": "stream",
     "text": [
      "[I 2025-08-11 20:14:56,745] Trial 74 finished with value: 0.035032412740354416 and parameters: {'m1': 0.9, 'm2': 1.05, 'm4': 1.3900000000000001, 'm5': 1.5899999999999999}. Best is trial 51 with value: 0.03397664624673418.\n"
     ]
    },
    {
     "name": "stdout",
     "output_type": "stream",
     "text": [
      "For ethcat 1 : s = 590.64, m = 962.2899999999998, F_s = 0.6212413652986591, F_P = 0.648578046161221, HLA_s = 94.38414597412714, HLA_P = 93.46121766360704 \n",
      "For ethcat 2 : s = 169.54, m = 962.2899999999998, F_s = 0.6917541583107232, F_P = 0.648578046161221, HLA_s = 92.13252609540127, HLA_P = 93.46121766360704 \n",
      "For ethcat 4 : s = 146.95, m = 962.2899999999998, F_s = 0.6988771691051379, F_P = 0.648578046161221, HLA_s = 92.65167481088083, HLA_P = 93.46121766360704 \n",
      "For ethcat 5 : s = 55.16, m = 962.2899999999998, F_s = 0.6812907904278462, F_P = 0.648578046161221, HLA_s = 91.2799188940135, HLA_P = 93.46121766360704 \n"
     ]
    },
    {
     "name": "stderr",
     "output_type": "stream",
     "text": [
      "[I 2025-08-11 20:16:16,743] Trial 75 finished with value: 0.035464865201344245 and parameters: {'m1': 0.9299999999999999, 'm2': 1.0, 'm4': 0.98, 'm5': 1.73}. Best is trial 51 with value: 0.03397664624673418.\n"
     ]
    },
    {
     "name": "stdout",
     "output_type": "stream",
     "text": [
      "For ethcat 1 : s = 591.91, m = 964.58, F_s = 0.6207700495007688, F_P = 0.6493822981231757, HLA_s = 94.3616748259749, HLA_P = 93.43404346935307 \n",
      "For ethcat 2 : s = 170.22, m = 964.58, F_s = 0.7298202326401129, F_P = 0.6493822981231757, HLA_s = 92.13534906485354, HLA_P = 93.43404346935307 \n",
      "For ethcat 4 : s = 147.25, m = 964.58, F_s = 0.6538539898132428, F_P = 0.6493822981231757, HLA_s = 92.55640185477353, HLA_P = 93.43404346935307 \n",
      "For ethcat 5 : s = 55.2, m = 964.58, F_s = 0.6831521739130435, F_P = 0.6493822981231757, HLA_s = 91.23703087472624, HLA_P = 93.43404346935307 \n"
     ]
    },
    {
     "name": "stderr",
     "output_type": "stream",
     "text": [
      "[I 2025-08-11 20:17:39,099] Trial 76 finished with value: 0.03730360268742384 and parameters: {'m1': 0.98, 'm2': 0.96, 'm4': 1.44, 'm5': 1.51}. Best is trial 51 with value: 0.03397664624673418.\n"
     ]
    },
    {
     "name": "stdout",
     "output_type": "stream",
     "text": [
      "For ethcat 1 : s = 592.62, m = 965.53, F_s = 0.6654179744186831, F_P = 0.652842687730842, HLA_s = 94.72925777109562, HLA_P = 93.81522868508301 \n",
      "For ethcat 2 : s = 170.32, m = 965.53, F_s = 0.5493189290746829, F_P = 0.652842687730842, HLA_s = 92.14224734885589, HLA_P = 93.81522868508301 \n",
      "For ethcat 4 : s = 147.28, m = 965.53, F_s = 0.7049837045084193, F_P = 0.652842687730842, HLA_s = 93.11265308756991, HLA_P = 93.81522868508301 \n",
      "For ethcat 5 : s = 55.31, m = 965.53, F_s = 0.6913758813957693, F_P = 0.652842687730842, HLA_s = 91.0340194974117, HLA_P = 93.81522868508301 \n"
     ]
    },
    {
     "name": "stderr",
     "output_type": "stream",
     "text": [
      "[I 2025-08-11 20:19:00,124] Trial 77 finished with value: 0.045995008400264284 and parameters: {'m1': 0.81, 'm2': 1.75, 'm4': 1.5, 'm5': 1.45}. Best is trial 51 with value: 0.03397664624673418.\n"
     ]
    },
    {
     "name": "stdout",
     "output_type": "stream",
     "text": [
      "For ethcat 1 : s = 590.89, m = 962.7199999999999, F_s = 0.6191846198107939, F_P = 0.6521803423123544, HLA_s = 94.24259555183443, HLA_P = 93.44358116207734 \n",
      "For ethcat 2 : s = 169.69, m = 962.7199999999999, F_s = 0.7593847604455184, F_P = 0.6521803423123544, HLA_s = 92.29147327590272, HLA_P = 93.44358116207734 \n",
      "For ethcat 4 : s = 146.8, m = 962.7199999999999, F_s = 0.6763623978201635, F_P = 0.6521803423123544, HLA_s = 93.05995177971144, HLA_P = 93.44358116207734 \n",
      "For ethcat 5 : s = 55.34, m = 962.7199999999999, F_s = 0.6134803035778822, F_P = 0.6521803423123544, HLA_s = 90.86217376617633, HLA_P = 93.44358116207734 \n"
     ]
    },
    {
     "name": "stderr",
     "output_type": "stream",
     "text": [
      "[I 2025-08-11 20:20:21,159] Trial 78 finished with value: 0.03556483097909334 and parameters: {'m1': 0.88, 'm2': 1.21, 'm4': 0.9400000000000001, 'm5': 1.57}. Best is trial 51 with value: 0.03397664624673418.\n"
     ]
    },
    {
     "name": "stdout",
     "output_type": "stream",
     "text": [
      "For ethcat 1 : s = 592.14, m = 964.8, F_s = 0.6230114499949337, F_P = 0.6504178057815101, HLA_s = 94.42992418887778, HLA_P = 93.48132741169246 \n",
      "For ethcat 2 : s = 170.2, m = 964.8, F_s = 0.7371327849588719, F_P = 0.6504178057815101, HLA_s = 92.21386163751717, HLA_P = 93.48132741169246 \n",
      "For ethcat 4 : s = 147.2, m = 964.8, F_s = 0.6472826086956522, F_P = 0.6504178057815101, HLA_s = 92.50142188156522, HLA_P = 93.48132741169246 \n",
      "For ethcat 5 : s = 55.26, m = 964.8, F_s = 0.6827723488961274, F_P = 0.6504178057815101, HLA_s = 91.36956232791805, HLA_P = 93.48132741169246 \n"
     ]
    },
    {
     "name": "stderr",
     "output_type": "stream",
     "text": [
      "[I 2025-08-11 20:21:41,028] Trial 79 finished with value: 0.03343925718228179 and parameters: {'m1': 0.91, 'm2': 1.03, 'm4': 1.27, 'm5': 1.62}. Best is trial 79 with value: 0.03343925718228179.\n"
     ]
    },
    {
     "name": "stdout",
     "output_type": "stream",
     "text": [
      "For ethcat 1 : s = 591.06, m = 963.0, F_s = 0.6228640070382025, F_P = 0.6491031867495117, HLA_s = 94.43718200734548, HLA_P = 93.528112211185 \n",
      "For ethcat 2 : s = 169.59, m = 963.0, F_s = 0.6891915796921988, F_P = 0.6491031867495117, HLA_s = 92.13150128739217, HLA_P = 93.528112211185 \n",
      "For ethcat 4 : s = 147.02, m = 963.0, F_s = 0.6931029791865052, F_P = 0.6491031867495117, HLA_s = 92.94260908983465, HLA_P = 93.528112211185 \n",
      "For ethcat 5 : s = 55.33, m = 963.0, F_s = 0.6923911078980662, F_P = 0.6491031867495117, HLA_s = 91.13992055173512, HLA_P = 93.528112211185 \n"
     ]
    },
    {
     "name": "stderr",
     "output_type": "stream",
     "text": [
      "[I 2025-08-11 20:23:02,011] Trial 80 finished with value: 0.03651178108627921 and parameters: {'m1': 0.91, 'm2': 1.06, 'm4': 1.36, 'm5': 1.65}. Best is trial 79 with value: 0.03343925718228179.\n"
     ]
    },
    {
     "name": "stdout",
     "output_type": "stream",
     "text": [
      "For ethcat 1 : s = 591.35, m = 962.7600000000001, F_s = 0.6212226261943011, F_P = 0.6496026838924042, HLA_s = 94.42309100037329, HLA_P = 93.51306492144111 \n",
      "For ethcat 2 : s = 169.4, m = 962.7600000000001, F_s = 0.6943919716646989, F_P = 0.6496026838924042, HLA_s = 92.19383774541885, HLA_P = 93.51306492144111 \n",
      "For ethcat 4 : s = 146.69, m = 962.7600000000001, F_s = 0.7021610198377531, F_P = 0.6496026838924042, HLA_s = 92.79954461370964, HLA_P = 93.51306492144111 \n",
      "For ethcat 5 : s = 55.32, m = 962.7600000000001, F_s = 0.6863702096890817, F_P = 0.6496026838924042, HLA_s = 91.09968434811331, HLA_P = 93.51306492144111 \n"
     ]
    },
    {
     "name": "stderr",
     "output_type": "stream",
     "text": [
      "[I 2025-08-11 20:24:22,440] Trial 81 finished with value: 0.03504914435919382 and parameters: {'m1': 0.99, 'm2': 1.01, 'm4': 1.26, 'm5': 1.62}. Best is trial 79 with value: 0.03343925718228179.\n"
     ]
    },
    {
     "name": "stdout",
     "output_type": "stream",
     "text": [
      "For ethcat 1 : s = 592.02, m = 964.6, F_s = 0.6232728624032973, F_P = 0.650746432595582, HLA_s = 94.40396952957016, HLA_P = 93.4539111912738 \n",
      "For ethcat 2 : s = 169.94, m = 964.6, F_s = 0.6913028127574439, F_P = 0.650746432595582, HLA_s = 91.98865056830444, HLA_P = 93.4539111912738 \n",
      "For ethcat 4 : s = 147.4, m = 964.6, F_s = 0.700203527815468, F_P = 0.650746432595582, HLA_s = 92.73433064943193, HLA_P = 93.4539111912738 \n",
      "For ethcat 5 : s = 55.24, m = 964.6, F_s = 0.6920709630702389, F_P = 0.650746432595582, HLA_s = 91.2290980896245, HLA_P = 93.4539111912738 \n"
     ]
    },
    {
     "name": "stderr",
     "output_type": "stream",
     "text": [
      "[I 2025-08-11 20:25:43,310] Trial 82 finished with value: 0.022482123425080245 and parameters: {'m1': 0.94, 'm2': 0.9400000000000001, 'm4': 1.42, 'm5': 1.53}. Best is trial 82 with value: 0.022482123425080245.\n"
     ]
    },
    {
     "name": "stdout",
     "output_type": "stream",
     "text": [
      "For ethcat 1 : s = 591.81, m = 963.67, F_s = 0.6435173450938646, F_P = 0.6480340000748125, HLA_s = 95.16165831502107, HLA_P = 94.20606870025851 \n",
      "For ethcat 2 : s = 169.63, m = 963.67, F_s = 0.6023109119849084, F_P = 0.6480340000748125, HLA_s = 92.81984006296, HLA_P = 94.20606870025851 \n",
      "For ethcat 4 : s = 146.98, m = 963.67, F_s = 0.7010477616002178, F_P = 0.6480340000748125, HLA_s = 93.2801021581952, HLA_P = 94.20606870025851 \n",
      "For ethcat 5 : s = 55.25, m = 963.67, F_s = 0.6899547511312216, F_P = 0.6480340000748125, HLA_s = 91.48221005810791, HLA_P = 94.20606870025851 \n"
     ]
    },
    {
     "name": "stderr",
     "output_type": "stream",
     "text": [
      "[I 2025-08-11 20:27:03,034] Trial 83 finished with value: 0.032288648189051083 and parameters: {'m1': 0.9299999999999999, 'm2': 0.9400000000000001, 'm4': 1.33, 'm5': 1.49}. Best is trial 82 with value: 0.022482123425080245.\n"
     ]
    },
    {
     "name": "stdout",
     "output_type": "stream",
     "text": [
      "For ethcat 1 : s = 592.09, m = 964.9200000000001, F_s = 0.6252934520089851, F_P = 0.6510808855453495, HLA_s = 94.54659678458593, HLA_P = 93.5673351764233 \n",
      "For ethcat 2 : s = 170.12, m = 964.9200000000001, F_s = 0.6836350811192099, F_P = 0.6510808855453495, HLA_s = 92.09178881425505, HLA_P = 93.5673351764233 \n",
      "For ethcat 4 : s = 147.37, m = 964.9200000000001, F_s = 0.7015674832055371, F_P = 0.6510808855453495, HLA_s = 92.77703208510755, HLA_P = 93.5673351764233 \n",
      "For ethcat 5 : s = 55.34, m = 964.9200000000001, F_s = 0.6834116371521503, F_P = 0.6510808855453495, HLA_s = 91.15712432302233, HLA_P = 93.5673351764233 \n"
     ]
    },
    {
     "name": "stderr",
     "output_type": "stream",
     "text": [
      "[I 2025-08-11 20:28:25,107] Trial 84 finished with value: 0.03707401721656645 and parameters: {'m1': 0.95, 'm2': 0.93, 'm4': 1.22, 'm5': 1.48}. Best is trial 82 with value: 0.022482123425080245.\n"
     ]
    },
    {
     "name": "stdout",
     "output_type": "stream",
     "text": [
      "For ethcat 1 : s = 592.23, m = 964.8700000000001, F_s = 0.6627999257045404, F_P = 0.6507858297090475, HLA_s = 94.59921890262595, HLA_P = 93.74408397454894 \n",
      "For ethcat 2 : s = 169.98, m = 964.8700000000001, F_s = 0.5475350041181315, F_P = 0.6507858297090475, HLA_s = 92.2331693854323, HLA_P = 93.74408397454894 \n",
      "For ethcat 4 : s = 147.35, m = 964.8700000000001, F_s = 0.7044451985069562, F_P = 0.6507858297090475, HLA_s = 92.90907817157422, HLA_P = 93.74408397454894 \n",
      "For ethcat 5 : s = 55.31, m = 964.8700000000001, F_s = 0.6895678900741277, F_P = 0.6507858297090475, HLA_s = 91.3783893038494, HLA_P = 93.74408397454894 \n"
     ]
    },
    {
     "name": "stderr",
     "output_type": "stream",
     "text": [
      "[I 2025-08-11 20:29:47,267] Trial 85 finished with value: 0.03767241143831267 and parameters: {'m1': 0.9299999999999999, 'm2': 0.9400000000000001, 'm4': 1.28, 'm5': 1.3900000000000001}. Best is trial 82 with value: 0.022482123425080245.\n"
     ]
    },
    {
     "name": "stdout",
     "output_type": "stream",
     "text": [
      "For ethcat 1 : s = 591.64, m = 963.9799999999999, F_s = 0.6182644851598946, F_P = 0.648421336170436, HLA_s = 94.4082055154005, HLA_P = 93.47554122009049 \n",
      "For ethcat 2 : s = 169.94, m = 963.9799999999999, F_s = 0.6910085912675062, F_P = 0.648421336170436, HLA_s = 92.03864727829541, HLA_P = 93.47554122009049 \n",
      "For ethcat 4 : s = 147.12, m = 963.9799999999999, F_s = 0.7041870581837955, F_P = 0.648421336170436, HLA_s = 92.86028751713152, HLA_P = 93.47554122009049 \n",
      "For ethcat 5 : s = 55.28, m = 963.9799999999999, F_s = 0.6841534008683068, F_P = 0.648421336170436, HLA_s = 91.08610271540206, HLA_P = 93.47554122009049 \n"
     ]
    },
    {
     "name": "stderr",
     "output_type": "stream",
     "text": [
      "[I 2025-08-11 20:31:08,272] Trial 86 finished with value: 0.036449845579543005 and parameters: {'m1': 0.9199999999999999, 'm2': 0.91, 'm4': 1.32, 'm5': 1.35}. Best is trial 82 with value: 0.022482123425080245.\n"
     ]
    },
    {
     "name": "stdout",
     "output_type": "stream",
     "text": [
      "For ethcat 1 : s = 594.65, m = 968.62, F_s = 0.6648112334986968, F_P = 0.6515646614292361, HLA_s = 94.64640995866812, HLA_P = 93.7587554534338 \n",
      "For ethcat 2 : s = 170.58, m = 968.62, F_s = 0.5504162269902685, F_P = 0.6515646614292361, HLA_s = 92.15065027182405, HLA_P = 93.7587554534338 \n",
      "For ethcat 4 : s = 147.85, m = 968.62, F_s = 0.7014541765302671, F_P = 0.6515646614292361, HLA_s = 92.99605967624235, HLA_P = 93.7587554534338 \n",
      "For ethcat 5 : s = 55.54, m = 968.62, F_s = 0.6822110190853439, F_P = 0.6515646614292361, HLA_s = 91.10346152834335, HLA_P = 93.7587554534338 \n"
     ]
    },
    {
     "name": "stderr",
     "output_type": "stream",
     "text": [
      "[I 2025-08-11 20:32:26,284] Trial 87 finished with value: 0.03764852488333018 and parameters: {'m1': 1.0, 'm2': 0.99, 'm4': 1.06, 'm5': 1.42}. Best is trial 82 with value: 0.022482123425080245.\n"
     ]
    },
    {
     "name": "stdout",
     "output_type": "stream",
     "text": [
      "For ethcat 1 : s = 589.9, m = 960.99, F_s = 0.66465502627564, F_P = 0.6497288140371923, HLA_s = 94.74469822099849, HLA_P = 93.83148917981416 \n",
      "For ethcat 2 : s = 169.18, m = 960.99, F_s = 0.5490601725972337, F_P = 0.6497288140371923, HLA_s = 92.22469199060511, HLA_P = 93.83148917981416 \n",
      "For ethcat 4 : s = 146.7, m = 960.99, F_s = 0.6991138377641446, F_P = 0.6497288140371923, HLA_s = 92.86605357519403, HLA_P = 93.83148917981416 \n",
      "For ethcat 5 : s = 55.21, m = 960.99, F_s = 0.6853830827748597, F_P = 0.6497288140371923, HLA_s = 91.40010080055646, HLA_P = 93.83148917981416 \n"
     ]
    },
    {
     "name": "stderr",
     "output_type": "stream",
     "text": [
      "[I 2025-08-11 20:33:48,979] Trial 88 finished with value: 0.048462932355641364 and parameters: {'m1': 0.52, 'm2': 1.15, 'm4': 1.36, 'm5': 1.54}. Best is trial 82 with value: 0.022482123425080245.\n"
     ]
    },
    {
     "name": "stdout",
     "output_type": "stream",
     "text": [
      "For ethcat 1 : s = 593.5, m = 966.5, F_s = 0.613782645324347, F_P = 0.6523740736545389, HLA_s = 94.15920387026269, HLA_P = 93.37953949237776 \n",
      "For ethcat 2 : s = 170.26, m = 966.5, F_s = 0.7167273581581112, F_P = 0.6523740736545389, HLA_s = 92.15948570707478, HLA_P = 93.37953949237776 \n",
      "For ethcat 4 : s = 147.33, m = 966.5, F_s = 0.7153329260843005, F_P = 0.6523740736545389, HLA_s = 93.0678816689075, HLA_P = 93.37953949237776 \n",
      "For ethcat 5 : s = 55.41, m = 966.5, F_s = 0.7034831257895686, F_P = 0.6523740736545389, HLA_s = 91.11657886254513, HLA_P = 93.37953949237776 \n"
     ]
    },
    {
     "name": "stderr",
     "output_type": "stream",
     "text": [
      "[I 2025-08-11 20:35:07,869] Trial 89 finished with value: 0.03643576526005191 and parameters: {'m1': 0.95, 'm2': 1.04, 'm4': 1.17, 'm5': 1.6}. Best is trial 82 with value: 0.022482123425080245.\n"
     ]
    },
    {
     "name": "stdout",
     "output_type": "stream",
     "text": [
      "For ethcat 1 : s = 590.8, m = 962.8499999999999, F_s = 0.6202945159106298, F_P = 0.6489044178114511, HLA_s = 94.4415865485091, HLA_P = 93.51101031687548 \n",
      "For ethcat 2 : s = 169.82, m = 962.8499999999999, F_s = 0.6893181015192558, F_P = 0.6489044178114511, HLA_s = 92.12705819103184, HLA_P = 93.51101031687548 \n",
      "For ethcat 4 : s = 147.09, m = 962.8499999999999, F_s = 0.7022911142837718, F_P = 0.6489044178114511, HLA_s = 92.75621725735905, HLA_P = 93.51101031687548 \n",
      "For ethcat 5 : s = 55.14, m = 962.8499999999999, F_s = 0.6926006528835691, F_P = 0.6489044178114511, HLA_s = 91.34675689826832, HLA_P = 93.51101031687548 \n"
     ]
    },
    {
     "name": "stderr",
     "output_type": "stream",
     "text": [
      "[I 2025-08-11 20:36:30,768] Trial 90 finished with value: 0.03516992265283505 and parameters: {'m1': 0.91, 'm2': 0.9500000000000001, 'm4': 0.9400000000000001, 'm5': 1.45}. Best is trial 82 with value: 0.022482123425080245.\n"
     ]
    },
    {
     "name": "stdout",
     "output_type": "stream",
     "text": [
      "For ethcat 1 : s = 593.13, m = 966.41, F_s = 0.6217018191627468, F_P = 0.6501929750244141, HLA_s = 94.52982190473966, HLA_P = 93.51562616644965 \n",
      "For ethcat 2 : s = 170.43, m = 966.41, F_s = 0.728392888575955, F_P = 0.6501929750244141, HLA_s = 92.00304619810487, HLA_P = 93.51562616644965 \n",
      "For ethcat 4 : s = 147.38, m = 966.41, F_s = 0.6508345772832135, F_P = 0.6501929750244141, HLA_s = 92.66624797709832, HLA_P = 93.51562616644965 \n",
      "For ethcat 5 : s = 55.47, m = 966.41, F_s = 0.6956913647016406, F_P = 0.6501929750244141, HLA_s = 91.33959831654036, HLA_P = 93.51562616644965 \n"
     ]
    },
    {
     "name": "stderr",
     "output_type": "stream",
     "text": [
      "[I 2025-08-11 20:37:49,776] Trial 91 finished with value: 0.03517570761214579 and parameters: {'m1': 0.87, 'm2': 0.98, 'm4': 1.4100000000000001, 'm5': 1.53}. Best is trial 82 with value: 0.022482123425080245.\n"
     ]
    },
    {
     "name": "stdout",
     "output_type": "stream",
     "text": [
      "For ethcat 1 : s = 589.59, m = 960.69, F_s = 0.6210587018097322, F_P = 0.6492809781902966, HLA_s = 94.42647192298129, HLA_P = 93.4735257864082 \n",
      "For ethcat 2 : s = 169.31, m = 960.69, F_s = 0.6939932667887307, F_P = 0.6492809781902966, HLA_s = 92.02058373531241, HLA_P = 93.4735257864082 \n",
      "For ethcat 4 : s = 146.55, m = 960.69, F_s = 0.6949164107813033, F_P = 0.6492809781902966, HLA_s = 92.78777164010728, HLA_P = 93.4735257864082 \n",
      "For ethcat 5 : s = 55.24, m = 960.69, F_s = 0.6821144098479363, F_P = 0.6492809781902966, HLA_s = 91.10764048526983, HLA_P = 93.4735257864082 \n"
     ]
    },
    {
     "name": "stderr",
     "output_type": "stream",
     "text": [
      "[I 2025-08-11 20:39:10,244] Trial 92 finished with value: 0.04133919673558459 and parameters: {'m1': 0.8500000000000001, 'm2': 1.79, 'm4': 1.3900000000000001, 'm5': 1.5}. Best is trial 82 with value: 0.022482123425080245.\n"
     ]
    },
    {
     "name": "stdout",
     "output_type": "stream",
     "text": [
      "For ethcat 1 : s = 589.63, m = 960.17, F_s = 0.6175058935264488, F_P = 0.6501050389769528, HLA_s = 94.30504722251432, HLA_P = 93.47605014927579 \n",
      "For ethcat 2 : s = 169.18, m = 960.17, F_s = 0.7512708357961934, F_P = 0.6501050389769528, HLA_s = 92.4495090205352, HLA_P = 93.47605014927579 \n",
      "For ethcat 4 : s = 146.25, m = 960.17, F_s = 0.6657094017094017, F_P = 0.6501050389769528, HLA_s = 92.81440524561575, HLA_P = 93.47605014927579 \n",
      "For ethcat 5 : s = 55.11, m = 960.17, F_s = 0.6525131555071675, F_P = 0.6501050389769528, HLA_s = 90.85546489564824, HLA_P = 93.47605014927579 \n"
     ]
    },
    {
     "name": "stderr",
     "output_type": "stream",
     "text": [
      "[I 2025-08-11 20:40:30,497] Trial 93 finished with value: 0.03505352398240143 and parameters: {'m1': 0.88, 'm2': 0.9400000000000001, 'm4': 0.99, 'm5': 1.31}. Best is trial 82 with value: 0.022482123425080245.\n"
     ]
    },
    {
     "name": "stdout",
     "output_type": "stream",
     "text": [
      "For ethcat 1 : s = 590.94, m = 962.69, F_s = 0.6207229160320844, F_P = 0.6491294400254, HLA_s = 94.47786815927742, HLA_P = 93.53060359690998 \n",
      "For ethcat 2 : s = 169.64, m = 962.69, F_s = 0.693763263381278, F_P = 0.6491294400254, HLA_s = 92.11772430873056, HLA_P = 93.53060359690998 \n",
      "For ethcat 4 : s = 147.03, m = 962.69, F_s = 0.692783785621982, F_P = 0.6491294400254, HLA_s = 92.82414924627355, HLA_P = 93.53060359690998 \n",
      "For ethcat 5 : s = 55.08, m = 962.69, F_s = 0.6835511982570806, F_P = 0.6491294400254, HLA_s = 91.17704055636567, HLA_P = 93.53060359690998 \n"
     ]
    },
    {
     "name": "stderr",
     "output_type": "stream",
     "text": [
      "[I 2025-08-11 20:41:50,558] Trial 94 finished with value: 0.034848696760095575 and parameters: {'m1': 0.9299999999999999, 'm2': 0.97, 'm4': 1.42, 'm5': 1.7000000000000002}. Best is trial 82 with value: 0.022482123425080245.\n"
     ]
    },
    {
     "name": "stdout",
     "output_type": "stream",
     "text": [
      "For ethcat 1 : s = 590.5, m = 962.6000000000001, F_s = 0.6224894157493649, F_P = 0.6504938555942974, HLA_s = 94.3579809631668, HLA_P = 93.46381110460294 \n",
      "For ethcat 2 : s = 169.83, m = 962.6000000000001, F_s = 0.6898663369251604, F_P = 0.6504938555942974, HLA_s = 92.10566126250997, HLA_P = 93.46381110460294 \n",
      "For ethcat 4 : s = 147.07, m = 962.6000000000001, F_s = 0.7021826341198069, F_P = 0.6504938555942974, HLA_s = 92.82520069276877, HLA_P = 93.46381110460294 \n",
      "For ethcat 5 : s = 55.2, m = 962.6000000000001, F_s = 0.6813405797101448, F_P = 0.6504938555942974, HLA_s = 91.16560978568857, HLA_P = 93.46381110460294 \n"
     ]
    },
    {
     "name": "stderr",
     "output_type": "stream",
     "text": [
      "[I 2025-08-11 20:43:11,509] Trial 95 finished with value: 0.03607977821395877 and parameters: {'m1': 0.94, 'm2': 1.09, 'm4': 1.34, 'm5': 1.6600000000000001}. Best is trial 82 with value: 0.022482123425080245.\n"
     ]
    },
    {
     "name": "stdout",
     "output_type": "stream",
     "text": [
      "For ethcat 1 : s = 592.18, m = 964.67, F_s = 0.621213144651964, F_P = 0.6493556279393212, HLA_s = 94.39575142194177, HLA_P = 93.51224881395196 \n",
      "For ethcat 2 : s = 169.86, m = 964.67, F_s = 0.6946308724832214, F_P = 0.6493556279393212, HLA_s = 92.24428318034514, HLA_P = 93.51224881395196 \n",
      "For ethcat 4 : s = 147.25, m = 964.67, F_s = 0.6959592529711376, F_P = 0.6493556279393212, HLA_s = 92.84889995173607, HLA_P = 93.51224881395196 \n",
      "For ethcat 5 : s = 55.38, m = 964.67, F_s = 0.6960996749729144, F_P = 0.6493556279393212, HLA_s = 91.22568213212053, HLA_P = 93.51224881395196 \n"
     ]
    },
    {
     "name": "stderr",
     "output_type": "stream",
     "text": [
      "[I 2025-08-11 20:44:29,546] Trial 96 finished with value: 0.03816248454598886 and parameters: {'m1': 0.9, 'm2': 0.92, 'm4': 1.4700000000000002, 'm5': 1.63}. Best is trial 82 with value: 0.022482123425080245.\n"
     ]
    },
    {
     "name": "stdout",
     "output_type": "stream",
     "text": [
      "For ethcat 1 : s = 590.94, m = 962.81, F_s = 0.6177784546654482, F_P = 0.6482758822047053, HLA_s = 94.36603718062614, HLA_P = 93.45551033716244 \n",
      "For ethcat 2 : s = 169.64, m = 962.81, F_s = 0.6914053289318558, F_P = 0.6482758822047053, HLA_s = 91.99411391116111, HLA_P = 93.45551033716244 \n",
      "For ethcat 4 : s = 146.95, m = 962.81, F_s = 0.7045933991153455, F_P = 0.6482758822047053, HLA_s = 92.94553751665308, HLA_P = 93.45551033716244 \n",
      "For ethcat 5 : s = 55.28, m = 962.81, F_s = 0.6863241678726483, F_P = 0.6482758822047053, HLA_s = 91.16950861094165, HLA_P = 93.45551033716244 \n"
     ]
    },
    {
     "name": "stderr",
     "output_type": "stream",
     "text": [
      "[I 2025-08-11 20:45:49,603] Trial 97 finished with value: 0.019879737205662353 and parameters: {'m1': 0.96, 'm2': 0.96, 'm4': 1.37, 'm5': 1.69}. Best is trial 97 with value: 0.019879737205662353.\n"
     ]
    },
    {
     "name": "stdout",
     "output_type": "stream",
     "text": [
      "For ethcat 1 : s = 592.59, m = 965.1800000000001, F_s = 0.6455221991596213, F_P = 0.6487015108611799, HLA_s = 95.15728731735325, HLA_P = 94.21816035897557 \n",
      "For ethcat 2 : s = 170.12, m = 965.1800000000001, F_s = 0.6061015753585705, F_P = 0.6487015108611799, HLA_s = 92.89269187275076, HLA_P = 94.21816035897557 \n",
      "For ethcat 4 : s = 147.11, m = 965.1800000000001, F_s = 0.6966895520358914, F_P = 0.6487015108611799, HLA_s = 93.2345195216973, HLA_P = 94.21816035897557 \n",
      "For ethcat 5 : s = 55.36, m = 965.1800000000001, F_s = 0.6828034682080925, F_P = 0.6487015108611799, HLA_s = 91.62303893663251, HLA_P = 94.21816035897557 \n"
     ]
    },
    {
     "name": "stderr",
     "output_type": "stream",
     "text": [
      "[I 2025-08-11 20:47:10,737] Trial 98 finished with value: 0.036950918208260186 and parameters: {'m1': 0.96, 'm2': 1.03, 'm4': 1.27, 'm5': 1.58}. Best is trial 97 with value: 0.019879737205662353.\n"
     ]
    },
    {
     "name": "stdout",
     "output_type": "stream",
     "text": [
      "For ethcat 1 : s = 590.47, m = 962.07, F_s = 0.6187105187393093, F_P = 0.6477599566793522, HLA_s = 94.47602276400364, HLA_P = 93.53529742242782 \n",
      "For ethcat 2 : s = 169.48, m = 962.07, F_s = 0.6922940759971679, F_P = 0.6477599566793522, HLA_s = 92.15605002158573, HLA_P = 93.53529742242782 \n",
      "For ethcat 4 : s = 146.92, m = 962.07, F_s = 0.7010618023414104, F_P = 0.6477599566793522, HLA_s = 92.8726536578152, HLA_P = 93.53529742242782 \n",
      "For ethcat 5 : s = 55.2, m = 962.07, F_s = 0.6831521739130435, F_P = 0.6477599566793522, HLA_s = 91.04970940455729, HLA_P = 93.53529742242782 \n"
     ]
    },
    {
     "name": "stderr",
     "output_type": "stream",
     "text": [
      "[I 2025-08-11 20:48:32,546] Trial 99 finished with value: 0.03953894164070605 and parameters: {'m1': 0.6, 'm2': 1.1300000000000001, 'm4': 1.02, 'm5': 1.6099999999999999}. Best is trial 97 with value: 0.019879737205662353.\n"
     ]
    },
    {
     "name": "stdout",
     "output_type": "stream",
     "text": [
      "For ethcat 1 : s = 592.25, m = 965.1299999999999, F_s = 0.619636977627691, F_P = 0.6507077677789921, HLA_s = 94.36138455063573, HLA_P = 93.46865561640148 \n",
      "For ethcat 2 : s = 170.04, m = 965.1299999999999, F_s = 0.7352975770406963, F_P = 0.6507077677789921, HLA_s = 92.18401891812677, HLA_P = 93.46865561640148 \n",
      "For ethcat 4 : s = 147.4, m = 965.1299999999999, F_s = 0.6585481682496607, F_P = 0.6507077677789921, HLA_s = 92.80561929978727, HLA_P = 93.46865561640148 \n",
      "For ethcat 5 : s = 55.44, m = 965.1299999999999, F_s = 0.7086940836940837, F_P = 0.6507077677789921, HLA_s = 91.2222546741688, HLA_P = 93.46865561640148 \n",
      "Best value of m1 (ethcat 1): 0.96\n",
      "Best value of m2 (ethcat 2): 0.96\n",
      "Best value of m4 (ethcat 4): 1.37\n",
      "Best value of m5 (ethcat 5): 1.69\n",
      "Minimum KPI reached: 0.019879737205662353\n"
     ]
    }
   ],
   "source": [
    "import optuna\n",
    "import numpy as np\n",
    "\n",
    "def objective(trial):\n",
    "    \n",
    "    m1 = trial.suggest_float('m1', 0.5, 1.0, step=0.01) \n",
    "    m2 = trial.suggest_float('m2', 0.9, 1.8, step=0.01)  \n",
    "    m4 = trial.suggest_float('m4', 0.9, 1.8, step=0.01)  \n",
    "    m5 = trial.suggest_float('m5', 1.0, 2, step=0.01)  \n",
    "\n",
    "    kpi = objective_function(m1, m2, m4, m5)\n",
    "    return kpi\n",
    "\n",
    "\n",
    "study = optuna.create_study(direction='minimize')\n",
    "study.enqueue_trial({'m1': 1, 'm2': 1, 'm4': 1, 'm5': 1})\n",
    "study.optimize(objective, n_trials=100)\n",
    "\n",
    "\n",
    "print(\"Best value of m1 (ethcat 1):\", study.best_params['m1'])\n",
    "print(\"Best value of m2 (ethcat 2):\", study.best_params['m2'])\n",
    "print(\"Best value of m4 (ethcat 4):\", study.best_params['m4'])\n",
    "print(\"Best value of m5 (ethcat 5):\", study.best_params['m5'])\n",
    "print(\"Minimum KPI reached:\", study.best_value)\n"
   ]
  },
  {
   "cell_type": "code",
   "execution_count": 47,
   "metadata": {},
   "outputs": [
    {
     "name": "stdout",
     "output_type": "stream",
     "text": [
      "0 1.0 1.0 1.0 1.0 0.03941295348732311\n",
      "1 0.97 1.1600000000000001 0.93 1.78 0.05016772669114298\n",
      "2 0.61 0.97 1.59 1.12 0.0427322083791261\n",
      "3 0.56 0.9500000000000001 0.97 1.25 0.03474652516209947\n",
      "4 0.77 1.35 1.63 1.2 0.045459454819142965\n",
      "5 0.99 1.2 1.34 1.67 0.03452982203852039\n",
      "6 0.62 1.1300000000000001 1.1300000000000001 1.72 0.0379879486742837\n",
      "7 0.6799999999999999 1.55 1.24 1.85 0.04186908903857025\n",
      "8 0.67 1.1400000000000001 1.71 1.7000000000000002 0.04323771714576876\n",
      "9 0.53 1.52 1.27 1.15 0.05069943452646463\n",
      "10 0.86 1.75 1.46 1.48 0.04097833649228535\n",
      "11 0.8500000000000001 0.9400000000000001 1.4100000000000001 1.45 0.03558845617362863\n",
      "12 0.52 1.3 1.1 1.34 0.05115962827184663\n",
      "13 0.89 1.22 1.1 1.98 0.03909285639083959\n",
      "14 0.76 1.05 1.49 1.58 0.03845829055860278\n",
      "15 0.81 1.4300000000000002 1.25 1.32 0.03847684122938711\n",
      "16 0.94 0.92 1.78 1.6099999999999999 0.03723736359846269\n",
      "17 0.69 1.28 0.9 1.37 0.035525097805791314\n",
      "18 0.58 1.06 1.35 1.24 0.04337412303756319\n",
      "19 0.9199999999999999 1.6600000000000001 1.0 1.5899999999999999 0.03602168137916633\n",
      "20 0.5 1.4500000000000002 1.2 1.02 0.05150377614995566\n",
      "21 0.67 1.25 0.93 1.38 0.0382776078683925\n",
      "22 0.72 1.25 0.9 1.27 0.03514751349195942\n",
      "23 0.72 1.07 1.0 1.26 0.03682126973632215\n",
      "24 0.8 1.19 1.04 1.1 0.03656119544605373\n",
      "25 0.62 1.37 1.35 1.43 0.04929764368344749\n",
      "26 0.55 1.11 1.17 1.52 0.04800245565711741\n",
      "27 0.74 1.02 1.06 1.29 0.03784886115500304\n",
      "28 0.58 1.36 0.96 1.67 0.03921267313738795\n",
      "29 0.98 0.99 1.56 1.03 0.035759775164331244\n",
      "30 0.8400000000000001 1.22 1.03 1.88 0.03672860702269569\n",
      "31 0.71 1.27 0.91 1.4 0.03483230917820372\n",
      "32 0.72 1.42 0.9 1.2 0.037151477571840626\n",
      "33 0.65 1.31 0.97 1.4 0.04203736318043822\n",
      "34 0.8 1.19 0.96 1.52 0.0355296076001835\n",
      "35 1.0 1.51 1.07 1.19 0.03640296951074544\n",
      "36 0.72 1.1 1.17 1.1 0.04110096531356154\n",
      "37 0.63 0.9 0.9 1.77 0.036689533525525446\n",
      "38 0.77 1.1600000000000001 1.6400000000000001 1.29 0.041845046861493686\n",
      "39 0.7 1.6099999999999999 1.29 1.16 0.04541893979907125\n",
      "40 0.59 1.28 1.0 1.65 0.04440356372435944\n",
      "41 0.69 1.32 0.93 1.37 0.03647418860271423\n",
      "42 0.65 1.25 0.91 1.47 0.03770004374243375\n",
      "43 0.55 1.3900000000000001 0.96 1.33 0.042557109777292705\n",
      "44 0.73 1.27 1.1 1.23 0.03676025581598173\n",
      "45 0.76 1.33 1.02 1.42 0.036343419914314855\n",
      "46 0.78 0.96 0.9500000000000001 1.55 0.03404485036101135\n",
      "47 0.87 0.97 1.42 1.74 0.03498400192915947\n",
      "48 0.89 0.96 1.46 1.75 0.03555094215700316\n",
      "49 0.95 1.02 1.53 1.82 0.03637288018634519\n",
      "50 0.89 0.9500000000000001 1.31 1.9 0.03835056570181644\n",
      "51 0.8400000000000001 0.99 1.42 1.54 0.03397664624673418\n",
      "52 0.8200000000000001 0.99 1.4 1.55 0.038169649126798995\n",
      "53 0.87 0.9400000000000001 1.44 1.63 0.034222471509144634\n",
      "54 0.78 0.92 1.65 1.6099999999999999 0.04244766496634532\n",
      "55 0.8200000000000001 1.02 1.4700000000000002 1.6800000000000002 0.0397789180324989\n",
      "56 0.9199999999999999 1.04 1.37 1.6400000000000001 0.03694285664196978\n",
      "57 0.8400000000000001 1.08 1.6 1.56 0.03658885243551066\n",
      "58 0.91 0.9 1.51 1.5 0.03756768408806137\n",
      "59 0.87 1.1300000000000001 1.75 1.45 0.0391026039065866\n",
      "60 0.79 0.98 1.23 1.72 0.03556047577421702\n",
      "61 0.86 0.9400000000000001 1.4100000000000001 1.62 0.037193764297980506\n",
      "62 0.94 0.97 1.4300000000000002 1.71 0.03529085067310678\n",
      "63 0.87 0.93 1.34 1.8 0.036557315169543914\n",
      "64 0.97 1.01 1.44 1.57 0.03501064823214629\n",
      "65 0.8300000000000001 1.08 1.38 1.75 0.03770454298281809\n",
      "66 0.89 1.04 1.54 1.67 0.038165365792319994\n",
      "67 0.75 0.96 1.48 1.52 0.036687663075530716\n",
      "68 0.8500000000000001 0.9 1.3 1.5899999999999999 0.036409887552998434\n",
      "69 0.5 1.17 1.33 1.6400000000000001 0.051101686579034515\n",
      "70 0.79 1.11 1.1300000000000001 1.48 0.0355196177363956\n",
      "71 0.98 1.01 1.4300000000000002 1.56 0.03718159956412203\n",
      "72 0.97 0.98 1.4500000000000002 1.69 0.03512747860356684\n",
      "73 0.96 0.92 1.51 1.54 0.03692076677814486\n",
      "74 0.9 1.05 1.3900000000000001 1.5899999999999999 0.035032412740354416\n",
      "75 0.9299999999999999 1.0 0.98 1.73 0.035464865201344245\n",
      "76 0.98 0.96 1.44 1.51 0.03730360268742384\n",
      "77 0.81 1.75 1.5 1.45 0.045995008400264284\n",
      "78 0.88 1.21 0.9400000000000001 1.57 0.03556483097909334\n",
      "79 0.91 1.03 1.27 1.62 0.03343925718228179\n",
      "80 0.91 1.06 1.36 1.65 0.03651178108627921\n",
      "81 0.99 1.01 1.26 1.62 0.03504914435919382\n",
      "82 0.94 0.9400000000000001 1.42 1.53 0.022482123425080245\n",
      "83 0.9299999999999999 0.9400000000000001 1.33 1.49 0.032288648189051083\n",
      "84 0.95 0.93 1.22 1.48 0.03707401721656645\n",
      "85 0.9299999999999999 0.9400000000000001 1.28 1.3900000000000001 0.03767241143831267\n",
      "86 0.9199999999999999 0.91 1.32 1.35 0.036449845579543005\n",
      "87 1.0 0.99 1.06 1.42 0.03764852488333018\n",
      "88 0.52 1.15 1.36 1.54 0.048462932355641364\n",
      "89 0.95 1.04 1.17 1.6 0.03643576526005191\n",
      "90 0.91 0.9500000000000001 0.9400000000000001 1.45 0.03516992265283505\n",
      "91 0.87 0.98 1.4100000000000001 1.53 0.03517570761214579\n",
      "92 0.8500000000000001 1.79 1.3900000000000001 1.5 0.04133919673558459\n",
      "93 0.88 0.9400000000000001 0.99 1.31 0.03505352398240143\n",
      "94 0.9299999999999999 0.97 1.42 1.7000000000000002 0.034848696760095575\n",
      "95 0.94 1.09 1.34 1.6600000000000001 0.03607977821395877\n",
      "96 0.9 0.92 1.4700000000000002 1.63 0.03816248454598886\n",
      "97 0.96 0.96 1.37 1.69 0.019879737205662353\n",
      "98 0.96 1.03 1.27 1.58 0.036950918208260186\n",
      "99 0.6 1.1300000000000001 1.02 1.6099999999999999 0.03953894164070605\n"
     ]
    }
   ],
   "source": [
    "for trial in study.trials:\n",
    "    print(f\"{trial.number} {trial.params['m1']} {trial.params['m2']} {trial.params['m4']} {trial.params['m5']} {trial.value}\")\n"
   ]
  },
  {
   "cell_type": "code",
   "execution_count": 48,
   "metadata": {},
   "outputs": [
    {
     "data": {
      "text/html": [
       "<div>\n",
       "<style scoped>\n",
       "    .dataframe tbody tr th:only-of-type {\n",
       "        vertical-align: middle;\n",
       "    }\n",
       "\n",
       "    .dataframe tbody tr th {\n",
       "        vertical-align: top;\n",
       "    }\n",
       "\n",
       "    .dataframe thead th {\n",
       "        text-align: right;\n",
       "    }\n",
       "</style>\n",
       "<table border=\"1\" class=\"dataframe\">\n",
       "  <thead>\n",
       "    <tr style=\"text-align: right;\">\n",
       "      <th></th>\n",
       "      <th>Trial</th>\n",
       "      <th>m1</th>\n",
       "      <th>m2</th>\n",
       "      <th>m4</th>\n",
       "      <th>m5</th>\n",
       "      <th>KPI</th>\n",
       "    </tr>\n",
       "  </thead>\n",
       "  <tbody>\n",
       "    <tr>\n",
       "      <th>0</th>\n",
       "      <td>0</td>\n",
       "      <td>1.00</td>\n",
       "      <td>1.00</td>\n",
       "      <td>1.00</td>\n",
       "      <td>1.00</td>\n",
       "      <td>0.039413</td>\n",
       "    </tr>\n",
       "    <tr>\n",
       "      <th>1</th>\n",
       "      <td>1</td>\n",
       "      <td>0.97</td>\n",
       "      <td>1.16</td>\n",
       "      <td>0.93</td>\n",
       "      <td>1.78</td>\n",
       "      <td>0.050168</td>\n",
       "    </tr>\n",
       "    <tr>\n",
       "      <th>2</th>\n",
       "      <td>2</td>\n",
       "      <td>0.61</td>\n",
       "      <td>0.97</td>\n",
       "      <td>1.59</td>\n",
       "      <td>1.12</td>\n",
       "      <td>0.042732</td>\n",
       "    </tr>\n",
       "    <tr>\n",
       "      <th>3</th>\n",
       "      <td>3</td>\n",
       "      <td>0.56</td>\n",
       "      <td>0.95</td>\n",
       "      <td>0.97</td>\n",
       "      <td>1.25</td>\n",
       "      <td>0.034747</td>\n",
       "    </tr>\n",
       "    <tr>\n",
       "      <th>4</th>\n",
       "      <td>4</td>\n",
       "      <td>0.77</td>\n",
       "      <td>1.35</td>\n",
       "      <td>1.63</td>\n",
       "      <td>1.20</td>\n",
       "      <td>0.045459</td>\n",
       "    </tr>\n",
       "    <tr>\n",
       "      <th>...</th>\n",
       "      <td>...</td>\n",
       "      <td>...</td>\n",
       "      <td>...</td>\n",
       "      <td>...</td>\n",
       "      <td>...</td>\n",
       "      <td>...</td>\n",
       "    </tr>\n",
       "    <tr>\n",
       "      <th>95</th>\n",
       "      <td>95</td>\n",
       "      <td>0.94</td>\n",
       "      <td>1.09</td>\n",
       "      <td>1.34</td>\n",
       "      <td>1.66</td>\n",
       "      <td>0.036080</td>\n",
       "    </tr>\n",
       "    <tr>\n",
       "      <th>96</th>\n",
       "      <td>96</td>\n",
       "      <td>0.90</td>\n",
       "      <td>0.92</td>\n",
       "      <td>1.47</td>\n",
       "      <td>1.63</td>\n",
       "      <td>0.038162</td>\n",
       "    </tr>\n",
       "    <tr>\n",
       "      <th>97</th>\n",
       "      <td>97</td>\n",
       "      <td>0.96</td>\n",
       "      <td>0.96</td>\n",
       "      <td>1.37</td>\n",
       "      <td>1.69</td>\n",
       "      <td>0.019880</td>\n",
       "    </tr>\n",
       "    <tr>\n",
       "      <th>98</th>\n",
       "      <td>98</td>\n",
       "      <td>0.96</td>\n",
       "      <td>1.03</td>\n",
       "      <td>1.27</td>\n",
       "      <td>1.58</td>\n",
       "      <td>0.036951</td>\n",
       "    </tr>\n",
       "    <tr>\n",
       "      <th>99</th>\n",
       "      <td>99</td>\n",
       "      <td>0.60</td>\n",
       "      <td>1.13</td>\n",
       "      <td>1.02</td>\n",
       "      <td>1.61</td>\n",
       "      <td>0.039539</td>\n",
       "    </tr>\n",
       "  </tbody>\n",
       "</table>\n",
       "<p>100 rows × 6 columns</p>\n",
       "</div>"
      ],
      "text/plain": [
       "    Trial    m1    m2    m4    m5       KPI\n",
       "0       0  1.00  1.00  1.00  1.00  0.039413\n",
       "1       1  0.97  1.16  0.93  1.78  0.050168\n",
       "2       2  0.61  0.97  1.59  1.12  0.042732\n",
       "3       3  0.56  0.95  0.97  1.25  0.034747\n",
       "4       4  0.77  1.35  1.63  1.20  0.045459\n",
       "..    ...   ...   ...   ...   ...       ...\n",
       "95     95  0.94  1.09  1.34  1.66  0.036080\n",
       "96     96  0.90  0.92  1.47  1.63  0.038162\n",
       "97     97  0.96  0.96  1.37  1.69  0.019880\n",
       "98     98  0.96  1.03  1.27  1.58  0.036951\n",
       "99     99  0.60  1.13  1.02  1.61  0.039539\n",
       "\n",
       "[100 rows x 6 columns]"
      ]
     },
     "execution_count": 48,
     "metadata": {},
     "output_type": "execute_result"
    }
   ],
   "source": [
    "import pandas as pd\n",
    "\n",
    "df_trials = pd.DataFrame({\n",
    "    'Trial': [t.number for t in study.trials],\n",
    "    'm1': [t.params['m1'] for t in study.trials],\n",
    "    'm2': [t.params['m2'] for t in study.trials],\n",
    "    'm4': [t.params['m4'] for t in study.trials],\n",
    "    'm5': [t.params['m5'] for t in study.trials],\n",
    "    'KPI': [t.value for t in study.trials]\n",
    "})\n",
    "\n",
    "df_trials"
   ]
  },
  {
   "cell_type": "code",
   "execution_count": 49,
   "metadata": {},
   "outputs": [
    {
     "data": {
      "text/html": [
       "<div>\n",
       "<style scoped>\n",
       "    .dataframe tbody tr th:only-of-type {\n",
       "        vertical-align: middle;\n",
       "    }\n",
       "\n",
       "    .dataframe tbody tr th {\n",
       "        vertical-align: top;\n",
       "    }\n",
       "\n",
       "    .dataframe thead th {\n",
       "        text-align: right;\n",
       "    }\n",
       "</style>\n",
       "<table border=\"1\" class=\"dataframe\">\n",
       "  <thead>\n",
       "    <tr style=\"text-align: right;\">\n",
       "      <th></th>\n",
       "      <th>Trial</th>\n",
       "      <th>m1</th>\n",
       "      <th>m2</th>\n",
       "      <th>m4</th>\n",
       "      <th>m5</th>\n",
       "      <th>KPI</th>\n",
       "    </tr>\n",
       "  </thead>\n",
       "  <tbody>\n",
       "    <tr>\n",
       "      <th>97</th>\n",
       "      <td>97</td>\n",
       "      <td>0.96</td>\n",
       "      <td>0.96</td>\n",
       "      <td>1.37</td>\n",
       "      <td>1.69</td>\n",
       "      <td>0.019880</td>\n",
       "    </tr>\n",
       "    <tr>\n",
       "      <th>82</th>\n",
       "      <td>82</td>\n",
       "      <td>0.94</td>\n",
       "      <td>0.94</td>\n",
       "      <td>1.42</td>\n",
       "      <td>1.53</td>\n",
       "      <td>0.022482</td>\n",
       "    </tr>\n",
       "    <tr>\n",
       "      <th>83</th>\n",
       "      <td>83</td>\n",
       "      <td>0.93</td>\n",
       "      <td>0.94</td>\n",
       "      <td>1.33</td>\n",
       "      <td>1.49</td>\n",
       "      <td>0.032289</td>\n",
       "    </tr>\n",
       "    <tr>\n",
       "      <th>79</th>\n",
       "      <td>79</td>\n",
       "      <td>0.91</td>\n",
       "      <td>1.03</td>\n",
       "      <td>1.27</td>\n",
       "      <td>1.62</td>\n",
       "      <td>0.033439</td>\n",
       "    </tr>\n",
       "    <tr>\n",
       "      <th>51</th>\n",
       "      <td>51</td>\n",
       "      <td>0.84</td>\n",
       "      <td>0.99</td>\n",
       "      <td>1.42</td>\n",
       "      <td>1.54</td>\n",
       "      <td>0.033977</td>\n",
       "    </tr>\n",
       "  </tbody>\n",
       "</table>\n",
       "</div>"
      ],
      "text/plain": [
       "    Trial    m1    m2    m4    m5       KPI\n",
       "97     97  0.96  0.96  1.37  1.69  0.019880\n",
       "82     82  0.94  0.94  1.42  1.53  0.022482\n",
       "83     83  0.93  0.94  1.33  1.49  0.032289\n",
       "79     79  0.91  1.03  1.27  1.62  0.033439\n",
       "51     51  0.84  0.99  1.42  1.54  0.033977"
      ]
     },
     "execution_count": 49,
     "metadata": {},
     "output_type": "execute_result"
    }
   ],
   "source": [
    "# Mejores combinaciones\n",
    "df_trials.sort_values('KPI').head(5)\n"
   ]
  },
  {
   "cell_type": "markdown",
   "metadata": {},
   "source": [
    "**After of knowing m1, m2, m3 and m4**"
   ]
  },
  {
   "cell_type": "code",
   "execution_count": 58,
   "metadata": {},
   "outputs": [
    {
     "name": "stdout",
     "output_type": "stream",
     "text": [
      "Runing simulation 1 of 100\n",
      "Runing simulation 2 of 100\n",
      "Runing simulation 3 of 100\n",
      "Runing simulation 4 of 100\n",
      "Runing simulation 5 of 100\n",
      "Runing simulation 6 of 100\n",
      "Runing simulation 7 of 100\n",
      "Runing simulation 8 of 100\n",
      "Runing simulation 9 of 100\n",
      "Runing simulation 10 of 100\n",
      "Runing simulation 11 of 100\n",
      "Runing simulation 12 of 100\n",
      "Runing simulation 13 of 100\n",
      "Runing simulation 14 of 100\n",
      "Runing simulation 15 of 100\n",
      "Runing simulation 16 of 100\n",
      "Runing simulation 17 of 100\n",
      "Runing simulation 18 of 100\n",
      "Runing simulation 19 of 100\n",
      "Runing simulation 20 of 100\n",
      "Runing simulation 21 of 100\n",
      "Runing simulation 22 of 100\n",
      "Runing simulation 23 of 100\n",
      "Runing simulation 24 of 100\n",
      "Runing simulation 25 of 100\n",
      "Runing simulation 26 of 100\n",
      "Runing simulation 27 of 100\n",
      "Runing simulation 28 of 100\n",
      "Runing simulation 29 of 100\n",
      "Runing simulation 30 of 100\n",
      "Runing simulation 31 of 100\n",
      "Runing simulation 32 of 100\n",
      "Runing simulation 33 of 100\n",
      "Runing simulation 34 of 100\n",
      "Runing simulation 35 of 100\n",
      "Runing simulation 36 of 100\n",
      "Runing simulation 37 of 100\n",
      "Runing simulation 38 of 100\n",
      "Runing simulation 39 of 100\n",
      "Runing simulation 40 of 100\n",
      "Runing simulation 41 of 100\n",
      "Runing simulation 42 of 100\n",
      "Runing simulation 43 of 100\n",
      "Runing simulation 44 of 100\n",
      "Runing simulation 45 of 100\n",
      "Runing simulation 46 of 100\n",
      "Runing simulation 47 of 100\n",
      "Runing simulation 48 of 100\n",
      "Runing simulation 49 of 100\n",
      "Runing simulation 50 of 100\n",
      "Runing simulation 51 of 100\n",
      "Runing simulation 52 of 100\n",
      "Runing simulation 53 of 100\n",
      "Runing simulation 54 of 100\n",
      "Runing simulation 55 of 100\n",
      "Runing simulation 56 of 100\n",
      "Runing simulation 57 of 100\n",
      "Runing simulation 58 of 100\n",
      "Runing simulation 59 of 100\n",
      "Runing simulation 60 of 100\n",
      "Runing simulation 61 of 100\n",
      "Runing simulation 62 of 100\n",
      "Runing simulation 63 of 100\n",
      "Runing simulation 64 of 100\n",
      "Runing simulation 65 of 100\n",
      "Runing simulation 66 of 100\n",
      "Runing simulation 67 of 100\n",
      "Runing simulation 68 of 100\n",
      "Runing simulation 69 of 100\n",
      "Runing simulation 70 of 100\n",
      "Runing simulation 71 of 100\n",
      "Runing simulation 72 of 100\n",
      "Runing simulation 73 of 100\n",
      "Runing simulation 74 of 100\n",
      "Runing simulation 75 of 100\n",
      "Runing simulation 76 of 100\n",
      "Runing simulation 77 of 100\n",
      "Runing simulation 78 of 100\n",
      "Runing simulation 79 of 100\n",
      "Runing simulation 80 of 100\n",
      "Runing simulation 81 of 100\n",
      "Runing simulation 82 of 100\n",
      "Runing simulation 83 of 100\n",
      "Runing simulation 84 of 100\n",
      "Runing simulation 85 of 100\n",
      "Runing simulation 86 of 100\n",
      "Runing simulation 87 of 100\n",
      "Runing simulation 88 of 100\n",
      "Runing simulation 89 of 100\n",
      "Runing simulation 90 of 100\n",
      "Runing simulation 91 of 100\n",
      "Runing simulation 92 of 100\n",
      "Runing simulation 93 of 100\n",
      "Runing simulation 94 of 100\n",
      "Runing simulation 95 of 100\n",
      "Runing simulation 96 of 100\n",
      "Runing simulation 97 of 100\n",
      "Runing simulation 98 of 100\n",
      "Runing simulation 99 of 100\n",
      "Runing simulation 100 of 100\n"
     ]
    }
   ],
   "source": [
    "#Insert the multipliers found by optuna\n",
    "\n",
    "multipliers_ethnicity = {\n",
    "    1: 0.96,\n",
    "    2: 1.01,\n",
    "    4: 1.06,\n",
    "    5: 1.09,\n",
    "    6: 1.0,\n",
    "    7: 1.0\n",
    "}\n",
    "\n",
    "simulations_results = []\n",
    "for i in range(100):\n",
    "    print(f\"Runing simulation {i + 1} of 100\")\n",
    "    results = run_simulation(\n",
    "        total_time=10*12, \n",
    "        arrival_rate=(990/(10*12)), \n",
    "        departure_rate=((990/(10*12))*0.29), \n",
    "        match_run=3,\n",
    "        pairs=pairs, \n",
    "        compatibility=compatibility, \n",
    "        hla_lr = hla_lr,\n",
    "        hla_hr=hla_hr,\n",
    "        hla_eplet= hla_eplet,\n",
    "        multipliers_ethnicity= multipliers_ethnicity\n",
    "    )\n",
    "   \n",
    "    simulations_results.append({\n",
    "        'simulacion': i + 1,\n",
    "        'cycles': results['historial_cycles'],\n",
    "        'total_cycles': len(results['historial_cycles']),\n",
    "        'total_departures': len(results['historial_departures']),\n",
    "        'total_entries': results['entries_nodes'],\n",
    "        'arrivals_by_ethcat': results['arrivals_by_ethcat'],\n",
    "        'waiting_time_mean1':   results['waiting_time_mean1'] ,\n",
    "        'waiting_time_mean2':   results['waiting_time_mean2'],\n",
    "        'waiting_time_mean4':   results['waiting_time_mean4'],\n",
    "        'waiting_time_mean5':   results['waiting_time_mean5'],\n",
    "        'waiting_time_mean6':   results['waiting_time_mean6'],\n",
    "        'waiting_time_mean7':   results['waiting_time_mean7'],\n",
    "        'lr_quality_ethcat1': results['lr_quality_ethcat1'],\n",
    "        'lr_quality_ethcat2': results['lr_quality_ethcat2'],\n",
    "        'lr_quality_ethcat4': results['lr_quality_ethcat4'],\n",
    "        'lr_quality_ethcat5': results['lr_quality_ethcat5'],\n",
    "        'lr_quality_ethcat6': results['lr_quality_ethcat6'],\n",
    "        'lr_quality_ethcat7': results['lr_quality_ethcat7'],\n",
    "        'hr_quality_ethcat1': results['hr_quality_ethcat1'],\n",
    "        'hr_quality_ethcat2': results['hr_quality_ethcat2'],\n",
    "        'hr_quality_ethcat4': results['hr_quality_ethcat4'],\n",
    "        'hr_quality_ethcat5': results['hr_quality_ethcat5'],\n",
    "        'hr_quality_ethcat6': results['hr_quality_ethcat6'],\n",
    "        'hr_quality_ethcat7': results['hr_quality_ethcat7'],\n",
    "        'e_quality_ethcat1': results['e_quality_ethcat1'],\n",
    "        'e_quality_ethcat2': results['e_quality_ethcat2'],\n",
    "        'e_quality_ethcat4': results['e_quality_ethcat4'],\n",
    "        'e_quality_ethcat5': results['e_quality_ethcat5'],\n",
    "        'e_quality_ethcat6': results['e_quality_ethcat6'],\n",
    "        'e_quality_ethcat7': results['e_quality_ethcat7'],\n",
    "        'avg_ClassI_HLA_ethcat1': results['avg_ClassI_HLA_ethcat1'],\n",
    "        'avg_ClassI_HLA_ethcat2': results['avg_ClassI_HLA_ethcat2'],\n",
    "        'avg_ClassI_HLA_ethcat4': results['avg_ClassI_HLA_ethcat4'],\n",
    "        'avg_ClassI_HLA_ethcat5': results['avg_ClassI_HLA_ethcat5'],\n",
    "        'avg_ClassI_HLA_ethcat6': results['avg_ClassI_HLA_ethcat6'],\n",
    "        'avg_ClassI_HLA_ethcat7': results['avg_ClassI_HLA_ethcat7'],\n",
    "        'HLA_ClassI_total': results['HLA_ClassI_total'],\n",
    "\n",
    "        'avg_DR_HLA_ethcat1': results['avg_DR_HLA_ethcat1'],\n",
    "        'avg_DR_HLA_ethcat2': results['avg_DR_HLA_ethcat2'],\n",
    "        'avg_DR_HLA_ethcat4': results['avg_DR_HLA_ethcat4'],\n",
    "        'avg_DR_HLA_ethcat5': results['avg_DR_HLA_ethcat5'],\n",
    "        'avg_DR_HLA_ethcat6': results['avg_DR_HLA_ethcat6'],\n",
    "        'avg_DR_HLA_ethcat7': results['avg_DR_HLA_ethcat7'],\n",
    "        'HLA_DR_total': results['HLA_DR_total'],\n",
    "        \n",
    "\n",
    "        'avg_DQ_HLA_ethcat1': results['avg_DQ_HLA_ethcat1'],\n",
    "        'avg_DQ_HLA_ethcat2': results['avg_DQ_HLA_ethcat2'],\n",
    "        'avg_DQ_HLA_ethcat4': results['avg_DQ_HLA_ethcat4'],\n",
    "        'avg_DQ_HLA_ethcat5': results['avg_DQ_HLA_ethcat5'],\n",
    "        'avg_DQ_HLA_ethcat6': results['avg_DQ_HLA_ethcat6'],\n",
    "        'avg_DQ_HLA_ethcat7': results['avg_DQ_HLA_ethcat7'],\n",
    "        'HLA_DQ_total': results['HLA_DQ_total'],\n",
    "\n",
    "        'F_per_ethcat':   results['F_per_ethcat'],   \n",
    "        'L_per_ethcat':   results['L_per_ethcat'],   \n",
    "        'F_total': results['F_total'],\n",
    "        'lr_quality_total': results['lr_quality_total'],\n",
    "        'hr_quality_total': results['hr_quality_total'],\n",
    "        'e_quality_total': results['e_quality_total'],\n",
    "        'Waiting_time_mean': results['Waiting_time_mean']\n",
    "    })\n",
    "    "
   ]
  },
  {
   "cell_type": "code",
   "execution_count": 59,
   "metadata": {},
   "outputs": [],
   "source": [
    "df_results = pd.DataFrame(simulations_results)\n",
    "\n",
    "list_HLA_ClassI_total = df_results['HLA_ClassI_total'].tolist()\n",
    "\n",
    "\n",
    "list_HLA_DR_total = df_results['HLA_DR_total'].tolist()\n",
    "\n",
    "\n",
    "list_HLA_DQ_total = df_results['HLA_DQ_total'].tolist()\n",
    "\n",
    "\n",
    "\n",
    "lists_ClassI = {\n",
    "    1: df_results['avg_ClassI_HLA_ethcat1'].dropna().tolist(),\n",
    "    2: df_results['avg_ClassI_HLA_ethcat2'].dropna().tolist(),\n",
    "    4: df_results['avg_ClassI_HLA_ethcat4'].dropna().tolist(),\n",
    "    5: df_results['avg_ClassI_HLA_ethcat5'].dropna().tolist(),\n",
    "    6: df_results['avg_ClassI_HLA_ethcat6'].dropna().tolist(),\n",
    "    7: df_results['avg_ClassI_HLA_ethcat7'].dropna().tolist()\n",
    "}\n",
    "\n",
    "lists_DR = {\n",
    "    1: df_results['avg_DR_HLA_ethcat1'].dropna().tolist(),\n",
    "    2: df_results['avg_DR_HLA_ethcat2'].dropna().tolist(),\n",
    "    4: df_results['avg_DR_HLA_ethcat4'].dropna().tolist(),\n",
    "    5: df_results['avg_DR_HLA_ethcat5'].dropna().tolist(),\n",
    "    6: df_results['avg_DR_HLA_ethcat6'].dropna().tolist(),\n",
    "    7: df_results['avg_DR_HLA_ethcat7'].dropna().tolist()\n",
    "}\n",
    "\n",
    "lists_DQ = {\n",
    "    1: df_results['avg_DQ_HLA_ethcat1'].dropna().tolist(),\n",
    "    2: df_results['avg_DQ_HLA_ethcat2'].dropna().tolist(),\n",
    "    4: df_results['avg_DQ_HLA_ethcat4'].dropna().tolist(),\n",
    "    5: df_results['avg_DQ_HLA_ethcat5'].dropna().tolist(),\n",
    "    6: df_results['avg_DQ_HLA_ethcat6'].dropna().tolist(),\n",
    "    7: df_results['avg_DQ_HLA_ethcat7'].dropna().tolist()\n",
    "}\n",
    "\n"
   ]
  },
  {
   "cell_type": "code",
   "execution_count": 60,
   "metadata": {},
   "outputs": [
    {
     "data": {
      "text/html": [
       "<div>\n",
       "<style scoped>\n",
       "    .dataframe tbody tr th:only-of-type {\n",
       "        vertical-align: middle;\n",
       "    }\n",
       "\n",
       "    .dataframe tbody tr th {\n",
       "        vertical-align: top;\n",
       "    }\n",
       "\n",
       "    .dataframe thead th {\n",
       "        text-align: right;\n",
       "    }\n",
       "</style>\n",
       "<table border=\"1\" class=\"dataframe\">\n",
       "  <thead>\n",
       "    <tr style=\"text-align: right;\">\n",
       "      <th></th>\n",
       "      <th>Ethnicity(s)</th>\n",
       "      <th>Arrivals</th>\n",
       "      <th>Transplants</th>\n",
       "      <th>F(s) (Matched)</th>\n",
       "      <th>HLA(s) Antigen</th>\n",
       "      <th>HLA(s) Allele</th>\n",
       "      <th>HLA(s) Eplets</th>\n",
       "      <th>Waiting Time</th>\n",
       "      <th>L(s) (Left Unmatched)</th>\n",
       "      <th>1-F(s)-L(s) (Still in KEP)</th>\n",
       "      <th>HLA ClassI</th>\n",
       "      <th>HLA DR</th>\n",
       "      <th>HLA DQ</th>\n",
       "    </tr>\n",
       "  </thead>\n",
       "  <tbody>\n",
       "    <tr>\n",
       "      <th>0</th>\n",
       "      <td>1</td>\n",
       "      <td>588.69</td>\n",
       "      <td>364.39</td>\n",
       "      <td>0.619 [0.615; 0.623]</td>\n",
       "      <td>4.348 [4.334; 4.361]</td>\n",
       "      <td>3.137 [3.124; 3.150]</td>\n",
       "      <td>94.484 [94.383; 94.585]</td>\n",
       "      <td>3.642000</td>\n",
       "      <td>0.318 [0.314; 0.323]</td>\n",
       "      <td>0.063</td>\n",
       "      <td>2.340 [2.329; 2.351]</td>\n",
       "      <td>0.896 [0.891; 0.902]</td>\n",
       "      <td>1.112 [1.106; 1.118]</td>\n",
       "    </tr>\n",
       "    <tr>\n",
       "      <th>1</th>\n",
       "      <td>2</td>\n",
       "      <td>168.86</td>\n",
       "      <td>117.49</td>\n",
       "      <td>0.696 [0.688; 0.703]</td>\n",
       "      <td>3.706 [3.679; 3.733]</td>\n",
       "      <td>2.216 [2.191; 2.240]</td>\n",
       "      <td>92.077 [91.930; 92.223]</td>\n",
       "      <td>3.280000</td>\n",
       "      <td>0.262 [0.255; 0.269]</td>\n",
       "      <td>0.043</td>\n",
       "      <td>1.846 [1.823; 1.870]</td>\n",
       "      <td>0.789 [0.778; 0.799]</td>\n",
       "      <td>1.071 [1.061; 1.081]</td>\n",
       "    </tr>\n",
       "    <tr>\n",
       "      <th>2</th>\n",
       "      <td>4</td>\n",
       "      <td>146.39</td>\n",
       "      <td>102.90</td>\n",
       "      <td>0.703 [0.695; 0.710]</td>\n",
       "      <td>3.954 [3.926; 3.982]</td>\n",
       "      <td>2.415 [2.389; 2.440]</td>\n",
       "      <td>92.827 [92.660; 92.995]</td>\n",
       "      <td>3.388000</td>\n",
       "      <td>0.257 [0.250; 0.264]</td>\n",
       "      <td>0.041</td>\n",
       "      <td>2.104 [2.083; 2.125]</td>\n",
       "      <td>0.819 [0.809; 0.829]</td>\n",
       "      <td>1.031 [1.019; 1.043]</td>\n",
       "    </tr>\n",
       "    <tr>\n",
       "      <th>3</th>\n",
       "      <td>5</td>\n",
       "      <td>55.00</td>\n",
       "      <td>37.48</td>\n",
       "      <td>0.681 [0.670; 0.692]</td>\n",
       "      <td>3.827 [3.786; 3.868]</td>\n",
       "      <td>1.781 [1.744; 1.818]</td>\n",
       "      <td>90.954 [90.694; 91.215]</td>\n",
       "      <td>3.237000</td>\n",
       "      <td>0.276 [0.265; 0.287]</td>\n",
       "      <td>0.043</td>\n",
       "      <td>2.016 [1.983; 2.048]</td>\n",
       "      <td>0.764 [0.746; 0.782]</td>\n",
       "      <td>1.048 [1.029; 1.066]</td>\n",
       "    </tr>\n",
       "    <tr>\n",
       "      <th>4</th>\n",
       "      <td>6</td>\n",
       "      <td>7.86</td>\n",
       "      <td>5.53</td>\n",
       "      <td>0.704 [0.676; 0.731]</td>\n",
       "      <td>4.284 [4.177; 4.392]</td>\n",
       "      <td>2.835 [2.714; 2.956]</td>\n",
       "      <td>91.052 [90.346; 91.758]</td>\n",
       "      <td>2.676000</td>\n",
       "      <td>0.255 [0.228; 0.282]</td>\n",
       "      <td>0.042</td>\n",
       "      <td>2.084 [1.993; 2.176]</td>\n",
       "      <td>0.951 [0.900; 1.003]</td>\n",
       "      <td>1.249 [1.195; 1.302]</td>\n",
       "    </tr>\n",
       "    <tr>\n",
       "      <th>5</th>\n",
       "      <td>7</td>\n",
       "      <td>5.93</td>\n",
       "      <td>3.22</td>\n",
       "      <td>0.543 [0.510; 0.576]</td>\n",
       "      <td>3.395 [3.263; 3.528]</td>\n",
       "      <td>1.924 [1.793; 2.056]</td>\n",
       "      <td>92.145 [91.202; 93.087]</td>\n",
       "      <td>4.529000</td>\n",
       "      <td>0.366 [0.331; 0.401]</td>\n",
       "      <td>0.091</td>\n",
       "      <td>1.641 [1.536; 1.747]</td>\n",
       "      <td>0.711 [0.645; 0.776]</td>\n",
       "      <td>1.043 [0.971; 1.116]</td>\n",
       "    </tr>\n",
       "    <tr>\n",
       "      <th>6</th>\n",
       "      <td>Entire Population</td>\n",
       "      <td>972.73</td>\n",
       "      <td>631.01</td>\n",
       "      <td>0.649 [0.645; 0.652]</td>\n",
       "      <td>4.128 [4.119; 4.137]</td>\n",
       "      <td>2.758 [2.750; 2.767]</td>\n",
       "      <td>93.514 [93.445; 93.583]</td>\n",
       "      <td>3.507876</td>\n",
       "      <td>0.296 [0.293; 0.300]</td>\n",
       "      <td>0.055</td>\n",
       "      <td>2.184 [2.176; 2.193]</td>\n",
       "      <td>0.855 [0.852; 0.859]</td>\n",
       "      <td>1.088 [1.084; 1.092]</td>\n",
       "    </tr>\n",
       "  </tbody>\n",
       "</table>\n",
       "</div>"
      ],
      "text/plain": [
       "        Ethnicity(s)  Arrivals  Transplants        F(s) (Matched)  \\\n",
       "0                  1    588.69       364.39  0.619 [0.615; 0.623]   \n",
       "1                  2    168.86       117.49  0.696 [0.688; 0.703]   \n",
       "2                  4    146.39       102.90  0.703 [0.695; 0.710]   \n",
       "3                  5     55.00        37.48  0.681 [0.670; 0.692]   \n",
       "4                  6      7.86         5.53  0.704 [0.676; 0.731]   \n",
       "5                  7      5.93         3.22  0.543 [0.510; 0.576]   \n",
       "6  Entire Population    972.73       631.01  0.649 [0.645; 0.652]   \n",
       "\n",
       "         HLA(s) Antigen         HLA(s) Allele            HLA(s) Eplets  \\\n",
       "0  4.348 [4.334; 4.361]  3.137 [3.124; 3.150]  94.484 [94.383; 94.585]   \n",
       "1  3.706 [3.679; 3.733]  2.216 [2.191; 2.240]  92.077 [91.930; 92.223]   \n",
       "2  3.954 [3.926; 3.982]  2.415 [2.389; 2.440]  92.827 [92.660; 92.995]   \n",
       "3  3.827 [3.786; 3.868]  1.781 [1.744; 1.818]  90.954 [90.694; 91.215]   \n",
       "4  4.284 [4.177; 4.392]  2.835 [2.714; 2.956]  91.052 [90.346; 91.758]   \n",
       "5  3.395 [3.263; 3.528]  1.924 [1.793; 2.056]  92.145 [91.202; 93.087]   \n",
       "6  4.128 [4.119; 4.137]  2.758 [2.750; 2.767]  93.514 [93.445; 93.583]   \n",
       "\n",
       "   Waiting Time L(s) (Left Unmatched) 1-F(s)-L(s) (Still in KEP)  \\\n",
       "0      3.642000  0.318 [0.314; 0.323]                      0.063   \n",
       "1      3.280000  0.262 [0.255; 0.269]                      0.043   \n",
       "2      3.388000  0.257 [0.250; 0.264]                      0.041   \n",
       "3      3.237000  0.276 [0.265; 0.287]                      0.043   \n",
       "4      2.676000  0.255 [0.228; 0.282]                      0.042   \n",
       "5      4.529000  0.366 [0.331; 0.401]                      0.091   \n",
       "6      3.507876  0.296 [0.293; 0.300]                      0.055   \n",
       "\n",
       "             HLA ClassI                HLA DR                HLA DQ  \n",
       "0  2.340 [2.329; 2.351]  0.896 [0.891; 0.902]  1.112 [1.106; 1.118]  \n",
       "1  1.846 [1.823; 1.870]  0.789 [0.778; 0.799]  1.071 [1.061; 1.081]  \n",
       "2  2.104 [2.083; 2.125]  0.819 [0.809; 0.829]  1.031 [1.019; 1.043]  \n",
       "3  2.016 [1.983; 2.048]  0.764 [0.746; 0.782]  1.048 [1.029; 1.066]  \n",
       "4  2.084 [1.993; 2.176]  0.951 [0.900; 1.003]  1.249 [1.195; 1.302]  \n",
       "5  1.641 [1.536; 1.747]  0.711 [0.645; 0.776]  1.043 [0.971; 1.116]  \n",
       "6  2.184 [2.176; 2.193]  0.855 [0.852; 0.859]  1.088 [1.084; 1.092]  "
      ]
     },
     "metadata": {},
     "output_type": "display_data"
    }
   ],
   "source": [
    "import scipy.stats as st\n",
    "\n",
    "ethnicity = [1, 2, 4, 5, 6, 7]\n",
    "n_sim = len(df_results)\n",
    "\n",
    "def media_ci(list):\n",
    "    m = np.mean(list)\n",
    "    s = np.std(list, ddof=1)\n",
    "    low, high = st.t.interval(0.95, len(list)-1, loc=m, scale=s/np.sqrt(len(list)))\n",
    "    return m, f\"{m:.3f} [{low:.3f}; {high:.3f}]\"\n",
    "\n",
    "rows = []\n",
    "# Reporting per ethnicity \n",
    "\n",
    "for e in ethnicity:\n",
    "    arrivals_e = df_results['arrivals_by_ethcat'].apply(lambda d: d.get(e, 0)).sum() / n_sim\n",
    "    transplants_e = df_results['cycles'].apply(\n",
    "        lambda cycles: sum(1 for c in cycles for n in c if recipients.loc[n, 'ETHCAT'] == e)\n",
    "    ).sum() / n_sim\n",
    "\n",
    "    F_vals = df_results['F_per_ethcat'].apply(lambda d: d[e])\n",
    "    _, txt_F = media_ci(F_vals)\n",
    "    std_F = np.std(F_vals, ddof=1)\n",
    "\n",
    "    lr_quality = df_results[f'lr_quality_ethcat{e}']\n",
    "    _, txt_antigen = media_ci(lr_quality)\n",
    "\n",
    "    hr_quality = df_results[f'hr_quality_ethcat{e}']\n",
    "    _, txt_allele = media_ci(hr_quality)\n",
    "\n",
    "    e_quality  = df_results[f'e_quality_ethcat{e}']\n",
    "    _, txt_eplet = media_ci(e_quality)\n",
    "\n",
    "    waiting = df_results[f'waiting_time_mean{e}'].mean()\n",
    "\n",
    "    L_vals = df_results['L_per_ethcat'].apply(lambda d: d[e])\n",
    "    _, txt_L = media_ci(L_vals)\n",
    "\n",
    "    f_mean = np.mean(F_vals)\n",
    "    l_mean = np.mean(L_vals)\n",
    "    still_in_kep = round(1 - f_mean - l_mean, 3)\n",
    "\n",
    "\n",
    "    list_classi = lists_ClassI[e]\n",
    "\n",
    "    _, txt_classi = media_ci(list_classi)\n",
    "\n",
    "    list_dr = lists_DR[e]\n",
    "    _, txt_dr = media_ci(list_dr)\n",
    "\n",
    "    list_dq = lists_DQ[e]\n",
    "    _, txt_dq = media_ci(list_dq)\n",
    "\n",
    "\n",
    "    rows.append({\n",
    "        'Ethnicity(s)': e,\n",
    "        'Arrivals': round(arrivals_e, 2),\n",
    "        'Transplants': round(transplants_e, 2),\n",
    "        'F(s) (Matched)': txt_F,\n",
    "        'HLA(s) Antigen': txt_antigen,\n",
    "        'HLA(s) Allele': txt_allele,\n",
    "        'HLA(s) Eplets': txt_eplet,\n",
    "        'Waiting Time': round(waiting, 3),\n",
    "        'L(s) (Left Unmatched)': txt_L,\n",
    "        '1-F(s)-L(s) (Still in KEP)': still_in_kep,\n",
    "        'HLA ClassI': txt_classi,\n",
    "        'HLA DR': txt_dr,\n",
    "        'HLA DQ': txt_dq,\n",
    "\n",
    "    })\n",
    "\n",
    "# Reporting the totals\n",
    "\n",
    "total_arrivals = sum(df_results['arrivals_by_ethcat'].apply(lambda d: sum(d.values()))) / n_sim\n",
    "total_transplants = df_results['cycles'].apply(lambda cycles: sum(len(c) for c in cycles)).sum() / n_sim\n",
    "F_total = total_transplants / total_arrivals\n",
    "\n",
    "\n",
    "F_s_total, txt_F_total = media_ci(df_results['F_total'])\n",
    "\n",
    "L_vals_flat = (df_results['total_departures'] / df_results['total_entries']).tolist()\n",
    "L_s_total, ic_L_total = media_ci(L_vals_flat)\n",
    "txt_L_total = ic_L_total\n",
    "\n",
    "_, txt_total_lr_quality = media_ci(df_results['lr_quality_total'])\n",
    "_,txt_total_hr_quality = media_ci(df_results['hr_quality_total'])\n",
    "_,txt_total_e_quality= media_ci(df_results['e_quality_total'])\n",
    "\n",
    "txt_waiting_time_mean = np.mean(df_results['Waiting_time_mean'])\n",
    "\n",
    "F_vals_flat = [df_results['F_per_ethcat'].iloc[i][e] for i in range(n_sim) for e in ethnicity]\n",
    "std_F_total = np.std(F_vals_flat, ddof=1)\n",
    "\n",
    "f_total_mean = F_total  \n",
    "total_outgoing = sum(\n",
    "    df_results['L_per_ethcat'].apply(lambda d: sum(d.values()))\n",
    ") / n_sim\n",
    "\n",
    "l_total_mean = total_outgoing / total_arrivals\n",
    "still_in_kep_total = round(1 - F_total - l_total_mean, 3)\n",
    "\n",
    "\n",
    "_, txt_classi_total = media_ci(list_HLA_ClassI_total)\n",
    "\n",
    "_, txt_dr_total = media_ci(list_HLA_DR_total )\n",
    "\n",
    "_, txt_dq_total = media_ci(list_HLA_DQ_total )\n",
    "\n",
    "rows.append({\n",
    "    'Ethnicity(s)': 'Entire Population',\n",
    "    'Arrivals': round(total_arrivals, 2),\n",
    "    'Transplants': round(total_transplants, 2),\n",
    "    'F(s) (Matched)': txt_F_total,\n",
    "    'HLA(s) Antigen': txt_total_lr_quality,\n",
    "    'HLA(s) Allele': txt_total_hr_quality,\n",
    "    'HLA(s) Eplets': txt_total_e_quality,\n",
    "    'Waiting Time': txt_waiting_time_mean,\n",
    "    'L(s) (Left Unmatched)': txt_L_total,\n",
    "    '1-F(s)-L(s) (Still in KEP)': f\"{(1 - L_s_total - F_s_total):.3f}\",\n",
    "    'HLA ClassI': txt_classi_total,\n",
    "    'HLA DR': txt_dr_total,\n",
    "    'HLA DQ': txt_dq_total\n",
    "})\n",
    "\n",
    "df_final_table = pd.DataFrame(rows)\n",
    "display(df_final_table)"
   ]
  },
  {
   "cell_type": "code",
   "execution_count": 54,
   "metadata": {},
   "outputs": [
    {
     "data": {
      "text/html": [
       "<div>\n",
       "<style scoped>\n",
       "    .dataframe tbody tr th:only-of-type {\n",
       "        vertical-align: middle;\n",
       "    }\n",
       "\n",
       "    .dataframe tbody tr th {\n",
       "        vertical-align: top;\n",
       "    }\n",
       "\n",
       "    .dataframe thead th {\n",
       "        text-align: right;\n",
       "    }\n",
       "</style>\n",
       "<table border=\"1\" class=\"dataframe\">\n",
       "  <thead>\n",
       "    <tr style=\"text-align: right;\">\n",
       "      <th></th>\n",
       "      <th>Ethnicity(s)</th>\n",
       "      <th>Arrivals</th>\n",
       "      <th>Transplants</th>\n",
       "      <th>F(s) (Matched)</th>\n",
       "      <th>HLA(s) Antigen</th>\n",
       "      <th>HLA(s) Allele</th>\n",
       "      <th>HLA(s) Eplets</th>\n",
       "      <th>Waiting Time</th>\n",
       "      <th>L(s) (Left Unmatched)</th>\n",
       "      <th>1-F(s)-L(s) (Still in KEP)</th>\n",
       "      <th>HLA ClassI</th>\n",
       "      <th>HLA DR</th>\n",
       "      <th>HLA DQ</th>\n",
       "    </tr>\n",
       "  </thead>\n",
       "  <tbody>\n",
       "    <tr>\n",
       "      <th>0</th>\n",
       "      <td>1</td>\n",
       "      <td>592.09</td>\n",
       "      <td>384.16</td>\n",
       "      <td>0.649 [0.645; 0.652]</td>\n",
       "      <td>4.444 [4.429; 4.458]</td>\n",
       "      <td>3.203 [3.188; 3.217]</td>\n",
       "      <td>95.303 [95.199; 95.407]</td>\n",
       "      <td>3.605000</td>\n",
       "      <td>0.295 [0.291; 0.298]</td>\n",
       "      <td>0.057</td>\n",
       "      <td>2.394 [2.382; 2.405]</td>\n",
       "      <td>0.916 [0.910; 0.921]</td>\n",
       "      <td>1.134 [1.129; 1.139]</td>\n",
       "    </tr>\n",
       "    <tr>\n",
       "      <th>1</th>\n",
       "      <td>2</td>\n",
       "      <td>169.59</td>\n",
       "      <td>102.75</td>\n",
       "      <td>0.606 [0.600; 0.612]</td>\n",
       "      <td>3.807 [3.783; 3.832]</td>\n",
       "      <td>2.327 [2.303; 2.351]</td>\n",
       "      <td>92.900 [92.730; 93.071]</td>\n",
       "      <td>3.879000</td>\n",
       "      <td>0.327 [0.320; 0.335]</td>\n",
       "      <td>0.067</td>\n",
       "      <td>1.899 [1.877; 1.921]</td>\n",
       "      <td>0.814 [0.803; 0.826]</td>\n",
       "      <td>1.094 [1.083; 1.106]</td>\n",
       "    </tr>\n",
       "    <tr>\n",
       "      <th>2</th>\n",
       "      <td>4</td>\n",
       "      <td>147.42</td>\n",
       "      <td>103.01</td>\n",
       "      <td>0.699 [0.692; 0.706]</td>\n",
       "      <td>4.008 [3.980; 4.036]</td>\n",
       "      <td>2.458 [2.430; 2.485]</td>\n",
       "      <td>93.313 [93.125; 93.501]</td>\n",
       "      <td>3.389000</td>\n",
       "      <td>0.256 [0.249; 0.264]</td>\n",
       "      <td>0.045</td>\n",
       "      <td>2.133 [2.110; 2.155]</td>\n",
       "      <td>0.826 [0.813; 0.839]</td>\n",
       "      <td>1.049 [1.037; 1.061]</td>\n",
       "    </tr>\n",
       "    <tr>\n",
       "      <th>3</th>\n",
       "      <td>5</td>\n",
       "      <td>55.43</td>\n",
       "      <td>38.36</td>\n",
       "      <td>0.692 [0.683; 0.701]</td>\n",
       "      <td>3.868 [3.825; 3.912]</td>\n",
       "      <td>1.849 [1.811; 1.886]</td>\n",
       "      <td>91.385 [91.137; 91.634]</td>\n",
       "      <td>3.308000</td>\n",
       "      <td>0.258 [0.249; 0.268]</td>\n",
       "      <td>0.05</td>\n",
       "      <td>2.058 [2.024; 2.091]</td>\n",
       "      <td>0.756 [0.738; 0.775]</td>\n",
       "      <td>1.054 [1.036; 1.073]</td>\n",
       "    </tr>\n",
       "    <tr>\n",
       "      <th>4</th>\n",
       "      <td>6</td>\n",
       "      <td>7.93</td>\n",
       "      <td>6.03</td>\n",
       "      <td>0.761 [0.735; 0.787]</td>\n",
       "      <td>4.336 [4.223; 4.448]</td>\n",
       "      <td>2.955 [2.836; 3.074]</td>\n",
       "      <td>91.145 [90.482; 91.808]</td>\n",
       "      <td>2.695000</td>\n",
       "      <td>0.211 [0.186; 0.236]</td>\n",
       "      <td>0.028</td>\n",
       "      <td>2.249 [2.146; 2.353]</td>\n",
       "      <td>0.921 [0.877; 0.966]</td>\n",
       "      <td>1.166 [1.116; 1.215]</td>\n",
       "    </tr>\n",
       "    <tr>\n",
       "      <th>5</th>\n",
       "      <td>7</td>\n",
       "      <td>5.94</td>\n",
       "      <td>3.85</td>\n",
       "      <td>0.648 [0.620; 0.676]</td>\n",
       "      <td>3.330 [3.179; 3.482]</td>\n",
       "      <td>1.831 [1.715; 1.948]</td>\n",
       "      <td>92.182 [91.306; 93.057]</td>\n",
       "      <td>4.692000</td>\n",
       "      <td>0.290 [0.259; 0.322]</td>\n",
       "      <td>0.062</td>\n",
       "      <td>1.715 [1.606; 1.823]</td>\n",
       "      <td>0.665 [0.608; 0.721]</td>\n",
       "      <td>0.951 [0.882; 1.019]</td>\n",
       "    </tr>\n",
       "    <tr>\n",
       "      <th>6</th>\n",
       "      <td>Entire Population</td>\n",
       "      <td>978.40</td>\n",
       "      <td>638.16</td>\n",
       "      <td>0.652 [0.649; 0.655]</td>\n",
       "      <td>4.229 [4.219; 4.239]</td>\n",
       "      <td>2.850 [2.839; 2.860]</td>\n",
       "      <td>94.301 [94.222; 94.380]</td>\n",
       "      <td>3.597385</td>\n",
       "      <td>0.292 [0.288; 0.295]</td>\n",
       "      <td>0.056</td>\n",
       "      <td>2.246 [2.239; 2.254]</td>\n",
       "      <td>0.874 [0.870; 0.879]</td>\n",
       "      <td>1.108 [1.104; 1.113]</td>\n",
       "    </tr>\n",
       "  </tbody>\n",
       "</table>\n",
       "</div>"
      ],
      "text/plain": [
       "        Ethnicity(s)  Arrivals  Transplants        F(s) (Matched)  \\\n",
       "0                  1    592.09       384.16  0.649 [0.645; 0.652]   \n",
       "1                  2    169.59       102.75  0.606 [0.600; 0.612]   \n",
       "2                  4    147.42       103.01  0.699 [0.692; 0.706]   \n",
       "3                  5     55.43        38.36  0.692 [0.683; 0.701]   \n",
       "4                  6      7.93         6.03  0.761 [0.735; 0.787]   \n",
       "5                  7      5.94         3.85  0.648 [0.620; 0.676]   \n",
       "6  Entire Population    978.40       638.16  0.652 [0.649; 0.655]   \n",
       "\n",
       "         HLA(s) Antigen         HLA(s) Allele            HLA(s) Eplets  \\\n",
       "0  4.444 [4.429; 4.458]  3.203 [3.188; 3.217]  95.303 [95.199; 95.407]   \n",
       "1  3.807 [3.783; 3.832]  2.327 [2.303; 2.351]  92.900 [92.730; 93.071]   \n",
       "2  4.008 [3.980; 4.036]  2.458 [2.430; 2.485]  93.313 [93.125; 93.501]   \n",
       "3  3.868 [3.825; 3.912]  1.849 [1.811; 1.886]  91.385 [91.137; 91.634]   \n",
       "4  4.336 [4.223; 4.448]  2.955 [2.836; 3.074]  91.145 [90.482; 91.808]   \n",
       "5  3.330 [3.179; 3.482]  1.831 [1.715; 1.948]  92.182 [91.306; 93.057]   \n",
       "6  4.229 [4.219; 4.239]  2.850 [2.839; 2.860]  94.301 [94.222; 94.380]   \n",
       "\n",
       "   Waiting Time L(s) (Left Unmatched) 1-F(s)-L(s) (Still in KEP)  \\\n",
       "0      3.605000  0.295 [0.291; 0.298]                      0.057   \n",
       "1      3.879000  0.327 [0.320; 0.335]                      0.067   \n",
       "2      3.389000  0.256 [0.249; 0.264]                      0.045   \n",
       "3      3.308000  0.258 [0.249; 0.268]                       0.05   \n",
       "4      2.695000  0.211 [0.186; 0.236]                      0.028   \n",
       "5      4.692000  0.290 [0.259; 0.322]                      0.062   \n",
       "6      3.597385  0.292 [0.288; 0.295]                      0.056   \n",
       "\n",
       "             HLA ClassI                HLA DR                HLA DQ  \n",
       "0  2.394 [2.382; 2.405]  0.916 [0.910; 0.921]  1.134 [1.129; 1.139]  \n",
       "1  1.899 [1.877; 1.921]  0.814 [0.803; 0.826]  1.094 [1.083; 1.106]  \n",
       "2  2.133 [2.110; 2.155]  0.826 [0.813; 0.839]  1.049 [1.037; 1.061]  \n",
       "3  2.058 [2.024; 2.091]  0.756 [0.738; 0.775]  1.054 [1.036; 1.073]  \n",
       "4  2.249 [2.146; 2.353]  0.921 [0.877; 0.966]  1.166 [1.116; 1.215]  \n",
       "5  1.715 [1.606; 1.823]  0.665 [0.608; 0.721]  0.951 [0.882; 1.019]  \n",
       "6  2.246 [2.239; 2.254]  0.874 [0.870; 0.879]  1.108 [1.104; 1.113]  "
      ]
     },
     "execution_count": 54,
     "metadata": {},
     "output_type": "execute_result"
    }
   ],
   "source": [
    "df_final_table # este tiene la dision con P "
   ]
  }
 ],
 "metadata": {
  "kernelspec": {
   "display_name": "Python 3",
   "language": "python",
   "name": "python3"
  },
  "language_info": {
   "codemirror_mode": {
    "name": "ipython",
    "version": 3
   },
   "file_extension": ".py",
   "mimetype": "text/x-python",
   "name": "python",
   "nbconvert_exporter": "python",
   "pygments_lexer": "ipython3",
   "version": "3.13.5"
  }
 },
 "nbformat": 4,
 "nbformat_minor": 2
}
